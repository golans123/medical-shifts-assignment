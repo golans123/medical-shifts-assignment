{
 "cells": [
  {
   "cell_type": "code",
   "execution_count": 113,
   "id": "a09912dc-2726-43a6-b464-63a340b0aade",
   "metadata": {},
   "outputs": [],
   "source": [
    "import numpy as np\n",
    "import pandas as pd\n",
    "import plotly.express as px\n",
    "# IMPORTANT: the aim is not to use these plots in order to choose a specific threshold for the calculations, but rather to display them in a \"Dash app\"\n",
    "# to allow the user to choose thresholds manually "
   ]
  },
  {
   "cell_type": "code",
   "execution_count": 114,
   "id": "6da22474-8bf5-4fa5-b5f5-4b31be748a6c",
   "metadata": {},
   "outputs": [
    {
     "data": {
      "text/html": [
       "<div>\n",
       "<style scoped>\n",
       "    .dataframe tbody tr th:only-of-type {\n",
       "        vertical-align: middle;\n",
       "    }\n",
       "\n",
       "    .dataframe tbody tr th {\n",
       "        vertical-align: top;\n",
       "    }\n",
       "\n",
       "    .dataframe thead th {\n",
       "        text-align: right;\n",
       "    }\n",
       "</style>\n",
       "<table border=\"1\" class=\"dataframe\">\n",
       "  <thead>\n",
       "    <tr style=\"text-align: right;\">\n",
       "      <th></th>\n",
       "      <th>scores</th>\n",
       "    </tr>\n",
       "  </thead>\n",
       "  <tbody>\n",
       "    <tr>\n",
       "      <th>count</th>\n",
       "      <td>1.0</td>\n",
       "    </tr>\n",
       "    <tr>\n",
       "      <th>mean</th>\n",
       "      <td>0.0</td>\n",
       "    </tr>\n",
       "    <tr>\n",
       "      <th>std</th>\n",
       "      <td>NaN</td>\n",
       "    </tr>\n",
       "    <tr>\n",
       "      <th>min</th>\n",
       "      <td>0.0</td>\n",
       "    </tr>\n",
       "    <tr>\n",
       "      <th>25%</th>\n",
       "      <td>0.0</td>\n",
       "    </tr>\n",
       "    <tr>\n",
       "      <th>50%</th>\n",
       "      <td>0.0</td>\n",
       "    </tr>\n",
       "    <tr>\n",
       "      <th>75%</th>\n",
       "      <td>0.0</td>\n",
       "    </tr>\n",
       "    <tr>\n",
       "      <th>max</th>\n",
       "      <td>0.0</td>\n",
       "    </tr>\n",
       "  </tbody>\n",
       "</table>\n",
       "</div>"
      ],
      "text/plain": [
       "       scores\n",
       "count     1.0\n",
       "mean      0.0\n",
       "std       NaN\n",
       "min       0.0\n",
       "25%       0.0\n",
       "50%       0.0\n",
       "75%       0.0\n",
       "max       0.0"
      ]
     },
     "execution_count": 114,
     "metadata": {},
     "output_type": "execute_result"
    }
   ],
   "source": [
    "df = pd.DataFrame(pd.read_csv(\"scores_df.csv\").iloc[:,1])\n",
    "df.rename({\"0\":\"scores\"}, axis=1, inplace=True)\n",
    "df.describe()"
   ]
  },
  {
   "cell_type": "code",
   "execution_count": 115,
   "id": "4b45b2c5-44bc-4681-aa46-5d06a737d56e",
   "metadata": {},
   "outputs": [
    {
     "data": {
      "text/html": [
       "<div>\n",
       "<style scoped>\n",
       "    .dataframe tbody tr th:only-of-type {\n",
       "        vertical-align: middle;\n",
       "    }\n",
       "\n",
       "    .dataframe tbody tr th {\n",
       "        vertical-align: top;\n",
       "    }\n",
       "\n",
       "    .dataframe thead th {\n",
       "        text-align: right;\n",
       "    }\n",
       "</style>\n",
       "<table border=\"1\" class=\"dataframe\">\n",
       "  <thead>\n",
       "    <tr style=\"text-align: right;\">\n",
       "      <th></th>\n",
       "      <th>scores</th>\n",
       "    </tr>\n",
       "  </thead>\n",
       "  <tbody>\n",
       "    <tr>\n",
       "      <th>0</th>\n",
       "      <td>0</td>\n",
       "    </tr>\n",
       "  </tbody>\n",
       "</table>\n",
       "</div>"
      ],
      "text/plain": [
       "   scores\n",
       "0       0"
      ]
     },
     "execution_count": 115,
     "metadata": {},
     "output_type": "execute_result"
    }
   ],
   "source": [
    "df.head()"
   ]
  },
  {
   "cell_type": "code",
   "execution_count": 116,
   "id": "32f98f0b-5d9e-4f97-9761-8364134b217e",
   "metadata": {},
   "outputs": [
    {
     "data": {
      "application/vnd.plotly.v1+json": {
       "config": {
        "plotlyServerURL": "https://plot.ly"
       },
       "data": [
        {
         "alignmentgroup": "True",
         "bingroup": "x",
         "hovertemplate": "scores=%{x}<br>count=%{y}<extra></extra>",
         "legendgroup": "",
         "marker": {
          "color": "#636efa",
          "pattern": {
           "shape": ""
          }
         },
         "name": "",
         "offsetgroup": "",
         "orientation": "v",
         "showlegend": false,
         "type": "histogram",
         "x": [
          0
         ],
         "xaxis": "x",
         "yaxis": "y"
        }
       ],
       "layout": {
        "autosize": true,
        "barmode": "relative",
        "legend": {
         "tracegroupgap": 0
        },
        "margin": {
         "t": 60
        },
        "template": {
         "data": {
          "bar": [
           {
            "error_x": {
             "color": "#2a3f5f"
            },
            "error_y": {
             "color": "#2a3f5f"
            },
            "marker": {
             "line": {
              "color": "#E5ECF6",
              "width": 0.5
             },
             "pattern": {
              "fillmode": "overlay",
              "size": 10,
              "solidity": 0.2
             }
            },
            "type": "bar"
           }
          ],
          "barpolar": [
           {
            "marker": {
             "line": {
              "color": "#E5ECF6",
              "width": 0.5
             },
             "pattern": {
              "fillmode": "overlay",
              "size": 10,
              "solidity": 0.2
             }
            },
            "type": "barpolar"
           }
          ],
          "carpet": [
           {
            "aaxis": {
             "endlinecolor": "#2a3f5f",
             "gridcolor": "white",
             "linecolor": "white",
             "minorgridcolor": "white",
             "startlinecolor": "#2a3f5f"
            },
            "baxis": {
             "endlinecolor": "#2a3f5f",
             "gridcolor": "white",
             "linecolor": "white",
             "minorgridcolor": "white",
             "startlinecolor": "#2a3f5f"
            },
            "type": "carpet"
           }
          ],
          "choropleth": [
           {
            "colorbar": {
             "outlinewidth": 0,
             "ticks": ""
            },
            "type": "choropleth"
           }
          ],
          "contour": [
           {
            "colorbar": {
             "outlinewidth": 0,
             "ticks": ""
            },
            "colorscale": [
             [
              0,
              "#0d0887"
             ],
             [
              0.1111111111111111,
              "#46039f"
             ],
             [
              0.2222222222222222,
              "#7201a8"
             ],
             [
              0.3333333333333333,
              "#9c179e"
             ],
             [
              0.4444444444444444,
              "#bd3786"
             ],
             [
              0.5555555555555556,
              "#d8576b"
             ],
             [
              0.6666666666666666,
              "#ed7953"
             ],
             [
              0.7777777777777778,
              "#fb9f3a"
             ],
             [
              0.8888888888888888,
              "#fdca26"
             ],
             [
              1,
              "#f0f921"
             ]
            ],
            "type": "contour"
           }
          ],
          "contourcarpet": [
           {
            "colorbar": {
             "outlinewidth": 0,
             "ticks": ""
            },
            "type": "contourcarpet"
           }
          ],
          "heatmap": [
           {
            "colorbar": {
             "outlinewidth": 0,
             "ticks": ""
            },
            "colorscale": [
             [
              0,
              "#0d0887"
             ],
             [
              0.1111111111111111,
              "#46039f"
             ],
             [
              0.2222222222222222,
              "#7201a8"
             ],
             [
              0.3333333333333333,
              "#9c179e"
             ],
             [
              0.4444444444444444,
              "#bd3786"
             ],
             [
              0.5555555555555556,
              "#d8576b"
             ],
             [
              0.6666666666666666,
              "#ed7953"
             ],
             [
              0.7777777777777778,
              "#fb9f3a"
             ],
             [
              0.8888888888888888,
              "#fdca26"
             ],
             [
              1,
              "#f0f921"
             ]
            ],
            "type": "heatmap"
           }
          ],
          "heatmapgl": [
           {
            "colorbar": {
             "outlinewidth": 0,
             "ticks": ""
            },
            "colorscale": [
             [
              0,
              "#0d0887"
             ],
             [
              0.1111111111111111,
              "#46039f"
             ],
             [
              0.2222222222222222,
              "#7201a8"
             ],
             [
              0.3333333333333333,
              "#9c179e"
             ],
             [
              0.4444444444444444,
              "#bd3786"
             ],
             [
              0.5555555555555556,
              "#d8576b"
             ],
             [
              0.6666666666666666,
              "#ed7953"
             ],
             [
              0.7777777777777778,
              "#fb9f3a"
             ],
             [
              0.8888888888888888,
              "#fdca26"
             ],
             [
              1,
              "#f0f921"
             ]
            ],
            "type": "heatmapgl"
           }
          ],
          "histogram": [
           {
            "marker": {
             "pattern": {
              "fillmode": "overlay",
              "size": 10,
              "solidity": 0.2
             }
            },
            "type": "histogram"
           }
          ],
          "histogram2d": [
           {
            "colorbar": {
             "outlinewidth": 0,
             "ticks": ""
            },
            "colorscale": [
             [
              0,
              "#0d0887"
             ],
             [
              0.1111111111111111,
              "#46039f"
             ],
             [
              0.2222222222222222,
              "#7201a8"
             ],
             [
              0.3333333333333333,
              "#9c179e"
             ],
             [
              0.4444444444444444,
              "#bd3786"
             ],
             [
              0.5555555555555556,
              "#d8576b"
             ],
             [
              0.6666666666666666,
              "#ed7953"
             ],
             [
              0.7777777777777778,
              "#fb9f3a"
             ],
             [
              0.8888888888888888,
              "#fdca26"
             ],
             [
              1,
              "#f0f921"
             ]
            ],
            "type": "histogram2d"
           }
          ],
          "histogram2dcontour": [
           {
            "colorbar": {
             "outlinewidth": 0,
             "ticks": ""
            },
            "colorscale": [
             [
              0,
              "#0d0887"
             ],
             [
              0.1111111111111111,
              "#46039f"
             ],
             [
              0.2222222222222222,
              "#7201a8"
             ],
             [
              0.3333333333333333,
              "#9c179e"
             ],
             [
              0.4444444444444444,
              "#bd3786"
             ],
             [
              0.5555555555555556,
              "#d8576b"
             ],
             [
              0.6666666666666666,
              "#ed7953"
             ],
             [
              0.7777777777777778,
              "#fb9f3a"
             ],
             [
              0.8888888888888888,
              "#fdca26"
             ],
             [
              1,
              "#f0f921"
             ]
            ],
            "type": "histogram2dcontour"
           }
          ],
          "mesh3d": [
           {
            "colorbar": {
             "outlinewidth": 0,
             "ticks": ""
            },
            "type": "mesh3d"
           }
          ],
          "parcoords": [
           {
            "line": {
             "colorbar": {
              "outlinewidth": 0,
              "ticks": ""
             }
            },
            "type": "parcoords"
           }
          ],
          "pie": [
           {
            "automargin": true,
            "type": "pie"
           }
          ],
          "scatter": [
           {
            "fillpattern": {
             "fillmode": "overlay",
             "size": 10,
             "solidity": 0.2
            },
            "type": "scatter"
           }
          ],
          "scatter3d": [
           {
            "line": {
             "colorbar": {
              "outlinewidth": 0,
              "ticks": ""
             }
            },
            "marker": {
             "colorbar": {
              "outlinewidth": 0,
              "ticks": ""
             }
            },
            "type": "scatter3d"
           }
          ],
          "scattercarpet": [
           {
            "marker": {
             "colorbar": {
              "outlinewidth": 0,
              "ticks": ""
             }
            },
            "type": "scattercarpet"
           }
          ],
          "scattergeo": [
           {
            "marker": {
             "colorbar": {
              "outlinewidth": 0,
              "ticks": ""
             }
            },
            "type": "scattergeo"
           }
          ],
          "scattergl": [
           {
            "marker": {
             "colorbar": {
              "outlinewidth": 0,
              "ticks": ""
             }
            },
            "type": "scattergl"
           }
          ],
          "scattermapbox": [
           {
            "marker": {
             "colorbar": {
              "outlinewidth": 0,
              "ticks": ""
             }
            },
            "type": "scattermapbox"
           }
          ],
          "scatterpolar": [
           {
            "marker": {
             "colorbar": {
              "outlinewidth": 0,
              "ticks": ""
             }
            },
            "type": "scatterpolar"
           }
          ],
          "scatterpolargl": [
           {
            "marker": {
             "colorbar": {
              "outlinewidth": 0,
              "ticks": ""
             }
            },
            "type": "scatterpolargl"
           }
          ],
          "scatterternary": [
           {
            "marker": {
             "colorbar": {
              "outlinewidth": 0,
              "ticks": ""
             }
            },
            "type": "scatterternary"
           }
          ],
          "surface": [
           {
            "colorbar": {
             "outlinewidth": 0,
             "ticks": ""
            },
            "colorscale": [
             [
              0,
              "#0d0887"
             ],
             [
              0.1111111111111111,
              "#46039f"
             ],
             [
              0.2222222222222222,
              "#7201a8"
             ],
             [
              0.3333333333333333,
              "#9c179e"
             ],
             [
              0.4444444444444444,
              "#bd3786"
             ],
             [
              0.5555555555555556,
              "#d8576b"
             ],
             [
              0.6666666666666666,
              "#ed7953"
             ],
             [
              0.7777777777777778,
              "#fb9f3a"
             ],
             [
              0.8888888888888888,
              "#fdca26"
             ],
             [
              1,
              "#f0f921"
             ]
            ],
            "type": "surface"
           }
          ],
          "table": [
           {
            "cells": {
             "fill": {
              "color": "#EBF0F8"
             },
             "line": {
              "color": "white"
             }
            },
            "header": {
             "fill": {
              "color": "#C8D4E3"
             },
             "line": {
              "color": "white"
             }
            },
            "type": "table"
           }
          ]
         },
         "layout": {
          "annotationdefaults": {
           "arrowcolor": "#2a3f5f",
           "arrowhead": 0,
           "arrowwidth": 1
          },
          "autotypenumbers": "strict",
          "coloraxis": {
           "colorbar": {
            "outlinewidth": 0,
            "ticks": ""
           }
          },
          "colorscale": {
           "diverging": [
            [
             0,
             "#8e0152"
            ],
            [
             0.1,
             "#c51b7d"
            ],
            [
             0.2,
             "#de77ae"
            ],
            [
             0.3,
             "#f1b6da"
            ],
            [
             0.4,
             "#fde0ef"
            ],
            [
             0.5,
             "#f7f7f7"
            ],
            [
             0.6,
             "#e6f5d0"
            ],
            [
             0.7,
             "#b8e186"
            ],
            [
             0.8,
             "#7fbc41"
            ],
            [
             0.9,
             "#4d9221"
            ],
            [
             1,
             "#276419"
            ]
           ],
           "sequential": [
            [
             0,
             "#0d0887"
            ],
            [
             0.1111111111111111,
             "#46039f"
            ],
            [
             0.2222222222222222,
             "#7201a8"
            ],
            [
             0.3333333333333333,
             "#9c179e"
            ],
            [
             0.4444444444444444,
             "#bd3786"
            ],
            [
             0.5555555555555556,
             "#d8576b"
            ],
            [
             0.6666666666666666,
             "#ed7953"
            ],
            [
             0.7777777777777778,
             "#fb9f3a"
            ],
            [
             0.8888888888888888,
             "#fdca26"
            ],
            [
             1,
             "#f0f921"
            ]
           ],
           "sequentialminus": [
            [
             0,
             "#0d0887"
            ],
            [
             0.1111111111111111,
             "#46039f"
            ],
            [
             0.2222222222222222,
             "#7201a8"
            ],
            [
             0.3333333333333333,
             "#9c179e"
            ],
            [
             0.4444444444444444,
             "#bd3786"
            ],
            [
             0.5555555555555556,
             "#d8576b"
            ],
            [
             0.6666666666666666,
             "#ed7953"
            ],
            [
             0.7777777777777778,
             "#fb9f3a"
            ],
            [
             0.8888888888888888,
             "#fdca26"
            ],
            [
             1,
             "#f0f921"
            ]
           ]
          },
          "colorway": [
           "#636efa",
           "#EF553B",
           "#00cc96",
           "#ab63fa",
           "#FFA15A",
           "#19d3f3",
           "#FF6692",
           "#B6E880",
           "#FF97FF",
           "#FECB52"
          ],
          "font": {
           "color": "#2a3f5f"
          },
          "geo": {
           "bgcolor": "white",
           "lakecolor": "white",
           "landcolor": "#E5ECF6",
           "showlakes": true,
           "showland": true,
           "subunitcolor": "white"
          },
          "hoverlabel": {
           "align": "left"
          },
          "hovermode": "closest",
          "mapbox": {
           "style": "light"
          },
          "paper_bgcolor": "white",
          "plot_bgcolor": "#E5ECF6",
          "polar": {
           "angularaxis": {
            "gridcolor": "white",
            "linecolor": "white",
            "ticks": ""
           },
           "bgcolor": "#E5ECF6",
           "radialaxis": {
            "gridcolor": "white",
            "linecolor": "white",
            "ticks": ""
           }
          },
          "scene": {
           "xaxis": {
            "backgroundcolor": "#E5ECF6",
            "gridcolor": "white",
            "gridwidth": 2,
            "linecolor": "white",
            "showbackground": true,
            "ticks": "",
            "zerolinecolor": "white"
           },
           "yaxis": {
            "backgroundcolor": "#E5ECF6",
            "gridcolor": "white",
            "gridwidth": 2,
            "linecolor": "white",
            "showbackground": true,
            "ticks": "",
            "zerolinecolor": "white"
           },
           "zaxis": {
            "backgroundcolor": "#E5ECF6",
            "gridcolor": "white",
            "gridwidth": 2,
            "linecolor": "white",
            "showbackground": true,
            "ticks": "",
            "zerolinecolor": "white"
           }
          },
          "shapedefaults": {
           "line": {
            "color": "#2a3f5f"
           }
          },
          "ternary": {
           "aaxis": {
            "gridcolor": "white",
            "linecolor": "white",
            "ticks": ""
           },
           "baxis": {
            "gridcolor": "white",
            "linecolor": "white",
            "ticks": ""
           },
           "bgcolor": "#E5ECF6",
           "caxis": {
            "gridcolor": "white",
            "linecolor": "white",
            "ticks": ""
           }
          },
          "title": {
           "x": 0.05
          },
          "xaxis": {
           "automargin": true,
           "gridcolor": "white",
           "linecolor": "white",
           "ticks": "",
           "title": {
            "standoff": 15
           },
           "zerolinecolor": "white",
           "zerolinewidth": 2
          },
          "yaxis": {
           "automargin": true,
           "gridcolor": "white",
           "linecolor": "white",
           "ticks": "",
           "title": {
            "standoff": 15
           },
           "zerolinecolor": "white",
           "zerolinewidth": 2
          }
         }
        },
        "xaxis": {
         "anchor": "y",
         "autorange": true,
         "domain": [
          0,
          1
         ],
         "range": [
          -0.5,
          0.5
         ],
         "title": {
          "text": "scores"
         },
         "type": "linear"
        },
        "yaxis": {
         "anchor": "x",
         "autorange": true,
         "domain": [
          0,
          1
         ],
         "range": [
          0,
          1.0526315789473684
         ],
         "title": {
          "text": "count"
         }
        }
       }
      },
      "image/png": "[encoded data removed]",
      "text/html": [
       "<div>                            <div id=\"2cf7cafa-815e-40f7-9521-b0ea4ac455c7\" class=\"plotly-graph-div\" style=\"height:525px; width:100%;\"></div>            <script type=\"text/javascript\">                require([\"plotly\"], function(Plotly) {                    window.PLOTLYENV=window.PLOTLYENV || {};                                    if (document.getElementById(\"2cf7cafa-815e-40f7-9521-b0ea4ac455c7\")) {                    Plotly.newPlot(                        \"2cf7cafa-815e-40f7-9521-b0ea4ac455c7\",                        [{\"alignmentgroup\":\"True\",\"bingroup\":\"x\",\"hovertemplate\":\"scores=%{x}<br>count=%{y}<extra></extra>\",\"legendgroup\":\"\",\"marker\":{\"color\":\"#636efa\",\"pattern\":{\"shape\":\"\"}},\"name\":\"\",\"offsetgroup\":\"\",\"orientation\":\"v\",\"showlegend\":false,\"x\":[0],\"xaxis\":\"x\",\"yaxis\":\"y\",\"type\":\"histogram\"}],                        {\"template\":{\"data\":{\"histogram2dcontour\":[{\"type\":\"histogram2dcontour\",\"colorbar\":{\"outlinewidth\":0,\"ticks\":\"\"},\"colorscale\":[[0.0,\"#0d0887\"],[0.1111111111111111,\"#46039f\"],[0.2222222222222222,\"#7201a8\"],[0.3333333333333333,\"#9c179e\"],[0.4444444444444444,\"#bd3786\"],[0.5555555555555556,\"#d8576b\"],[0.6666666666666666,\"#ed7953\"],[0.7777777777777778,\"#fb9f3a\"],[0.8888888888888888,\"#fdca26\"],[1.0,\"#f0f921\"]]}],\"choropleth\":[{\"type\":\"choropleth\",\"colorbar\":{\"outlinewidth\":0,\"ticks\":\"\"}}],\"histogram2d\":[{\"type\":\"histogram2d\",\"colorbar\":{\"outlinewidth\":0,\"ticks\":\"\"},\"colorscale\":[[0.0,\"#0d0887\"],[0.1111111111111111,\"#46039f\"],[0.2222222222222222,\"#7201a8\"],[0.3333333333333333,\"#9c179e\"],[0.4444444444444444,\"#bd3786\"],[0.5555555555555556,\"#d8576b\"],[0.6666666666666666,\"#ed7953\"],[0.7777777777777778,\"#fb9f3a\"],[0.8888888888888888,\"#fdca26\"],[1.0,\"#f0f921\"]]}],\"heatmap\":[{\"type\":\"heatmap\",\"colorbar\":{\"outlinewidth\":0,\"ticks\":\"\"},\"colorscale\":[[0.0,\"#0d0887\"],[0.1111111111111111,\"#46039f\"],[0.2222222222222222,\"#7201a8\"],[0.3333333333333333,\"#9c179e\"],[0.4444444444444444,\"#bd3786\"],[0.5555555555555556,\"#d8576b\"],[0.6666666666666666,\"#ed7953\"],[0.7777777777777778,\"#fb9f3a\"],[0.8888888888888888,\"#fdca26\"],[1.0,\"#f0f921\"]]}],\"heatmapgl\":[{\"type\":\"heatmapgl\",\"colorbar\":{\"outlinewidth\":0,\"ticks\":\"\"},\"colorscale\":[[0.0,\"#0d0887\"],[0.1111111111111111,\"#46039f\"],[0.2222222222222222,\"#7201a8\"],[0.3333333333333333,\"#9c179e\"],[0.4444444444444444,\"#bd3786\"],[0.5555555555555556,\"#d8576b\"],[0.6666666666666666,\"#ed7953\"],[0.7777777777777778,\"#fb9f3a\"],[0.8888888888888888,\"#fdca26\"],[1.0,\"#f0f921\"]]}],\"contourcarpet\":[{\"type\":\"contourcarpet\",\"colorbar\":{\"outlinewidth\":0,\"ticks\":\"\"}}],\"contour\":[{\"type\":\"contour\",\"colorbar\":{\"outlinewidth\":0,\"ticks\":\"\"},\"colorscale\":[[0.0,\"#0d0887\"],[0.1111111111111111,\"#46039f\"],[0.2222222222222222,\"#7201a8\"],[0.3333333333333333,\"#9c179e\"],[0.4444444444444444,\"#bd3786\"],[0.5555555555555556,\"#d8576b\"],[0.6666666666666666,\"#ed7953\"],[0.7777777777777778,\"#fb9f3a\"],[0.8888888888888888,\"#fdca26\"],[1.0,\"#f0f921\"]]}],\"surface\":[{\"type\":\"surface\",\"colorbar\":{\"outlinewidth\":0,\"ticks\":\"\"},\"colorscale\":[[0.0,\"#0d0887\"],[0.1111111111111111,\"#46039f\"],[0.2222222222222222,\"#7201a8\"],[0.3333333333333333,\"#9c179e\"],[0.4444444444444444,\"#bd3786\"],[0.5555555555555556,\"#d8576b\"],[0.6666666666666666,\"#ed7953\"],[0.7777777777777778,\"#fb9f3a\"],[0.8888888888888888,\"#fdca26\"],[1.0,\"#f0f921\"]]}],\"mesh3d\":[{\"type\":\"mesh3d\",\"colorbar\":{\"outlinewidth\":0,\"ticks\":\"\"}}],\"scatter\":[{\"fillpattern\":{\"fillmode\":\"overlay\",\"size\":10,\"solidity\":0.2},\"type\":\"scatter\"}],\"parcoords\":[{\"type\":\"parcoords\",\"line\":{\"colorbar\":{\"outlinewidth\":0,\"ticks\":\"\"}}}],\"scatterpolargl\":[{\"type\":\"scatterpolargl\",\"marker\":{\"colorbar\":{\"outlinewidth\":0,\"ticks\":\"\"}}}],\"bar\":[{\"error_x\":{\"color\":\"#2a3f5f\"},\"error_y\":{\"color\":\"#2a3f5f\"},\"marker\":{\"line\":{\"color\":\"#E5ECF6\",\"width\":0.5},\"pattern\":{\"fillmode\":\"overlay\",\"size\":10,\"solidity\":0.2}},\"type\":\"bar\"}],\"scattergeo\":[{\"type\":\"scattergeo\",\"marker\":{\"colorbar\":{\"outlinewidth\":0,\"ticks\":\"\"}}}],\"scatterpolar\":[{\"type\":\"scatterpolar\",\"marker\":{\"colorbar\":{\"outlinewidth\":0,\"ticks\":\"\"}}}],\"histogram\":[{\"marker\":{\"pattern\":{\"fillmode\":\"overlay\",\"size\":10,\"solidity\":0.2}},\"type\":\"histogram\"}],\"scattergl\":[{\"type\":\"scattergl\",\"marker\":{\"colorbar\":{\"outlinewidth\":0,\"ticks\":\"\"}}}],\"scatter3d\":[{\"type\":\"scatter3d\",\"line\":{\"colorbar\":{\"outlinewidth\":0,\"ticks\":\"\"}},\"marker\":{\"colorbar\":{\"outlinewidth\":0,\"ticks\":\"\"}}}],\"scattermapbox\":[{\"type\":\"scattermapbox\",\"marker\":{\"colorbar\":{\"outlinewidth\":0,\"ticks\":\"\"}}}],\"scatterternary\":[{\"type\":\"scatterternary\",\"marker\":{\"colorbar\":{\"outlinewidth\":0,\"ticks\":\"\"}}}],\"scattercarpet\":[{\"type\":\"scattercarpet\",\"marker\":{\"colorbar\":{\"outlinewidth\":0,\"ticks\":\"\"}}}],\"carpet\":[{\"aaxis\":{\"endlinecolor\":\"#2a3f5f\",\"gridcolor\":\"white\",\"linecolor\":\"white\",\"minorgridcolor\":\"white\",\"startlinecolor\":\"#2a3f5f\"},\"baxis\":{\"endlinecolor\":\"#2a3f5f\",\"gridcolor\":\"white\",\"linecolor\":\"white\",\"minorgridcolor\":\"white\",\"startlinecolor\":\"#2a3f5f\"},\"type\":\"carpet\"}],\"table\":[{\"cells\":{\"fill\":{\"color\":\"#EBF0F8\"},\"line\":{\"color\":\"white\"}},\"header\":{\"fill\":{\"color\":\"#C8D4E3\"},\"line\":{\"color\":\"white\"}},\"type\":\"table\"}],\"barpolar\":[{\"marker\":{\"line\":{\"color\":\"#E5ECF6\",\"width\":0.5},\"pattern\":{\"fillmode\":\"overlay\",\"size\":10,\"solidity\":0.2}},\"type\":\"barpolar\"}],\"pie\":[{\"automargin\":true,\"type\":\"pie\"}]},\"layout\":{\"autotypenumbers\":\"strict\",\"colorway\":[\"#636efa\",\"#EF553B\",\"#00cc96\",\"#ab63fa\",\"#FFA15A\",\"#19d3f3\",\"#FF6692\",\"#B6E880\",\"#FF97FF\",\"#FECB52\"],\"font\":{\"color\":\"#2a3f5f\"},\"hovermode\":\"closest\",\"hoverlabel\":{\"align\":\"left\"},\"paper_bgcolor\":\"white\",\"plot_bgcolor\":\"#E5ECF6\",\"polar\":{\"bgcolor\":\"#E5ECF6\",\"angularaxis\":{\"gridcolor\":\"white\",\"linecolor\":\"white\",\"ticks\":\"\"},\"radialaxis\":{\"gridcolor\":\"white\",\"linecolor\":\"white\",\"ticks\":\"\"}},\"ternary\":{\"bgcolor\":\"#E5ECF6\",\"aaxis\":{\"gridcolor\":\"white\",\"linecolor\":\"white\",\"ticks\":\"\"},\"baxis\":{\"gridcolor\":\"white\",\"linecolor\":\"white\",\"ticks\":\"\"},\"caxis\":{\"gridcolor\":\"white\",\"linecolor\":\"white\",\"ticks\":\"\"}},\"coloraxis\":{\"colorbar\":{\"outlinewidth\":0,\"ticks\":\"\"}},\"colorscale\":{\"sequential\":[[0.0,\"#0d0887\"],[0.1111111111111111,\"#46039f\"],[0.2222222222222222,\"#7201a8\"],[0.3333333333333333,\"#9c179e\"],[0.4444444444444444,\"#bd3786\"],[0.5555555555555556,\"#d8576b\"],[0.6666666666666666,\"#ed7953\"],[0.7777777777777778,\"#fb9f3a\"],[0.8888888888888888,\"#fdca26\"],[1.0,\"#f0f921\"]],\"sequentialminus\":[[0.0,\"#0d0887\"],[0.1111111111111111,\"#46039f\"],[0.2222222222222222,\"#7201a8\"],[0.3333333333333333,\"#9c179e\"],[0.4444444444444444,\"#bd3786\"],[0.5555555555555556,\"#d8576b\"],[0.6666666666666666,\"#ed7953\"],[0.7777777777777778,\"#fb9f3a\"],[0.8888888888888888,\"#fdca26\"],[1.0,\"#f0f921\"]],\"diverging\":[[0,\"#8e0152\"],[0.1,\"#c51b7d\"],[0.2,\"#de77ae\"],[0.3,\"#f1b6da\"],[0.4,\"#fde0ef\"],[0.5,\"#f7f7f7\"],[0.6,\"#e6f5d0\"],[0.7,\"#b8e186\"],[0.8,\"#7fbc41\"],[0.9,\"#4d9221\"],[1,\"#276419\"]]},\"xaxis\":{\"gridcolor\":\"white\",\"linecolor\":\"white\",\"ticks\":\"\",\"title\":{\"standoff\":15},\"zerolinecolor\":\"white\",\"automargin\":true,\"zerolinewidth\":2},\"yaxis\":{\"gridcolor\":\"white\",\"linecolor\":\"white\",\"ticks\":\"\",\"title\":{\"standoff\":15},\"zerolinecolor\":\"white\",\"automargin\":true,\"zerolinewidth\":2},\"scene\":{\"xaxis\":{\"backgroundcolor\":\"#E5ECF6\",\"gridcolor\":\"white\",\"linecolor\":\"white\",\"showbackground\":true,\"ticks\":\"\",\"zerolinecolor\":\"white\",\"gridwidth\":2},\"yaxis\":{\"backgroundcolor\":\"#E5ECF6\",\"gridcolor\":\"white\",\"linecolor\":\"white\",\"showbackground\":true,\"ticks\":\"\",\"zerolinecolor\":\"white\",\"gridwidth\":2},\"zaxis\":{\"backgroundcolor\":\"#E5ECF6\",\"gridcolor\":\"white\",\"linecolor\":\"white\",\"showbackground\":true,\"ticks\":\"\",\"zerolinecolor\":\"white\",\"gridwidth\":2}},\"shapedefaults\":{\"line\":{\"color\":\"#2a3f5f\"}},\"annotationdefaults\":{\"arrowcolor\":\"#2a3f5f\",\"arrowhead\":0,\"arrowwidth\":1},\"geo\":{\"bgcolor\":\"white\",\"landcolor\":\"#E5ECF6\",\"subunitcolor\":\"white\",\"showland\":true,\"showlakes\":true,\"lakecolor\":\"white\"},\"title\":{\"x\":0.05},\"mapbox\":{\"style\":\"light\"}}},\"xaxis\":{\"anchor\":\"y\",\"domain\":[0.0,1.0],\"title\":{\"text\":\"scores\"}},\"yaxis\":{\"anchor\":\"x\",\"domain\":[0.0,1.0],\"title\":{\"text\":\"count\"}},\"legend\":{\"tracegroupgap\":0},\"margin\":{\"t\":60},\"barmode\":\"relative\"},                        {\"responsive\": true}                    ).then(function(){\n",
       "                            \n",
       "var gd = document.getElementById('2cf7cafa-815e-40f7-9521-b0ea4ac455c7');\n",
       "var x = new MutationObserver(function (mutations, observer) {{\n",
       "        var display = window.getComputedStyle(gd).display;\n",
       "        if (!display || display === 'none') {{\n",
       "            console.log([gd, 'removed!']);\n",
       "            Plotly.purge(gd);\n",
       "            observer.disconnect();\n",
       "        }}\n",
       "}});\n",
       "\n",
       "// Listen for the removal of the full notebook cells\n",
       "var notebookContainer = gd.closest('#notebook-container');\n",
       "if (notebookContainer) {{\n",
       "    x.observe(notebookContainer, {childList: true});\n",
       "}}\n",
       "\n",
       "// Listen for the clearing of the current output cell\n",
       "var outputEl = gd.closest('.output');\n",
       "if (outputEl) {{\n",
       "    x.observe(outputEl, {childList: true});\n",
       "}}\n",
       "\n",
       "                        })                };                });            </script>        </div>"
      ]
     },
     "metadata": {},
     "output_type": "display_data"
    }
   ],
   "source": [
    "px.histogram(df, x=\"scores\", y=None)"
   ]
  },
  {
   "cell_type": "code",
   "execution_count": 117,
   "id": "51fb37b9-ff3c-4270-a796-5c077414bd66",
   "metadata": {},
   "outputs": [
    {
     "name": "stdout",
     "output_type": "stream",
     "text": [
      "(720, 2, 8)\n"
     ]
    },
    {
     "data": {
      "text/plain": [
       "array([[0.01360544, 0.05844156, 0.        , 0.05780347, 0.04294479,\n",
       "        0.03144654, 0.        , 0.06289308],\n",
       "       [1.        , 1.        , 0.        , 1.        , 1.        ,\n",
       "        1.        , 0.        , 1.        ]])"
      ]
     },
     "execution_count": 117,
     "metadata": {},
     "output_type": "execute_result"
    }
   ],
   "source": [
    "week_number = 0\n",
    "current_week_calendars = np.load(file=f\"jup_week_calendars{week_number}.npy\", mmap_mode=None, allow_pickle=True, fix_imports=False, encoding=\"ASCII\")\n",
    "current_week_calendars_scores = []\n",
    "for calendar in current_week_calendars:\n",
    "    calendar = calendar[1]\n",
    "    current_week_calendars_scores.append(calendar)\n",
    "    # print(calendar)\n",
    "current_week_calendars_scores = np.array(current_week_calendars_scores)\n",
    "# shape is [no. elements, 2, no. interns]\n",
    "print(current_week_calendars_scores.shape)\n",
    "current_week_calendars_scores[0]"
   ]
  },
  {
   "cell_type": "code",
   "execution_count": 118,
   "id": "ecfa4b8e-28af-434e-9b8c-cb087c89e964",
   "metadata": {},
   "outputs": [
    {
     "data": {
      "application/vnd.plotly.v1+json": {
       "config": {
        "plotlyServerURL": "https://plot.ly"
       },
       "data": [
        {
         "alignmentgroup": "True",
         "bingroup": "x",
         "hovertemplate": "variable=0<br>value=%{x}<br>count=%{y}<extra></extra>",
         "legendgroup": "0",
         "marker": {
          "color": "#636efa",
          "pattern": {
           "shape": ""
          }
         },
         "name": "0",
         "nbinsx": 720,
         "offsetgroup": "0",
         "orientation": "v",
         "showlegend": true,
         "type": "histogram",
         "x": [
          0.26713487674410474,
          0.26135898148033887,
          0.25753594514692596,
          0.22454916552941862,
          0.26336223677018483,
          0.23615135241644336,
          0.22781530061471264,
          0.22203940535094677,
          0.2188841207808159,
          0.17909462007487315,
          0.22471041240407477,
          0.1906968069618979,
          0.26151969146196063,
          0.22853291184445326,
          0.2621874432252427,
          0.2223979425192999,
          0.23120391889758127,
          0.22440119780914589,
          0.27491510108378536,
          0.24770421673004386,
          0.27558285284706735,
          0.2415692474048905,
          0.2387730368961471,
          0.23197031580771174,
          0.22960322600490682,
          0.22382733074114092,
          0.22000429440772806,
          0.18701751479022066,
          0.22583058603098694,
          0.19861970167724546,
          0.17765517405685485,
          0.17187927879308898,
          0.13404263701749924,
          0.17909462007487315,
          0.13986892864075812,
          0.1906968069618979,
          0.21135956490410285,
          0.17837278528659548,
          0.177345959461926,
          0.2223979425192999,
          0.1463624351342646,
          0.22440119780914586,
          0.22475497452592758,
          0.19754409017218608,
          0.1907413690837507,
          0.2415692474048905,
          0.15393155313283047,
          0.23197031580771174,
          0.23573819533006019,
          0.2299623000662943,
          0.22680701549616344,
          0.18701751479022066,
          0.23263330711942232,
          0.19861970167724546,
          0.22310971951140032,
          0.21733382424763445,
          0.17949718247204471,
          0.22454916552941862,
          0.1853234740953036,
          0.23615135241644336,
          0.21816228599253823,
          0.17837278528659548,
          0.18348092878707936,
          0.22853291184445326,
          0.1463624351342646,
          0.23120391889758124,
          0.23155769561436293,
          0.19754409017218608,
          0.19687633840890406,
          0.24770421673004386,
          0.15393155313283047,
          0.2387730368961471,
          0.26294907968380166,
          0.2299623000662943,
          0.2636168314470837,
          0.22382733074114092,
          0.23263330711942232,
          0.22583058603098694,
          0.25032060386514177,
          0.21733382424763445,
          0.21630699842296494,
          0.26135898148033887,
          0.1853234740953036,
          0.26336223677018483,
          0.21166877949903173,
          0.17187927879308898,
          0.17698742229357287,
          0.22203940535094677,
          0.13986892864075812,
          0.22471041240407474,
          0.23155769561436293,
          0.22475497452592758,
          0.19687633840890406,
          0.27491510108378536,
          0.1907413690837507,
          0.27558285284706735,
          0.26294907968380166,
          0.2357381953300602,
          0.2636168314470837,
          0.22960322600490682,
          0.22680701549616344,
          0.22000429440772806,
          0.25032060386514177,
          0.22310971951140032,
          0.21630699842296494,
          0.26713487674410474,
          0.17949718247204471,
          0.25753594514692596,
          0.21166877949903173,
          0.17765517405685485,
          0.1769874222935729,
          0.22781530061471264,
          0.13404263701749924,
          0.2188841207808159,
          0.21816228599253823,
          0.21135956490410285,
          0.1834809287870794,
          0.26151969146196063,
          0.177345959461926,
          0.2621874432252427,
          0.26713487674410474,
          0.26135898148033887,
          0.25753594514692596,
          0.22454916552941862,
          0.26336223677018483,
          0.23615135241644336,
          0.22781530061471264,
          0.22203940535094677,
          0.2188841207808159,
          0.17909462007487315,
          0.22471041240407477,
          0.1906968069618979,
          0.26151969146196063,
          0.22853291184445326,
          0.2621874432252427,
          0.2223979425192999,
          0.23120391889758127,
          0.22440119780914589,
          0.27491510108378536,
          0.24770421673004386,
          0.27558285284706735,
          0.2415692474048905,
          0.2387730368961471,
          0.23197031580771174,
          0.19713569353737434,
          0.19135979827360844,
          0.18753676194019558,
          0.1545499823226882,
          0.19336305356345446,
          0.16615216920971299,
          0.1653852354065481,
          0.15960934014278222,
          0.18846440572498224,
          0.17909462007487315,
          0.19429069734824111,
          0.1906968069618979,
          0.19908962625379611,
          0.16610284663628871,
          0.23176772816940897,
          0.2223979425192999,
          0.2007842038417476,
          0.22440119780914586,
          0.21248503587562084,
          0.18527415152187932,
          0.2451631377912337,
          0.2415692474048905,
          0.20835332184031347,
          0.23197031580771174,
          0.2032706628625277,
          0.19749476759876183,
          0.19433948302863097,
          0.1545499823226882,
          0.20016577465188984,
          0.16615216920971299,
          0.21083978086109356,
          0.2050638855973277,
          0.2339189511795277,
          0.22454916552941862,
          0.23974524280278658,
          0.23615135241644336,
          0.2058923473422315,
          0.16610284663628871,
          0.23790269749456233,
          0.22853291184445326,
          0.2007842038417476,
          0.23120391889758124,
          0.21928775696405617,
          0.18527415152187932,
          0.25129810711638706,
          0.24770421673004386,
          0.20835332184031347,
          0.2387730368961471,
          0.23048154721626923,
          0.19749476759876183,
          0.2311492989795512,
          0.19135979827360844,
          0.20016577465188984,
          0.19336305356345446,
          0.23805066521483503,
          0.2050638855973277,
          0.2707287671304479,
          0.26135898148033887,
          0.23974524280278658,
          0.26336223677018483,
          0.199398840848725,
          0.15960934014278222,
          0.23140919100105584,
          0.22203940535094677,
          0.19429069734824111,
          0.22471041240407474,
          0.21928775696405617,
          0.21248503587562084,
          0.25129810711638706,
          0.27491510108378536,
          0.2451631377912337,
          0.27558285284706735,
          0.23048154721626923,
          0.20327066286252773,
          0.2311492989795512,
          0.19713569353737434,
          0.19433948302863097,
          0.18753676194019558,
          0.23805066521483506,
          0.2108397808610936,
          0.2707287671304479,
          0.26713487674410474,
          0.2339189511795277,
          0.25753594514692596,
          0.199398840848725,
          0.16538523540654812,
          0.23140919100105586,
          0.22781530061471264,
          0.18846440572498224,
          0.2188841207808159,
          0.2058923473422315,
          0.19908962625379611,
          0.23790269749456236,
          0.26151969146196063,
          0.23176772816940897,
          0.2621874432252427,
          0.27362838323761124,
          0.2678524879738453,
          0.26402945164043246,
          0.23104267202292508,
          0.26985574326369133,
          0.24264485890994986,
          0.22168033128955927,
          0.2159044360257934,
          0.17806779425020364,
          0.22311977730757754,
          0.1838940858734625,
          0.23472196419460228,
          0.2553847221368073,
          0.2223979425192999,
          0.2213711166946304,
          0.2664230997520043,
          0.190387592366969,
          0.2684263550418503,
          0.26878013175863197,
          0.2415692474048905,
          0.23476652631645512,
          0.2855944046375949,
          0.19795671036553486,
          0.27599547304041616,
          0.24116085077007876,
          0.23538495550631286,
          0.2315619191729,
          0.19857513955539263,
          0.23738821079615888,
          0.21017732644241738,
          0.2094103926392525,
          0.20363449737548664,
          0.23248956295768664,
          0.22311977730757754,
          0.2383158545809455,
          0.23472196419460228,
          0.2431147834865005,
          0.21012800386899314,
          0.2757928854021134,
          0.2664230997520043,
          0.244809361074452,
          0.2684263550418503,
          0.25651019310832524,
          0.22929930875458374,
          0.2891882950239381,
          0.2855944046375949,
          0.25237847907301786,
          0.27599547304041616,
          0.19713569353737434,
          0.19135979827360844,
          0.15352315649801873,
          0.19857513955539263,
          0.1593494481212776,
          0.21017732644241738,
          0.21733328735460006,
          0.21155739209083418,
          0.24041245767303415,
          0.23104267202292508,
          0.24623874929629302,
          0.24264485890994986,
          0.16507602081161923,
          0.21012800386899314,
          0.23176772816940897,
          0.2223979425192999,
          0.244809361074452,
          0.190387592366969,
          0.17847143043344393,
          0.22929930875458374,
          0.2451631377912337,
          0.2415692474048905,
          0.25237847907301786,
          0.19795671036553486,
          0.22434657789111584,
          0.19135979827360844,
          0.19033297244893896,
          0.23538495550631286,
          0.1593494481212776,
          0.23738821079615885,
          0.24454417170834153,
          0.21155739209083418,
          0.2772222736239544,
          0.2678524879738453,
          0.24623874929629302,
          0.26985574326369133,
          0.15858251431811274,
          0.20363449737548664,
          0.22527422167590247,
          0.2159044360257934,
          0.2383158545809455,
          0.1838940858734625,
          0.17847143043344393,
          0.25651019310832524,
          0.2451631377912337,
          0.26878013175863197,
          0.2891882950239381,
          0.23476652631645512,
          0.22434657789111584,
          0.19713569353737434,
          0.19033297244893896,
          0.24116085077007876,
          0.15352315649801873,
          0.2315619191729,
          0.24454417170834156,
          0.21733328735460009,
          0.2772222736239544,
          0.27362838323761124,
          0.24041245767303415,
          0.26402945164043246,
          0.15858251431811277,
          0.2094103926392525,
          0.22527422167590247,
          0.22168033128955927,
          0.23248956295768664,
          0.17806779425020364,
          0.16507602081161926,
          0.2431147834865005,
          0.23176772816940897,
          0.2553847221368073,
          0.2757928854021134,
          0.2213711166946304,
          0.23930092481709986,
          0.23352502955333396,
          0.2303697449832031,
          0.19058024427726034,
          0.23619603660646196,
          0.2021824311642851,
          0.22667244899844,
          0.2208965537346741,
          0.18305991195908436,
          0.22811189501645826,
          0.18888620358234323,
          0.239714081903483,
          0.2217250154795779,
          0.18193551477363515,
          0.18704365827411903,
          0.23209564133149294,
          0.14992516462130429,
          0.2347666483846209,
          0.23512042510140263,
          0.20110681965922572,
          0.20043906789594373,
          0.25126694621708356,
          0.15749428261987014,
          0.24233576638318677,
          0.20683339234956738,
          0.2010574970858015,
          0.19790221251567064,
          0.15811271180972788,
          0.2037285041389295,
          0.16971489869675263,
          0.21440251034813324,
          0.20862661508436736,
          0.23748168066656736,
          0.22811189501645826,
          0.24330797228982623,
          0.239714081903483,
          0.20945507682927114,
          0.1696655761233284,
          0.241465426981602,
          0.23209564133149294,
          0.20434693332878726,
          0.2347666483846209,
          0.22285048645109587,
          0.188836881008919,
          0.25486083660342673,
          0.25126694621708356,
          0.2119160513273531,
          0.24233576638318677,
          0.1566732657917096,
          0.15089737052794372,
          0.11306072875235398,
          0.15811271180972788,
          0.11888702037561286,
          0.1697148986967526,
          0.17687085960893534,
          0.1710949643451694,
          0.19995002992736943,
          0.19058024427726034,
          0.2057763215506283,
          0.20218243116428508,
          0.12461359306595449,
          0.1696655761233284,
          0.19130530042374422,
          0.18193551477363515,
          0.20434693332878723,
          0.14992516462130426,
          0.13800900268777921,
          0.188836881008919,
          0.20470071004556895,
          0.20110681965922572,
          0.2119160513273531,
          0.15749428261987014,
          0.19068687123388647,
          0.15089737052794372,
          0.1560055140284276,
          0.2010574970858015,
          0.11888702037561286,
          0.2037285041389295,
          0.2108844650511122,
          0.1710949643451694,
          0.24289481520344303,
          0.23352502955333396,
          0.2057763215506283,
          0.23619603660646193,
          0.16357463202699346,
          0.20862661508436736,
          0.2302663393847832,
          0.2208965537346741,
          0.2433079722898262,
          0.1888862035823432,
          0.13800900268777921,
          0.22285048645109587,
          0.20470071004556895,
          0.23512042510140263,
          0.25486083660342673,
          0.20043906789594373,
          0.19068687123388647,
          0.1566732657917096,
          0.1560055140284276,
          0.20683339234956738,
          0.11306072875235398,
          0.19790221251567064,
          0.2108844650511122,
          0.17687085960893534,
          0.24289481520344305,
          0.23930092481709986,
          0.19995002992736943,
          0.2303697449832031,
          0.16357463202699346,
          0.21440251034813324,
          0.2302663393847832,
          0.22667244899844,
          0.23748168066656736,
          0.18305991195908436,
          0.12461359306595451,
          0.20945507682927114,
          0.19130530042374422,
          0.2217250154795779,
          0.241465426981602,
          0.18704365827411903,
          0.26651180917084133,
          0.23352502955333396,
          0.2671795609341233,
          0.2273900602281806,
          0.23619603660646196,
          0.22939331551802658,
          0.2538833333521815,
          0.2208965537346741,
          0.21986972791000461,
          0.2649217109673785,
          0.18888620358234323,
          0.2669249662572245,
          0.2152315089860714,
          0.17544200828012865,
          0.18055015178061254,
          0.22560213483798644,
          0.1434316581277978,
          0.22827314189111442,
          0.23512042510140263,
          0.22831770401296725,
          0.20043906789594373,
          0.27847783057082504,
          0.19430409857079037,
          0.279145582334107,
          0.23404427670330888,
          0.2010574970858015,
          0.2347120284665909,
          0.1949225277606481,
          0.2037285041389295,
          0.19692578305049413,
          0.24161339470187473,
          0.20862661508436736,
          0.27429149661748764,
          0.2649217109673785,
          0.24330797228982623,
          0.2669249662572245,
          0.20296157033576465,
          0.1631720696298219,
          0.23497192048809554,
          0.22560213483798644,
          0.1978534268352808,
          0.22827314189111442,
          0.22285048645109587,
          0.2160477653626605,
          0.25486083660342673,
          0.27847783057082504,
          0.24872586727827334,
          0.279145582334107,
          0.1838841501454511,
          0.15089737052794372,
          0.1498705447032742,
          0.1949225277606481,
          0.11888702037561286,
          0.19692578305049413,
          0.2040817439626768,
          0.1710949643451694,
          0.23675984587828966,
          0.2273900602281806,
          0.2057763215506283,
          0.22939331551802655,
          0.118120086572448,
          0.1631720696298219,
          0.18481179393023775,
          0.17544200828012865,
          0.1978534268352808,
          0.1434316581277978,
          0.13800900268777921,
          0.2160477653626605,
          0.20470071004556895,
          0.22831770401296725,
          0.24872586727827334,
          0.19430409857079037,
          0.19068687123388647,
          0.15089737052794372,
          0.1560055140284276,
          0.2010574970858015,
          0.11888702037561286,
          0.2037285041389295,
          0.2108844650511122,
          0.1710949643451694,
          0.24289481520344303,
          0.23352502955333396,
          0.2057763215506283,
          0.23619603660646193,
          0.16357463202699346,
          0.20862661508436736,
          0.2302663393847832,
          0.2208965537346741,
          0.2433079722898262,
          0.1888862035823432,
          0.13800900268777921,
          0.22285048645109587,
          0.20470071004556895,
          0.23512042510140263,
          0.25486083660342673,
          0.20043906789594373,
          0.19068687123388647,
          0.1838841501454511,
          0.1560055140284276,
          0.23404427670330888,
          0.1498705447032742,
          0.2347120284665909,
          0.2108844650511122,
          0.2040817439626768,
          0.24289481520344305,
          0.26651180917084133,
          0.23675984587828966,
          0.2671795609341233,
          0.16357463202699346,
          0.24161339470187473,
          0.2302663393847832,
          0.2538833333521815,
          0.27429149661748764,
          0.21986972791000461,
          0.11812008657244802,
          0.20296157033576465,
          0.18481179393023775,
          0.2152315089860714,
          0.23497192048809554,
          0.18055015178061254,
          0.2712742332810678,
          0.24406334892732634,
          0.27194198504434985,
          0.23792837960217295,
          0.2351321690934296,
          0.22832944800499422,
          0.258645757462408,
          0.23143487310866645,
          0.2246321520202311,
          0.2754600303413709,
          0.18782233606931087,
          0.2658610987441921,
          0.2199939330962979,
          0.185980327654121,
          0.18531257589083902,
          0.23614045421197882,
          0.1423677906147654,
          0.22720927437808203,
          0.22648743958980438,
          0.219684718501369,
          0.19180608238434552,
          0.2698448450592268,
          0.18567111305919215,
          0.2705125968225088,
          0.2388067008135354,
          0.21159581645979386,
          0.23947445257681738,
          0.2054608471346405,
          0.20266463662589712,
          0.19586191553746174,
          0.24637581881210122,
          0.21916493445835972,
          0.2790539207277141,
          0.2754600303413709,
          0.24224410477679387,
          0.2658610987441921,
          0.20772399444599116,
          0.17371038900381428,
          0.23973434459832202,
          0.23614045421197882,
          0.1967895593222484,
          0.22720927437808203,
          0.21421750093949765,
          0.20741477985106227,
          0.2462278510918285,
          0.2698448450592268,
          0.24009288176667512,
          0.2705125968225088,
          0.1886465742556776,
          0.16143568990193607,
          0.15463296881350072,
          0.2054608471346405,
          0.11782315286258048,
          0.19586191553746174,
          0.2088441680729033,
          0.18163328371916182,
          0.24152226998851614,
          0.23792837960217295,
          0.20471245403759591,
          0.22832944800499422,
          0.12288251068267449,
          0.17371038900381428,
          0.18957421804046423,
          0.185980327654121,
          0.1967895593222484,
          0.1423677906147654,
          0.12937601717618097,
          0.20741477985106227,
          0.1960677245339707,
          0.219684718501369,
          0.24009288176667512,
          0.18567111305919215,
          0.19544929534411296,
          0.16143568990193607,
          0.1607679381386541,
          0.21159581645979386,
          0.11782315286258048,
          0.20266463662589712,
          0.21564688916133867,
          0.18163328371916182,
          0.2476572393136695,
          0.24406334892732634,
          0.20471245403759591,
          0.2351321690934296,
          0.16833705613721994,
          0.21916493445835972,
          0.2350287634950097,
          0.23143487310866645,
          0.24224410477679387,
          0.18782233606931087,
          0.12937601717618097,
          0.21421750093949765,
          0.1960677245339707,
          0.22648743958980438,
          0.2462278510918285,
          0.19180608238434552,
          0.19544929534411296,
          0.1886465742556776,
          0.1607679381386541,
          0.2388067008135354,
          0.15463296881350072,
          0.23947445257681738,
          0.21564688916133867,
          0.2088441680729033,
          0.2476572393136695,
          0.2712742332810678,
          0.24152226998851614,
          0.27194198504434985,
          0.16833705613721994,
          0.24637581881210122,
          0.2350287634950097,
          0.258645757462408,
          0.2790539207277141,
          0.2246321520202311,
          0.12288251068267449,
          0.20772399444599116,
          0.18957421804046423,
          0.2199939330962979,
          0.23973434459832202,
          0.18531257589083902
         ],
         "xaxis": "x",
         "yaxis": "y"
        }
       ],
       "layout": {
        "autosize": true,
        "barmode": "relative",
        "legend": {
         "title": {
          "text": "variable"
         },
         "tracegroupgap": 0
        },
        "margin": {
         "t": 60
        },
        "template": {
         "data": {
          "bar": [
           {
            "error_x": {
             "color": "#2a3f5f"
            },
            "error_y": {
             "color": "#2a3f5f"
            },
            "marker": {
             "line": {
              "color": "#E5ECF6",
              "width": 0.5
             },
             "pattern": {
              "fillmode": "overlay",
              "size": 10,
              "solidity": 0.2
             }
            },
            "type": "bar"
           }
          ],
          "barpolar": [
           {
            "marker": {
             "line": {
              "color": "#E5ECF6",
              "width": 0.5
             },
             "pattern": {
              "fillmode": "overlay",
              "size": 10,
              "solidity": 0.2
             }
            },
            "type": "barpolar"
           }
          ],
          "carpet": [
           {
            "aaxis": {
             "endlinecolor": "#2a3f5f",
             "gridcolor": "white",
             "linecolor": "white",
             "minorgridcolor": "white",
             "startlinecolor": "#2a3f5f"
            },
            "baxis": {
             "endlinecolor": "#2a3f5f",
             "gridcolor": "white",
             "linecolor": "white",
             "minorgridcolor": "white",
             "startlinecolor": "#2a3f5f"
            },
            "type": "carpet"
           }
          ],
          "choropleth": [
           {
            "colorbar": {
             "outlinewidth": 0,
             "ticks": ""
            },
            "type": "choropleth"
           }
          ],
          "contour": [
           {
            "colorbar": {
             "outlinewidth": 0,
             "ticks": ""
            },
            "colorscale": [
             [
              0,
              "#0d0887"
             ],
             [
              0.1111111111111111,
              "#46039f"
             ],
             [
              0.2222222222222222,
              "#7201a8"
             ],
             [
              0.3333333333333333,
              "#9c179e"
             ],
             [
              0.4444444444444444,
              "#bd3786"
             ],
             [
              0.5555555555555556,
              "#d8576b"
             ],
             [
              0.6666666666666666,
              "#ed7953"
             ],
             [
              0.7777777777777778,
              "#fb9f3a"
             ],
             [
              0.8888888888888888,
              "#fdca26"
             ],
             [
              1,
              "#f0f921"
             ]
            ],
            "type": "contour"
           }
          ],
          "contourcarpet": [
           {
            "colorbar": {
             "outlinewidth": 0,
             "ticks": ""
            },
            "type": "contourcarpet"
           }
          ],
          "heatmap": [
           {
            "colorbar": {
             "outlinewidth": 0,
             "ticks": ""
            },
            "colorscale": [
             [
              0,
              "#0d0887"
             ],
             [
              0.1111111111111111,
              "#46039f"
             ],
             [
              0.2222222222222222,
              "#7201a8"
             ],
             [
              0.3333333333333333,
              "#9c179e"
             ],
             [
              0.4444444444444444,
              "#bd3786"
             ],
             [
              0.5555555555555556,
              "#d8576b"
             ],
             [
              0.6666666666666666,
              "#ed7953"
             ],
             [
              0.7777777777777778,
              "#fb9f3a"
             ],
             [
              0.8888888888888888,
              "#fdca26"
             ],
             [
              1,
              "#f0f921"
             ]
            ],
            "type": "heatmap"
           }
          ],
          "heatmapgl": [
           {
            "colorbar": {
             "outlinewidth": 0,
             "ticks": ""
            },
            "colorscale": [
             [
              0,
              "#0d0887"
             ],
             [
              0.1111111111111111,
              "#46039f"
             ],
             [
              0.2222222222222222,
              "#7201a8"
             ],
             [
              0.3333333333333333,
              "#9c179e"
             ],
             [
              0.4444444444444444,
              "#bd3786"
             ],
             [
              0.5555555555555556,
              "#d8576b"
             ],
             [
              0.6666666666666666,
              "#ed7953"
             ],
             [
              0.7777777777777778,
              "#fb9f3a"
             ],
             [
              0.8888888888888888,
              "#fdca26"
             ],
             [
              1,
              "#f0f921"
             ]
            ],
            "type": "heatmapgl"
           }
          ],
          "histogram": [
           {
            "marker": {
             "pattern": {
              "fillmode": "overlay",
              "size": 10,
              "solidity": 0.2
             }
            },
            "type": "histogram"
           }
          ],
          "histogram2d": [
           {
            "colorbar": {
             "outlinewidth": 0,
             "ticks": ""
            },
            "colorscale": [
             [
              0,
              "#0d0887"
             ],
             [
              0.1111111111111111,
              "#46039f"
             ],
             [
              0.2222222222222222,
              "#7201a8"
             ],
             [
              0.3333333333333333,
              "#9c179e"
             ],
             [
              0.4444444444444444,
              "#bd3786"
             ],
             [
              0.5555555555555556,
              "#d8576b"
             ],
             [
              0.6666666666666666,
              "#ed7953"
             ],
             [
              0.7777777777777778,
              "#fb9f3a"
             ],
             [
              0.8888888888888888,
              "#fdca26"
             ],
             [
              1,
              "#f0f921"
             ]
            ],
            "type": "histogram2d"
           }
          ],
          "histogram2dcontour": [
           {
            "colorbar": {
             "outlinewidth": 0,
             "ticks": ""
            },
            "colorscale": [
             [
              0,
              "#0d0887"
             ],
             [
              0.1111111111111111,
              "#46039f"
             ],
             [
              0.2222222222222222,
              "#7201a8"
             ],
             [
              0.3333333333333333,
              "#9c179e"
             ],
             [
              0.4444444444444444,
              "#bd3786"
             ],
             [
              0.5555555555555556,
              "#d8576b"
             ],
             [
              0.6666666666666666,
              "#ed7953"
             ],
             [
              0.7777777777777778,
              "#fb9f3a"
             ],
             [
              0.8888888888888888,
              "#fdca26"
             ],
             [
              1,
              "#f0f921"
             ]
            ],
            "type": "histogram2dcontour"
           }
          ],
          "mesh3d": [
           {
            "colorbar": {
             "outlinewidth": 0,
             "ticks": ""
            },
            "type": "mesh3d"
           }
          ],
          "parcoords": [
           {
            "line": {
             "colorbar": {
              "outlinewidth": 0,
              "ticks": ""
             }
            },
            "type": "parcoords"
           }
          ],
          "pie": [
           {
            "automargin": true,
            "type": "pie"
           }
          ],
          "scatter": [
           {
            "fillpattern": {
             "fillmode": "overlay",
             "size": 10,
             "solidity": 0.2
            },
            "type": "scatter"
           }
          ],
          "scatter3d": [
           {
            "line": {
             "colorbar": {
              "outlinewidth": 0,
              "ticks": ""
             }
            },
            "marker": {
             "colorbar": {
              "outlinewidth": 0,
              "ticks": ""
             }
            },
            "type": "scatter3d"
           }
          ],
          "scattercarpet": [
           {
            "marker": {
             "colorbar": {
              "outlinewidth": 0,
              "ticks": ""
             }
            },
            "type": "scattercarpet"
           }
          ],
          "scattergeo": [
           {
            "marker": {
             "colorbar": {
              "outlinewidth": 0,
              "ticks": ""
             }
            },
            "type": "scattergeo"
           }
          ],
          "scattergl": [
           {
            "marker": {
             "colorbar": {
              "outlinewidth": 0,
              "ticks": ""
             }
            },
            "type": "scattergl"
           }
          ],
          "scattermapbox": [
           {
            "marker": {
             "colorbar": {
              "outlinewidth": 0,
              "ticks": ""
             }
            },
            "type": "scattermapbox"
           }
          ],
          "scatterpolar": [
           {
            "marker": {
             "colorbar": {
              "outlinewidth": 0,
              "ticks": ""
             }
            },
            "type": "scatterpolar"
           }
          ],
          "scatterpolargl": [
           {
            "marker": {
             "colorbar": {
              "outlinewidth": 0,
              "ticks": ""
             }
            },
            "type": "scatterpolargl"
           }
          ],
          "scatterternary": [
           {
            "marker": {
             "colorbar": {
              "outlinewidth": 0,
              "ticks": ""
             }
            },
            "type": "scatterternary"
           }
          ],
          "surface": [
           {
            "colorbar": {
             "outlinewidth": 0,
             "ticks": ""
            },
            "colorscale": [
             [
              0,
              "#0d0887"
             ],
             [
              0.1111111111111111,
              "#46039f"
             ],
             [
              0.2222222222222222,
              "#7201a8"
             ],
             [
              0.3333333333333333,
              "#9c179e"
             ],
             [
              0.4444444444444444,
              "#bd3786"
             ],
             [
              0.5555555555555556,
              "#d8576b"
             ],
             [
              0.6666666666666666,
              "#ed7953"
             ],
             [
              0.7777777777777778,
              "#fb9f3a"
             ],
             [
              0.8888888888888888,
              "#fdca26"
             ],
             [
              1,
              "#f0f921"
             ]
            ],
            "type": "surface"
           }
          ],
          "table": [
           {
            "cells": {
             "fill": {
              "color": "#EBF0F8"
             },
             "line": {
              "color": "white"
             }
            },
            "header": {
             "fill": {
              "color": "#C8D4E3"
             },
             "line": {
              "color": "white"
             }
            },
            "type": "table"
           }
          ]
         },
         "layout": {
          "annotationdefaults": {
           "arrowcolor": "#2a3f5f",
           "arrowhead": 0,
           "arrowwidth": 1
          },
          "autotypenumbers": "strict",
          "coloraxis": {
           "colorbar": {
            "outlinewidth": 0,
            "ticks": ""
           }
          },
          "colorscale": {
           "diverging": [
            [
             0,
             "#8e0152"
            ],
            [
             0.1,
             "#c51b7d"
            ],
            [
             0.2,
             "#de77ae"
            ],
            [
             0.3,
             "#f1b6da"
            ],
            [
             0.4,
             "#fde0ef"
            ],
            [
             0.5,
             "#f7f7f7"
            ],
            [
             0.6,
             "#e6f5d0"
            ],
            [
             0.7,
             "#b8e186"
            ],
            [
             0.8,
             "#7fbc41"
            ],
            [
             0.9,
             "#4d9221"
            ],
            [
             1,
             "#276419"
            ]
           ],
           "sequential": [
            [
             0,
             "#0d0887"
            ],
            [
             0.1111111111111111,
             "#46039f"
            ],
            [
             0.2222222222222222,
             "#7201a8"
            ],
            [
             0.3333333333333333,
             "#9c179e"
            ],
            [
             0.4444444444444444,
             "#bd3786"
            ],
            [
             0.5555555555555556,
             "#d8576b"
            ],
            [
             0.6666666666666666,
             "#ed7953"
            ],
            [
             0.7777777777777778,
             "#fb9f3a"
            ],
            [
             0.8888888888888888,
             "#fdca26"
            ],
            [
             1,
             "#f0f921"
            ]
           ],
           "sequentialminus": [
            [
             0,
             "#0d0887"
            ],
            [
             0.1111111111111111,
             "#46039f"
            ],
            [
             0.2222222222222222,
             "#7201a8"
            ],
            [
             0.3333333333333333,
             "#9c179e"
            ],
            [
             0.4444444444444444,
             "#bd3786"
            ],
            [
             0.5555555555555556,
             "#d8576b"
            ],
            [
             0.6666666666666666,
             "#ed7953"
            ],
            [
             0.7777777777777778,
             "#fb9f3a"
            ],
            [
             0.8888888888888888,
             "#fdca26"
            ],
            [
             1,
             "#f0f921"
            ]
           ]
          },
          "colorway": [
           "#636efa",
           "#EF553B",
           "#00cc96",
           "#ab63fa",
           "#FFA15A",
           "#19d3f3",
           "#FF6692",
           "#B6E880",
           "#FF97FF",
           "#FECB52"
          ],
          "font": {
           "color": "#2a3f5f"
          },
          "geo": {
           "bgcolor": "white",
           "lakecolor": "white",
           "landcolor": "#E5ECF6",
           "showlakes": true,
           "showland": true,
           "subunitcolor": "white"
          },
          "hoverlabel": {
           "align": "left"
          },
          "hovermode": "closest",
          "mapbox": {
           "style": "light"
          },
          "paper_bgcolor": "white",
          "plot_bgcolor": "#E5ECF6",
          "polar": {
           "angularaxis": {
            "gridcolor": "white",
            "linecolor": "white",
            "ticks": ""
           },
           "bgcolor": "#E5ECF6",
           "radialaxis": {
            "gridcolor": "white",
            "linecolor": "white",
            "ticks": ""
           }
          },
          "scene": {
           "xaxis": {
            "backgroundcolor": "#E5ECF6",
            "gridcolor": "white",
            "gridwidth": 2,
            "linecolor": "white",
            "showbackground": true,
            "ticks": "",
            "zerolinecolor": "white"
           },
           "yaxis": {
            "backgroundcolor": "#E5ECF6",
            "gridcolor": "white",
            "gridwidth": 2,
            "linecolor": "white",
            "showbackground": true,
            "ticks": "",
            "zerolinecolor": "white"
           },
           "zaxis": {
            "backgroundcolor": "#E5ECF6",
            "gridcolor": "white",
            "gridwidth": 2,
            "linecolor": "white",
            "showbackground": true,
            "ticks": "",
            "zerolinecolor": "white"
           }
          },
          "shapedefaults": {
           "line": {
            "color": "#2a3f5f"
           }
          },
          "ternary": {
           "aaxis": {
            "gridcolor": "white",
            "linecolor": "white",
            "ticks": ""
           },
           "baxis": {
            "gridcolor": "white",
            "linecolor": "white",
            "ticks": ""
           },
           "bgcolor": "#E5ECF6",
           "caxis": {
            "gridcolor": "white",
            "linecolor": "white",
            "ticks": ""
           }
          },
          "title": {
           "x": 0.05
          },
          "xaxis": {
           "automargin": true,
           "gridcolor": "white",
           "linecolor": "white",
           "ticks": "",
           "title": {
            "standoff": 15
           },
           "zerolinecolor": "white",
           "zerolinewidth": 2
          },
          "yaxis": {
           "automargin": true,
           "gridcolor": "white",
           "linecolor": "white",
           "ticks": "",
           "title": {
            "standoff": 15
           },
           "zerolinecolor": "white",
           "zerolinewidth": 2
          }
         }
        },
        "xaxis": {
         "anchor": "y",
         "autorange": true,
         "domain": [
          0,
          1
         ],
         "range": [
          0.11300000000000003,
          0.2895
         ],
         "title": {
          "text": "value"
         },
         "type": "linear"
        },
        "yaxis": {
         "anchor": "x",
         "autorange": true,
         "domain": [
          0,
          1
         ],
         "range": [
          0,
          12.631578947368421
         ],
         "title": {
          "text": "count"
         }
        }
       }
      },
      "image/png": "[encoded data removed]",
      "text/html": [
       "<div>                            <div id=\"41a0cacf-baad-4275-9b6d-52edb8f327fa\" class=\"plotly-graph-div\" style=\"height:525px; width:100%;\"></div>            <script type=\"text/javascript\">                require([\"plotly\"], function(Plotly) {                    window.PLOTLYENV=window.PLOTLYENV || {};                                    if (document.getElementById(\"41a0cacf-baad-4275-9b6d-52edb8f327fa\")) {                    Plotly.newPlot(                        \"41a0cacf-baad-4275-9b6d-52edb8f327fa\",                        [{\"alignmentgroup\":\"True\",\"bingroup\":\"x\",\"hovertemplate\":\"variable=0<br>value=%{x}<br>count=%{y}<extra></extra>\",\"legendgroup\":\"0\",\"marker\":{\"color\":\"#636efa\",\"pattern\":{\"shape\":\"\"}},\"name\":\"0\",\"nbinsx\":720,\"offsetgroup\":\"0\",\"orientation\":\"v\",\"showlegend\":true,\"x\":[0.26713487674410474,0.26135898148033887,0.25753594514692596,0.22454916552941862,0.26336223677018483,0.23615135241644336,0.22781530061471264,0.22203940535094677,0.2188841207808159,0.17909462007487315,0.22471041240407477,0.1906968069618979,0.26151969146196063,0.22853291184445326,0.2621874432252427,0.2223979425192999,0.23120391889758127,0.22440119780914589,0.27491510108378536,0.24770421673004386,0.27558285284706735,0.2415692474048905,0.2387730368961471,0.23197031580771174,0.22960322600490682,0.22382733074114092,0.22000429440772806,0.18701751479022066,0.22583058603098694,0.19861970167724546,0.17765517405685485,0.17187927879308898,0.13404263701749924,0.17909462007487315,0.13986892864075812,0.1906968069618979,0.21135956490410285,0.17837278528659548,0.177345959461926,0.2223979425192999,0.1463624351342646,0.22440119780914586,0.22475497452592758,0.19754409017218608,0.1907413690837507,0.2415692474048905,0.15393155313283047,0.23197031580771174,0.23573819533006019,0.2299623000662943,0.22680701549616344,0.18701751479022066,0.23263330711942232,0.19861970167724546,0.22310971951140032,0.21733382424763445,0.17949718247204471,0.22454916552941862,0.1853234740953036,0.23615135241644336,0.21816228599253823,0.17837278528659548,0.18348092878707936,0.22853291184445326,0.1463624351342646,0.23120391889758124,0.23155769561436293,0.19754409017218608,0.19687633840890406,0.24770421673004386,0.15393155313283047,0.2387730368961471,0.26294907968380166,0.2299623000662943,0.2636168314470837,0.22382733074114092,0.23263330711942232,0.22583058603098694,0.25032060386514177,0.21733382424763445,0.21630699842296494,0.26135898148033887,0.1853234740953036,0.26336223677018483,0.21166877949903173,0.17187927879308898,0.17698742229357287,0.22203940535094677,0.13986892864075812,0.22471041240407474,0.23155769561436293,0.22475497452592758,0.19687633840890406,0.27491510108378536,0.1907413690837507,0.27558285284706735,0.26294907968380166,0.2357381953300602,0.2636168314470837,0.22960322600490682,0.22680701549616344,0.22000429440772806,0.25032060386514177,0.22310971951140032,0.21630699842296494,0.26713487674410474,0.17949718247204471,0.25753594514692596,0.21166877949903173,0.17765517405685485,0.1769874222935729,0.22781530061471264,0.13404263701749924,0.2188841207808159,0.21816228599253823,0.21135956490410285,0.1834809287870794,0.26151969146196063,0.177345959461926,0.2621874432252427,0.26713487674410474,0.26135898148033887,0.25753594514692596,0.22454916552941862,0.26336223677018483,0.23615135241644336,0.22781530061471264,0.22203940535094677,0.2188841207808159,0.17909462007487315,0.22471041240407477,0.1906968069618979,0.26151969146196063,0.22853291184445326,0.2621874432252427,0.2223979425192999,0.23120391889758127,0.22440119780914589,0.27491510108378536,0.24770421673004386,0.27558285284706735,0.2415692474048905,0.2387730368961471,0.23197031580771174,0.19713569353737434,0.19135979827360844,0.18753676194019558,0.1545499823226882,0.19336305356345446,0.16615216920971299,0.1653852354065481,0.15960934014278222,0.18846440572498224,0.17909462007487315,0.19429069734824111,0.1906968069618979,0.19908962625379611,0.16610284663628871,0.23176772816940897,0.2223979425192999,0.2007842038417476,0.22440119780914586,0.21248503587562084,0.18527415152187932,0.2451631377912337,0.2415692474048905,0.20835332184031347,0.23197031580771174,0.2032706628625277,0.19749476759876183,0.19433948302863097,0.1545499823226882,0.20016577465188984,0.16615216920971299,0.21083978086109356,0.2050638855973277,0.2339189511795277,0.22454916552941862,0.23974524280278658,0.23615135241644336,0.2058923473422315,0.16610284663628871,0.23790269749456233,0.22853291184445326,0.2007842038417476,0.23120391889758124,0.21928775696405617,0.18527415152187932,0.25129810711638706,0.24770421673004386,0.20835332184031347,0.2387730368961471,0.23048154721626923,0.19749476759876183,0.2311492989795512,0.19135979827360844,0.20016577465188984,0.19336305356345446,0.23805066521483503,0.2050638855973277,0.2707287671304479,0.26135898148033887,0.23974524280278658,0.26336223677018483,0.199398840848725,0.15960934014278222,0.23140919100105584,0.22203940535094677,0.19429069734824111,0.22471041240407474,0.21928775696405617,0.21248503587562084,0.25129810711638706,0.27491510108378536,0.2451631377912337,0.27558285284706735,0.23048154721626923,0.20327066286252773,0.2311492989795512,0.19713569353737434,0.19433948302863097,0.18753676194019558,0.23805066521483506,0.2108397808610936,0.2707287671304479,0.26713487674410474,0.2339189511795277,0.25753594514692596,0.199398840848725,0.16538523540654812,0.23140919100105586,0.22781530061471264,0.18846440572498224,0.2188841207808159,0.2058923473422315,0.19908962625379611,0.23790269749456236,0.26151969146196063,0.23176772816940897,0.2621874432252427,0.27362838323761124,0.2678524879738453,0.26402945164043246,0.23104267202292508,0.26985574326369133,0.24264485890994986,0.22168033128955927,0.2159044360257934,0.17806779425020364,0.22311977730757754,0.1838940858734625,0.23472196419460228,0.2553847221368073,0.2223979425192999,0.2213711166946304,0.2664230997520043,0.190387592366969,0.2684263550418503,0.26878013175863197,0.2415692474048905,0.23476652631645512,0.2855944046375949,0.19795671036553486,0.27599547304041616,0.24116085077007876,0.23538495550631286,0.2315619191729,0.19857513955539263,0.23738821079615888,0.21017732644241738,0.2094103926392525,0.20363449737548664,0.23248956295768664,0.22311977730757754,0.2383158545809455,0.23472196419460228,0.2431147834865005,0.21012800386899314,0.2757928854021134,0.2664230997520043,0.244809361074452,0.2684263550418503,0.25651019310832524,0.22929930875458374,0.2891882950239381,0.2855944046375949,0.25237847907301786,0.27599547304041616,0.19713569353737434,0.19135979827360844,0.15352315649801873,0.19857513955539263,0.1593494481212776,0.21017732644241738,0.21733328735460006,0.21155739209083418,0.24041245767303415,0.23104267202292508,0.24623874929629302,0.24264485890994986,0.16507602081161923,0.21012800386899314,0.23176772816940897,0.2223979425192999,0.244809361074452,0.190387592366969,0.17847143043344393,0.22929930875458374,0.2451631377912337,0.2415692474048905,0.25237847907301786,0.19795671036553486,0.22434657789111584,0.19135979827360844,0.19033297244893896,0.23538495550631286,0.1593494481212776,0.23738821079615885,0.24454417170834153,0.21155739209083418,0.2772222736239544,0.2678524879738453,0.24623874929629302,0.26985574326369133,0.15858251431811274,0.20363449737548664,0.22527422167590247,0.2159044360257934,0.2383158545809455,0.1838940858734625,0.17847143043344393,0.25651019310832524,0.2451631377912337,0.26878013175863197,0.2891882950239381,0.23476652631645512,0.22434657789111584,0.19713569353737434,0.19033297244893896,0.24116085077007876,0.15352315649801873,0.2315619191729,0.24454417170834156,0.21733328735460009,0.2772222736239544,0.27362838323761124,0.24041245767303415,0.26402945164043246,0.15858251431811277,0.2094103926392525,0.22527422167590247,0.22168033128955927,0.23248956295768664,0.17806779425020364,0.16507602081161926,0.2431147834865005,0.23176772816940897,0.2553847221368073,0.2757928854021134,0.2213711166946304,0.23930092481709986,0.23352502955333396,0.2303697449832031,0.19058024427726034,0.23619603660646196,0.2021824311642851,0.22667244899844,0.2208965537346741,0.18305991195908436,0.22811189501645826,0.18888620358234323,0.239714081903483,0.2217250154795779,0.18193551477363515,0.18704365827411903,0.23209564133149294,0.14992516462130429,0.2347666483846209,0.23512042510140263,0.20110681965922572,0.20043906789594373,0.25126694621708356,0.15749428261987014,0.24233576638318677,0.20683339234956738,0.2010574970858015,0.19790221251567064,0.15811271180972788,0.2037285041389295,0.16971489869675263,0.21440251034813324,0.20862661508436736,0.23748168066656736,0.22811189501645826,0.24330797228982623,0.239714081903483,0.20945507682927114,0.1696655761233284,0.241465426981602,0.23209564133149294,0.20434693332878726,0.2347666483846209,0.22285048645109587,0.188836881008919,0.25486083660342673,0.25126694621708356,0.2119160513273531,0.24233576638318677,0.1566732657917096,0.15089737052794372,0.11306072875235398,0.15811271180972788,0.11888702037561286,0.1697148986967526,0.17687085960893534,0.1710949643451694,0.19995002992736943,0.19058024427726034,0.2057763215506283,0.20218243116428508,0.12461359306595449,0.1696655761233284,0.19130530042374422,0.18193551477363515,0.20434693332878723,0.14992516462130426,0.13800900268777921,0.188836881008919,0.20470071004556895,0.20110681965922572,0.2119160513273531,0.15749428261987014,0.19068687123388647,0.15089737052794372,0.1560055140284276,0.2010574970858015,0.11888702037561286,0.2037285041389295,0.2108844650511122,0.1710949643451694,0.24289481520344303,0.23352502955333396,0.2057763215506283,0.23619603660646193,0.16357463202699346,0.20862661508436736,0.2302663393847832,0.2208965537346741,0.2433079722898262,0.1888862035823432,0.13800900268777921,0.22285048645109587,0.20470071004556895,0.23512042510140263,0.25486083660342673,0.20043906789594373,0.19068687123388647,0.1566732657917096,0.1560055140284276,0.20683339234956738,0.11306072875235398,0.19790221251567064,0.2108844650511122,0.17687085960893534,0.24289481520344305,0.23930092481709986,0.19995002992736943,0.2303697449832031,0.16357463202699346,0.21440251034813324,0.2302663393847832,0.22667244899844,0.23748168066656736,0.18305991195908436,0.12461359306595451,0.20945507682927114,0.19130530042374422,0.2217250154795779,0.241465426981602,0.18704365827411903,0.26651180917084133,0.23352502955333396,0.2671795609341233,0.2273900602281806,0.23619603660646196,0.22939331551802658,0.2538833333521815,0.2208965537346741,0.21986972791000461,0.2649217109673785,0.18888620358234323,0.2669249662572245,0.2152315089860714,0.17544200828012865,0.18055015178061254,0.22560213483798644,0.1434316581277978,0.22827314189111442,0.23512042510140263,0.22831770401296725,0.20043906789594373,0.27847783057082504,0.19430409857079037,0.279145582334107,0.23404427670330888,0.2010574970858015,0.2347120284665909,0.1949225277606481,0.2037285041389295,0.19692578305049413,0.24161339470187473,0.20862661508436736,0.27429149661748764,0.2649217109673785,0.24330797228982623,0.2669249662572245,0.20296157033576465,0.1631720696298219,0.23497192048809554,0.22560213483798644,0.1978534268352808,0.22827314189111442,0.22285048645109587,0.2160477653626605,0.25486083660342673,0.27847783057082504,0.24872586727827334,0.279145582334107,0.1838841501454511,0.15089737052794372,0.1498705447032742,0.1949225277606481,0.11888702037561286,0.19692578305049413,0.2040817439626768,0.1710949643451694,0.23675984587828966,0.2273900602281806,0.2057763215506283,0.22939331551802655,0.118120086572448,0.1631720696298219,0.18481179393023775,0.17544200828012865,0.1978534268352808,0.1434316581277978,0.13800900268777921,0.2160477653626605,0.20470071004556895,0.22831770401296725,0.24872586727827334,0.19430409857079037,0.19068687123388647,0.15089737052794372,0.1560055140284276,0.2010574970858015,0.11888702037561286,0.2037285041389295,0.2108844650511122,0.1710949643451694,0.24289481520344303,0.23352502955333396,0.2057763215506283,0.23619603660646193,0.16357463202699346,0.20862661508436736,0.2302663393847832,0.2208965537346741,0.2433079722898262,0.1888862035823432,0.13800900268777921,0.22285048645109587,0.20470071004556895,0.23512042510140263,0.25486083660342673,0.20043906789594373,0.19068687123388647,0.1838841501454511,0.1560055140284276,0.23404427670330888,0.1498705447032742,0.2347120284665909,0.2108844650511122,0.2040817439626768,0.24289481520344305,0.26651180917084133,0.23675984587828966,0.2671795609341233,0.16357463202699346,0.24161339470187473,0.2302663393847832,0.2538833333521815,0.27429149661748764,0.21986972791000461,0.11812008657244802,0.20296157033576465,0.18481179393023775,0.2152315089860714,0.23497192048809554,0.18055015178061254,0.2712742332810678,0.24406334892732634,0.27194198504434985,0.23792837960217295,0.2351321690934296,0.22832944800499422,0.258645757462408,0.23143487310866645,0.2246321520202311,0.2754600303413709,0.18782233606931087,0.2658610987441921,0.2199939330962979,0.185980327654121,0.18531257589083902,0.23614045421197882,0.1423677906147654,0.22720927437808203,0.22648743958980438,0.219684718501369,0.19180608238434552,0.2698448450592268,0.18567111305919215,0.2705125968225088,0.2388067008135354,0.21159581645979386,0.23947445257681738,0.2054608471346405,0.20266463662589712,0.19586191553746174,0.24637581881210122,0.21916493445835972,0.2790539207277141,0.2754600303413709,0.24224410477679387,0.2658610987441921,0.20772399444599116,0.17371038900381428,0.23973434459832202,0.23614045421197882,0.1967895593222484,0.22720927437808203,0.21421750093949765,0.20741477985106227,0.2462278510918285,0.2698448450592268,0.24009288176667512,0.2705125968225088,0.1886465742556776,0.16143568990193607,0.15463296881350072,0.2054608471346405,0.11782315286258048,0.19586191553746174,0.2088441680729033,0.18163328371916182,0.24152226998851614,0.23792837960217295,0.20471245403759591,0.22832944800499422,0.12288251068267449,0.17371038900381428,0.18957421804046423,0.185980327654121,0.1967895593222484,0.1423677906147654,0.12937601717618097,0.20741477985106227,0.1960677245339707,0.219684718501369,0.24009288176667512,0.18567111305919215,0.19544929534411296,0.16143568990193607,0.1607679381386541,0.21159581645979386,0.11782315286258048,0.20266463662589712,0.21564688916133867,0.18163328371916182,0.2476572393136695,0.24406334892732634,0.20471245403759591,0.2351321690934296,0.16833705613721994,0.21916493445835972,0.2350287634950097,0.23143487310866645,0.24224410477679387,0.18782233606931087,0.12937601717618097,0.21421750093949765,0.1960677245339707,0.22648743958980438,0.2462278510918285,0.19180608238434552,0.19544929534411296,0.1886465742556776,0.1607679381386541,0.2388067008135354,0.15463296881350072,0.23947445257681738,0.21564688916133867,0.2088441680729033,0.2476572393136695,0.2712742332810678,0.24152226998851614,0.27194198504434985,0.16833705613721994,0.24637581881210122,0.2350287634950097,0.258645757462408,0.2790539207277141,0.2246321520202311,0.12288251068267449,0.20772399444599116,0.18957421804046423,0.2199939330962979,0.23973434459832202,0.18531257589083902],\"xaxis\":\"x\",\"yaxis\":\"y\",\"type\":\"histogram\"}],                        {\"template\":{\"data\":{\"histogram2dcontour\":[{\"type\":\"histogram2dcontour\",\"colorbar\":{\"outlinewidth\":0,\"ticks\":\"\"},\"colorscale\":[[0.0,\"#0d0887\"],[0.1111111111111111,\"#46039f\"],[0.2222222222222222,\"#7201a8\"],[0.3333333333333333,\"#9c179e\"],[0.4444444444444444,\"#bd3786\"],[0.5555555555555556,\"#d8576b\"],[0.6666666666666666,\"#ed7953\"],[0.7777777777777778,\"#fb9f3a\"],[0.8888888888888888,\"#fdca26\"],[1.0,\"#f0f921\"]]}],\"choropleth\":[{\"type\":\"choropleth\",\"colorbar\":{\"outlinewidth\":0,\"ticks\":\"\"}}],\"histogram2d\":[{\"type\":\"histogram2d\",\"colorbar\":{\"outlinewidth\":0,\"ticks\":\"\"},\"colorscale\":[[0.0,\"#0d0887\"],[0.1111111111111111,\"#46039f\"],[0.2222222222222222,\"#7201a8\"],[0.3333333333333333,\"#9c179e\"],[0.4444444444444444,\"#bd3786\"],[0.5555555555555556,\"#d8576b\"],[0.6666666666666666,\"#ed7953\"],[0.7777777777777778,\"#fb9f3a\"],[0.8888888888888888,\"#fdca26\"],[1.0,\"#f0f921\"]]}],\"heatmap\":[{\"type\":\"heatmap\",\"colorbar\":{\"outlinewidth\":0,\"ticks\":\"\"},\"colorscale\":[[0.0,\"#0d0887\"],[0.1111111111111111,\"#46039f\"],[0.2222222222222222,\"#7201a8\"],[0.3333333333333333,\"#9c179e\"],[0.4444444444444444,\"#bd3786\"],[0.5555555555555556,\"#d8576b\"],[0.6666666666666666,\"#ed7953\"],[0.7777777777777778,\"#fb9f3a\"],[0.8888888888888888,\"#fdca26\"],[1.0,\"#f0f921\"]]}],\"heatmapgl\":[{\"type\":\"heatmapgl\",\"colorbar\":{\"outlinewidth\":0,\"ticks\":\"\"},\"colorscale\":[[0.0,\"#0d0887\"],[0.1111111111111111,\"#46039f\"],[0.2222222222222222,\"#7201a8\"],[0.3333333333333333,\"#9c179e\"],[0.4444444444444444,\"#bd3786\"],[0.5555555555555556,\"#d8576b\"],[0.6666666666666666,\"#ed7953\"],[0.7777777777777778,\"#fb9f3a\"],[0.8888888888888888,\"#fdca26\"],[1.0,\"#f0f921\"]]}],\"contourcarpet\":[{\"type\":\"contourcarpet\",\"colorbar\":{\"outlinewidth\":0,\"ticks\":\"\"}}],\"contour\":[{\"type\":\"contour\",\"colorbar\":{\"outlinewidth\":0,\"ticks\":\"\"},\"colorscale\":[[0.0,\"#0d0887\"],[0.1111111111111111,\"#46039f\"],[0.2222222222222222,\"#7201a8\"],[0.3333333333333333,\"#9c179e\"],[0.4444444444444444,\"#bd3786\"],[0.5555555555555556,\"#d8576b\"],[0.6666666666666666,\"#ed7953\"],[0.7777777777777778,\"#fb9f3a\"],[0.8888888888888888,\"#fdca26\"],[1.0,\"#f0f921\"]]}],\"surface\":[{\"type\":\"surface\",\"colorbar\":{\"outlinewidth\":0,\"ticks\":\"\"},\"colorscale\":[[0.0,\"#0d0887\"],[0.1111111111111111,\"#46039f\"],[0.2222222222222222,\"#7201a8\"],[0.3333333333333333,\"#9c179e\"],[0.4444444444444444,\"#bd3786\"],[0.5555555555555556,\"#d8576b\"],[0.6666666666666666,\"#ed7953\"],[0.7777777777777778,\"#fb9f3a\"],[0.8888888888888888,\"#fdca26\"],[1.0,\"#f0f921\"]]}],\"mesh3d\":[{\"type\":\"mesh3d\",\"colorbar\":{\"outlinewidth\":0,\"ticks\":\"\"}}],\"scatter\":[{\"fillpattern\":{\"fillmode\":\"overlay\",\"size\":10,\"solidity\":0.2},\"type\":\"scatter\"}],\"parcoords\":[{\"type\":\"parcoords\",\"line\":{\"colorbar\":{\"outlinewidth\":0,\"ticks\":\"\"}}}],\"scatterpolargl\":[{\"type\":\"scatterpolargl\",\"marker\":{\"colorbar\":{\"outlinewidth\":0,\"ticks\":\"\"}}}],\"bar\":[{\"error_x\":{\"color\":\"#2a3f5f\"},\"error_y\":{\"color\":\"#2a3f5f\"},\"marker\":{\"line\":{\"color\":\"#E5ECF6\",\"width\":0.5},\"pattern\":{\"fillmode\":\"overlay\",\"size\":10,\"solidity\":0.2}},\"type\":\"bar\"}],\"scattergeo\":[{\"type\":\"scattergeo\",\"marker\":{\"colorbar\":{\"outlinewidth\":0,\"ticks\":\"\"}}}],\"scatterpolar\":[{\"type\":\"scatterpolar\",\"marker\":{\"colorbar\":{\"outlinewidth\":0,\"ticks\":\"\"}}}],\"histogram\":[{\"marker\":{\"pattern\":{\"fillmode\":\"overlay\",\"size\":10,\"solidity\":0.2}},\"type\":\"histogram\"}],\"scattergl\":[{\"type\":\"scattergl\",\"marker\":{\"colorbar\":{\"outlinewidth\":0,\"ticks\":\"\"}}}],\"scatter3d\":[{\"type\":\"scatter3d\",\"line\":{\"colorbar\":{\"outlinewidth\":0,\"ticks\":\"\"}},\"marker\":{\"colorbar\":{\"outlinewidth\":0,\"ticks\":\"\"}}}],\"scattermapbox\":[{\"type\":\"scattermapbox\",\"marker\":{\"colorbar\":{\"outlinewidth\":0,\"ticks\":\"\"}}}],\"scatterternary\":[{\"type\":\"scatterternary\",\"marker\":{\"colorbar\":{\"outlinewidth\":0,\"ticks\":\"\"}}}],\"scattercarpet\":[{\"type\":\"scattercarpet\",\"marker\":{\"colorbar\":{\"outlinewidth\":0,\"ticks\":\"\"}}}],\"carpet\":[{\"aaxis\":{\"endlinecolor\":\"#2a3f5f\",\"gridcolor\":\"white\",\"linecolor\":\"white\",\"minorgridcolor\":\"white\",\"startlinecolor\":\"#2a3f5f\"},\"baxis\":{\"endlinecolor\":\"#2a3f5f\",\"gridcolor\":\"white\",\"linecolor\":\"white\",\"minorgridcolor\":\"white\",\"startlinecolor\":\"#2a3f5f\"},\"type\":\"carpet\"}],\"table\":[{\"cells\":{\"fill\":{\"color\":\"#EBF0F8\"},\"line\":{\"color\":\"white\"}},\"header\":{\"fill\":{\"color\":\"#C8D4E3\"},\"line\":{\"color\":\"white\"}},\"type\":\"table\"}],\"barpolar\":[{\"marker\":{\"line\":{\"color\":\"#E5ECF6\",\"width\":0.5},\"pattern\":{\"fillmode\":\"overlay\",\"size\":10,\"solidity\":0.2}},\"type\":\"barpolar\"}],\"pie\":[{\"automargin\":true,\"type\":\"pie\"}]},\"layout\":{\"autotypenumbers\":\"strict\",\"colorway\":[\"#636efa\",\"#EF553B\",\"#00cc96\",\"#ab63fa\",\"#FFA15A\",\"#19d3f3\",\"#FF6692\",\"#B6E880\",\"#FF97FF\",\"#FECB52\"],\"font\":{\"color\":\"#2a3f5f\"},\"hovermode\":\"closest\",\"hoverlabel\":{\"align\":\"left\"},\"paper_bgcolor\":\"white\",\"plot_bgcolor\":\"#E5ECF6\",\"polar\":{\"bgcolor\":\"#E5ECF6\",\"angularaxis\":{\"gridcolor\":\"white\",\"linecolor\":\"white\",\"ticks\":\"\"},\"radialaxis\":{\"gridcolor\":\"white\",\"linecolor\":\"white\",\"ticks\":\"\"}},\"ternary\":{\"bgcolor\":\"#E5ECF6\",\"aaxis\":{\"gridcolor\":\"white\",\"linecolor\":\"white\",\"ticks\":\"\"},\"baxis\":{\"gridcolor\":\"white\",\"linecolor\":\"white\",\"ticks\":\"\"},\"caxis\":{\"gridcolor\":\"white\",\"linecolor\":\"white\",\"ticks\":\"\"}},\"coloraxis\":{\"colorbar\":{\"outlinewidth\":0,\"ticks\":\"\"}},\"colorscale\":{\"sequential\":[[0.0,\"#0d0887\"],[0.1111111111111111,\"#46039f\"],[0.2222222222222222,\"#7201a8\"],[0.3333333333333333,\"#9c179e\"],[0.4444444444444444,\"#bd3786\"],[0.5555555555555556,\"#d8576b\"],[0.6666666666666666,\"#ed7953\"],[0.7777777777777778,\"#fb9f3a\"],[0.8888888888888888,\"#fdca26\"],[1.0,\"#f0f921\"]],\"sequentialminus\":[[0.0,\"#0d0887\"],[0.1111111111111111,\"#46039f\"],[0.2222222222222222,\"#7201a8\"],[0.3333333333333333,\"#9c179e\"],[0.4444444444444444,\"#bd3786\"],[0.5555555555555556,\"#d8576b\"],[0.6666666666666666,\"#ed7953\"],[0.7777777777777778,\"#fb9f3a\"],[0.8888888888888888,\"#fdca26\"],[1.0,\"#f0f921\"]],\"diverging\":[[0,\"#8e0152\"],[0.1,\"#c51b7d\"],[0.2,\"#de77ae\"],[0.3,\"#f1b6da\"],[0.4,\"#fde0ef\"],[0.5,\"#f7f7f7\"],[0.6,\"#e6f5d0\"],[0.7,\"#b8e186\"],[0.8,\"#7fbc41\"],[0.9,\"#4d9221\"],[1,\"#276419\"]]},\"xaxis\":{\"gridcolor\":\"white\",\"linecolor\":\"white\",\"ticks\":\"\",\"title\":{\"standoff\":15},\"zerolinecolor\":\"white\",\"automargin\":true,\"zerolinewidth\":2},\"yaxis\":{\"gridcolor\":\"white\",\"linecolor\":\"white\",\"ticks\":\"\",\"title\":{\"standoff\":15},\"zerolinecolor\":\"white\",\"automargin\":true,\"zerolinewidth\":2},\"scene\":{\"xaxis\":{\"backgroundcolor\":\"#E5ECF6\",\"gridcolor\":\"white\",\"linecolor\":\"white\",\"showbackground\":true,\"ticks\":\"\",\"zerolinecolor\":\"white\",\"gridwidth\":2},\"yaxis\":{\"backgroundcolor\":\"#E5ECF6\",\"gridcolor\":\"white\",\"linecolor\":\"white\",\"showbackground\":true,\"ticks\":\"\",\"zerolinecolor\":\"white\",\"gridwidth\":2},\"zaxis\":{\"backgroundcolor\":\"#E5ECF6\",\"gridcolor\":\"white\",\"linecolor\":\"white\",\"showbackground\":true,\"ticks\":\"\",\"zerolinecolor\":\"white\",\"gridwidth\":2}},\"shapedefaults\":{\"line\":{\"color\":\"#2a3f5f\"}},\"annotationdefaults\":{\"arrowcolor\":\"#2a3f5f\",\"arrowhead\":0,\"arrowwidth\":1},\"geo\":{\"bgcolor\":\"white\",\"landcolor\":\"#E5ECF6\",\"subunitcolor\":\"white\",\"showland\":true,\"showlakes\":true,\"lakecolor\":\"white\"},\"title\":{\"x\":0.05},\"mapbox\":{\"style\":\"light\"}}},\"xaxis\":{\"anchor\":\"y\",\"domain\":[0.0,1.0],\"title\":{\"text\":\"value\"}},\"yaxis\":{\"anchor\":\"x\",\"domain\":[0.0,1.0],\"title\":{\"text\":\"count\"}},\"legend\":{\"title\":{\"text\":\"variable\"},\"tracegroupgap\":0},\"margin\":{\"t\":60},\"barmode\":\"relative\"},                        {\"responsive\": true}                    ).then(function(){\n",
       "                            \n",
       "var gd = document.getElementById('41a0cacf-baad-4275-9b6d-52edb8f327fa');\n",
       "var x = new MutationObserver(function (mutations, observer) {{\n",
       "        var display = window.getComputedStyle(gd).display;\n",
       "        if (!display || display === 'none') {{\n",
       "            console.log([gd, 'removed!']);\n",
       "            Plotly.purge(gd);\n",
       "            observer.disconnect();\n",
       "        }}\n",
       "}});\n",
       "\n",
       "// Listen for the removal of the full notebook cells\n",
       "var notebookContainer = gd.closest('#notebook-container');\n",
       "if (notebookContainer) {{\n",
       "    x.observe(notebookContainer, {childList: true});\n",
       "}}\n",
       "\n",
       "// Listen for the clearing of the current output cell\n",
       "var outputEl = gd.closest('.output');\n",
       "if (outputEl) {{\n",
       "    x.observe(outputEl, {childList: true});\n",
       "}}\n",
       "\n",
       "                        })                };                });            </script>        </div>"
      ]
     },
     "metadata": {},
     "output_type": "display_data"
    }
   ],
   "source": [
    "# total score distribution - average score would be just dividing by the no. of interns.\n",
    "px.histogram(current_week_calendars_scores[:, 0, :].sum(axis=1), nbins=current_week_calendars_scores.shape[0])"
   ]
  },
  {
   "cell_type": "code",
   "execution_count": 119,
   "id": "188dace9-b83c-441a-ab4a-b85e0fd463c6",
   "metadata": {},
   "outputs": [
    {
     "data": {
      "application/vnd.plotly.v1+json": {
       "config": {
        "plotlyServerURL": "https://plot.ly"
       },
       "data": [
        {
         "alignmentgroup": "True",
         "hovertemplate": "variable=0<br>index=%{x}<br>value=%{y}<extra></extra>",
         "legendgroup": "0",
         "marker": {
          "color": "#636efa",
          "pattern": {
           "shape": ""
          }
         },
         "name": "0",
         "offsetgroup": "0",
         "orientation": "v",
         "showlegend": true,
         "textposition": "auto",
         "type": "bar",
         "x": [
          0,
          1,
          2,
          3,
          4,
          5,
          6,
          7
         ],
         "xaxis": "x",
         "y": [
          0.03174603174603179,
          0.0389610389610387,
          0,
          0.040462427745664435,
          0.03271983640081806,
          0.03563941299790356,
          0,
          0.0356394129979035
         ],
         "yaxis": "y"
        }
       ],
       "layout": {
        "autosize": true,
        "barmode": "relative",
        "legend": {
         "title": {
          "text": "variable"
         },
         "tracegroupgap": 0
        },
        "margin": {
         "t": 60
        },
        "template": {
         "data": {
          "bar": [
           {
            "error_x": {
             "color": "#2a3f5f"
            },
            "error_y": {
             "color": "#2a3f5f"
            },
            "marker": {
             "line": {
              "color": "#E5ECF6",
              "width": 0.5
             },
             "pattern": {
              "fillmode": "overlay",
              "size": 10,
              "solidity": 0.2
             }
            },
            "type": "bar"
           }
          ],
          "barpolar": [
           {
            "marker": {
             "line": {
              "color": "#E5ECF6",
              "width": 0.5
             },
             "pattern": {
              "fillmode": "overlay",
              "size": 10,
              "solidity": 0.2
             }
            },
            "type": "barpolar"
           }
          ],
          "carpet": [
           {
            "aaxis": {
             "endlinecolor": "#2a3f5f",
             "gridcolor": "white",
             "linecolor": "white",
             "minorgridcolor": "white",
             "startlinecolor": "#2a3f5f"
            },
            "baxis": {
             "endlinecolor": "#2a3f5f",
             "gridcolor": "white",
             "linecolor": "white",
             "minorgridcolor": "white",
             "startlinecolor": "#2a3f5f"
            },
            "type": "carpet"
           }
          ],
          "choropleth": [
           {
            "colorbar": {
             "outlinewidth": 0,
             "ticks": ""
            },
            "type": "choropleth"
           }
          ],
          "contour": [
           {
            "colorbar": {
             "outlinewidth": 0,
             "ticks": ""
            },
            "colorscale": [
             [
              0,
              "#0d0887"
             ],
             [
              0.1111111111111111,
              "#46039f"
             ],
             [
              0.2222222222222222,
              "#7201a8"
             ],
             [
              0.3333333333333333,
              "#9c179e"
             ],
             [
              0.4444444444444444,
              "#bd3786"
             ],
             [
              0.5555555555555556,
              "#d8576b"
             ],
             [
              0.6666666666666666,
              "#ed7953"
             ],
             [
              0.7777777777777778,
              "#fb9f3a"
             ],
             [
              0.8888888888888888,
              "#fdca26"
             ],
             [
              1,
              "#f0f921"
             ]
            ],
            "type": "contour"
           }
          ],
          "contourcarpet": [
           {
            "colorbar": {
             "outlinewidth": 0,
             "ticks": ""
            },
            "type": "contourcarpet"
           }
          ],
          "heatmap": [
           {
            "colorbar": {
             "outlinewidth": 0,
             "ticks": ""
            },
            "colorscale": [
             [
              0,
              "#0d0887"
             ],
             [
              0.1111111111111111,
              "#46039f"
             ],
             [
              0.2222222222222222,
              "#7201a8"
             ],
             [
              0.3333333333333333,
              "#9c179e"
             ],
             [
              0.4444444444444444,
              "#bd3786"
             ],
             [
              0.5555555555555556,
              "#d8576b"
             ],
             [
              0.6666666666666666,
              "#ed7953"
             ],
             [
              0.7777777777777778,
              "#fb9f3a"
             ],
             [
              0.8888888888888888,
              "#fdca26"
             ],
             [
              1,
              "#f0f921"
             ]
            ],
            "type": "heatmap"
           }
          ],
          "heatmapgl": [
           {
            "colorbar": {
             "outlinewidth": 0,
             "ticks": ""
            },
            "colorscale": [
             [
              0,
              "#0d0887"
             ],
             [
              0.1111111111111111,
              "#46039f"
             ],
             [
              0.2222222222222222,
              "#7201a8"
             ],
             [
              0.3333333333333333,
              "#9c179e"
             ],
             [
              0.4444444444444444,
              "#bd3786"
             ],
             [
              0.5555555555555556,
              "#d8576b"
             ],
             [
              0.6666666666666666,
              "#ed7953"
             ],
             [
              0.7777777777777778,
              "#fb9f3a"
             ],
             [
              0.8888888888888888,
              "#fdca26"
             ],
             [
              1,
              "#f0f921"
             ]
            ],
            "type": "heatmapgl"
           }
          ],
          "histogram": [
           {
            "marker": {
             "pattern": {
              "fillmode": "overlay",
              "size": 10,
              "solidity": 0.2
             }
            },
            "type": "histogram"
           }
          ],
          "histogram2d": [
           {
            "colorbar": {
             "outlinewidth": 0,
             "ticks": ""
            },
            "colorscale": [
             [
              0,
              "#0d0887"
             ],
             [
              0.1111111111111111,
              "#46039f"
             ],
             [
              0.2222222222222222,
              "#7201a8"
             ],
             [
              0.3333333333333333,
              "#9c179e"
             ],
             [
              0.4444444444444444,
              "#bd3786"
             ],
             [
              0.5555555555555556,
              "#d8576b"
             ],
             [
              0.6666666666666666,
              "#ed7953"
             ],
             [
              0.7777777777777778,
              "#fb9f3a"
             ],
             [
              0.8888888888888888,
              "#fdca26"
             ],
             [
              1,
              "#f0f921"
             ]
            ],
            "type": "histogram2d"
           }
          ],
          "histogram2dcontour": [
           {
            "colorbar": {
             "outlinewidth": 0,
             "ticks": ""
            },
            "colorscale": [
             [
              0,
              "#0d0887"
             ],
             [
              0.1111111111111111,
              "#46039f"
             ],
             [
              0.2222222222222222,
              "#7201a8"
             ],
             [
              0.3333333333333333,
              "#9c179e"
             ],
             [
              0.4444444444444444,
              "#bd3786"
             ],
             [
              0.5555555555555556,
              "#d8576b"
             ],
             [
              0.6666666666666666,
              "#ed7953"
             ],
             [
              0.7777777777777778,
              "#fb9f3a"
             ],
             [
              0.8888888888888888,
              "#fdca26"
             ],
             [
              1,
              "#f0f921"
             ]
            ],
            "type": "histogram2dcontour"
           }
          ],
          "mesh3d": [
           {
            "colorbar": {
             "outlinewidth": 0,
             "ticks": ""
            },
            "type": "mesh3d"
           }
          ],
          "parcoords": [
           {
            "line": {
             "colorbar": {
              "outlinewidth": 0,
              "ticks": ""
             }
            },
            "type": "parcoords"
           }
          ],
          "pie": [
           {
            "automargin": true,
            "type": "pie"
           }
          ],
          "scatter": [
           {
            "fillpattern": {
             "fillmode": "overlay",
             "size": 10,
             "solidity": 0.2
            },
            "type": "scatter"
           }
          ],
          "scatter3d": [
           {
            "line": {
             "colorbar": {
              "outlinewidth": 0,
              "ticks": ""
             }
            },
            "marker": {
             "colorbar": {
              "outlinewidth": 0,
              "ticks": ""
             }
            },
            "type": "scatter3d"
           }
          ],
          "scattercarpet": [
           {
            "marker": {
             "colorbar": {
              "outlinewidth": 0,
              "ticks": ""
             }
            },
            "type": "scattercarpet"
           }
          ],
          "scattergeo": [
           {
            "marker": {
             "colorbar": {
              "outlinewidth": 0,
              "ticks": ""
             }
            },
            "type": "scattergeo"
           }
          ],
          "scattergl": [
           {
            "marker": {
             "colorbar": {
              "outlinewidth": 0,
              "ticks": ""
             }
            },
            "type": "scattergl"
           }
          ],
          "scattermapbox": [
           {
            "marker": {
             "colorbar": {
              "outlinewidth": 0,
              "ticks": ""
             }
            },
            "type": "scattermapbox"
           }
          ],
          "scatterpolar": [
           {
            "marker": {
             "colorbar": {
              "outlinewidth": 0,
              "ticks": ""
             }
            },
            "type": "scatterpolar"
           }
          ],
          "scatterpolargl": [
           {
            "marker": {
             "colorbar": {
              "outlinewidth": 0,
              "ticks": ""
             }
            },
            "type": "scatterpolargl"
           }
          ],
          "scatterternary": [
           {
            "marker": {
             "colorbar": {
              "outlinewidth": 0,
              "ticks": ""
             }
            },
            "type": "scatterternary"
           }
          ],
          "surface": [
           {
            "colorbar": {
             "outlinewidth": 0,
             "ticks": ""
            },
            "colorscale": [
             [
              0,
              "#0d0887"
             ],
             [
              0.1111111111111111,
              "#46039f"
             ],
             [
              0.2222222222222222,
              "#7201a8"
             ],
             [
              0.3333333333333333,
              "#9c179e"
             ],
             [
              0.4444444444444444,
              "#bd3786"
             ],
             [
              0.5555555555555556,
              "#d8576b"
             ],
             [
              0.6666666666666666,
              "#ed7953"
             ],
             [
              0.7777777777777778,
              "#fb9f3a"
             ],
             [
              0.8888888888888888,
              "#fdca26"
             ],
             [
              1,
              "#f0f921"
             ]
            ],
            "type": "surface"
           }
          ],
          "table": [
           {
            "cells": {
             "fill": {
              "color": "#EBF0F8"
             },
             "line": {
              "color": "white"
             }
            },
            "header": {
             "fill": {
              "color": "#C8D4E3"
             },
             "line": {
              "color": "white"
             }
            },
            "type": "table"
           }
          ]
         },
         "layout": {
          "annotationdefaults": {
           "arrowcolor": "#2a3f5f",
           "arrowhead": 0,
           "arrowwidth": 1
          },
          "autotypenumbers": "strict",
          "coloraxis": {
           "colorbar": {
            "outlinewidth": 0,
            "ticks": ""
           }
          },
          "colorscale": {
           "diverging": [
            [
             0,
             "#8e0152"
            ],
            [
             0.1,
             "#c51b7d"
            ],
            [
             0.2,
             "#de77ae"
            ],
            [
             0.3,
             "#f1b6da"
            ],
            [
             0.4,
             "#fde0ef"
            ],
            [
             0.5,
             "#f7f7f7"
            ],
            [
             0.6,
             "#e6f5d0"
            ],
            [
             0.7,
             "#b8e186"
            ],
            [
             0.8,
             "#7fbc41"
            ],
            [
             0.9,
             "#4d9221"
            ],
            [
             1,
             "#276419"
            ]
           ],
           "sequential": [
            [
             0,
             "#0d0887"
            ],
            [
             0.1111111111111111,
             "#46039f"
            ],
            [
             0.2222222222222222,
             "#7201a8"
            ],
            [
             0.3333333333333333,
             "#9c179e"
            ],
            [
             0.4444444444444444,
             "#bd3786"
            ],
            [
             0.5555555555555556,
             "#d8576b"
            ],
            [
             0.6666666666666666,
             "#ed7953"
            ],
            [
             0.7777777777777778,
             "#fb9f3a"
            ],
            [
             0.8888888888888888,
             "#fdca26"
            ],
            [
             1,
             "#f0f921"
            ]
           ],
           "sequentialminus": [
            [
             0,
             "#0d0887"
            ],
            [
             0.1111111111111111,
             "#46039f"
            ],
            [
             0.2222222222222222,
             "#7201a8"
            ],
            [
             0.3333333333333333,
             "#9c179e"
            ],
            [
             0.4444444444444444,
             "#bd3786"
            ],
            [
             0.5555555555555556,
             "#d8576b"
            ],
            [
             0.6666666666666666,
             "#ed7953"
            ],
            [
             0.7777777777777778,
             "#fb9f3a"
            ],
            [
             0.8888888888888888,
             "#fdca26"
            ],
            [
             1,
             "#f0f921"
            ]
           ]
          },
          "colorway": [
           "#636efa",
           "#EF553B",
           "#00cc96",
           "#ab63fa",
           "#FFA15A",
           "#19d3f3",
           "#FF6692",
           "#B6E880",
           "#FF97FF",
           "#FECB52"
          ],
          "font": {
           "color": "#2a3f5f"
          },
          "geo": {
           "bgcolor": "white",
           "lakecolor": "white",
           "landcolor": "#E5ECF6",
           "showlakes": true,
           "showland": true,
           "subunitcolor": "white"
          },
          "hoverlabel": {
           "align": "left"
          },
          "hovermode": "closest",
          "mapbox": {
           "style": "light"
          },
          "paper_bgcolor": "white",
          "plot_bgcolor": "#E5ECF6",
          "polar": {
           "angularaxis": {
            "gridcolor": "white",
            "linecolor": "white",
            "ticks": ""
           },
           "bgcolor": "#E5ECF6",
           "radialaxis": {
            "gridcolor": "white",
            "linecolor": "white",
            "ticks": ""
           }
          },
          "scene": {
           "xaxis": {
            "backgroundcolor": "#E5ECF6",
            "gridcolor": "white",
            "gridwidth": 2,
            "linecolor": "white",
            "showbackground": true,
            "ticks": "",
            "zerolinecolor": "white"
           },
           "yaxis": {
            "backgroundcolor": "#E5ECF6",
            "gridcolor": "white",
            "gridwidth": 2,
            "linecolor": "white",
            "showbackground": true,
            "ticks": "",
            "zerolinecolor": "white"
           },
           "zaxis": {
            "backgroundcolor": "#E5ECF6",
            "gridcolor": "white",
            "gridwidth": 2,
            "linecolor": "white",
            "showbackground": true,
            "ticks": "",
            "zerolinecolor": "white"
           }
          },
          "shapedefaults": {
           "line": {
            "color": "#2a3f5f"
           }
          },
          "ternary": {
           "aaxis": {
            "gridcolor": "white",
            "linecolor": "white",
            "ticks": ""
           },
           "baxis": {
            "gridcolor": "white",
            "linecolor": "white",
            "ticks": ""
           },
           "bgcolor": "#E5ECF6",
           "caxis": {
            "gridcolor": "white",
            "linecolor": "white",
            "ticks": ""
           }
          },
          "title": {
           "x": 0.05
          },
          "xaxis": {
           "automargin": true,
           "gridcolor": "white",
           "linecolor": "white",
           "ticks": "",
           "title": {
            "standoff": 15
           },
           "zerolinecolor": "white",
           "zerolinewidth": 2
          },
          "yaxis": {
           "automargin": true,
           "gridcolor": "white",
           "linecolor": "white",
           "ticks": "",
           "title": {
            "standoff": 15
           },
           "zerolinecolor": "white",
           "zerolinewidth": 2
          }
         }
        },
        "xaxis": {
         "anchor": "y",
         "autorange": true,
         "domain": [
          0,
          1
         ],
         "range": [
          -0.5,
          7.5
         ],
         "title": {
          "text": "index"
         },
         "type": "linear"
        },
        "yaxis": {
         "anchor": "x",
         "autorange": true,
         "domain": [
          0,
          1
         ],
         "range": [
          0,
          0.04259202920596256
         ],
         "title": {
          "text": "value"
         },
         "type": "linear"
        }
       }
      },
      "image/png": "[encoded data removed]",
      "text/html": [
       "<div>                            <div id=\"f517bf9a-530b-4e50-be90-566f3f3b501b\" class=\"plotly-graph-div\" style=\"height:525px; width:100%;\"></div>            <script type=\"text/javascript\">                require([\"plotly\"], function(Plotly) {                    window.PLOTLYENV=window.PLOTLYENV || {};                                    if (document.getElementById(\"f517bf9a-530b-4e50-be90-566f3f3b501b\")) {                    Plotly.newPlot(                        \"f517bf9a-530b-4e50-be90-566f3f3b501b\",                        [{\"alignmentgroup\":\"True\",\"hovertemplate\":\"variable=0<br>index=%{x}<br>value=%{y}<extra></extra>\",\"legendgroup\":\"0\",\"marker\":{\"color\":\"#636efa\",\"pattern\":{\"shape\":\"\"}},\"name\":\"0\",\"offsetgroup\":\"0\",\"orientation\":\"v\",\"showlegend\":true,\"textposition\":\"auto\",\"x\":[0,1,2,3,4,5,6,7],\"xaxis\":\"x\",\"y\":[0.03174603174603179,0.0389610389610387,0.0,0.040462427745664435,0.03271983640081806,0.03563941299790356,0.0,0.0356394129979035],\"yaxis\":\"y\",\"type\":\"bar\"}],                        {\"template\":{\"data\":{\"histogram2dcontour\":[{\"type\":\"histogram2dcontour\",\"colorbar\":{\"outlinewidth\":0,\"ticks\":\"\"},\"colorscale\":[[0.0,\"#0d0887\"],[0.1111111111111111,\"#46039f\"],[0.2222222222222222,\"#7201a8\"],[0.3333333333333333,\"#9c179e\"],[0.4444444444444444,\"#bd3786\"],[0.5555555555555556,\"#d8576b\"],[0.6666666666666666,\"#ed7953\"],[0.7777777777777778,\"#fb9f3a\"],[0.8888888888888888,\"#fdca26\"],[1.0,\"#f0f921\"]]}],\"choropleth\":[{\"type\":\"choropleth\",\"colorbar\":{\"outlinewidth\":0,\"ticks\":\"\"}}],\"histogram2d\":[{\"type\":\"histogram2d\",\"colorbar\":{\"outlinewidth\":0,\"ticks\":\"\"},\"colorscale\":[[0.0,\"#0d0887\"],[0.1111111111111111,\"#46039f\"],[0.2222222222222222,\"#7201a8\"],[0.3333333333333333,\"#9c179e\"],[0.4444444444444444,\"#bd3786\"],[0.5555555555555556,\"#d8576b\"],[0.6666666666666666,\"#ed7953\"],[0.7777777777777778,\"#fb9f3a\"],[0.8888888888888888,\"#fdca26\"],[1.0,\"#f0f921\"]]}],\"heatmap\":[{\"type\":\"heatmap\",\"colorbar\":{\"outlinewidth\":0,\"ticks\":\"\"},\"colorscale\":[[0.0,\"#0d0887\"],[0.1111111111111111,\"#46039f\"],[0.2222222222222222,\"#7201a8\"],[0.3333333333333333,\"#9c179e\"],[0.4444444444444444,\"#bd3786\"],[0.5555555555555556,\"#d8576b\"],[0.6666666666666666,\"#ed7953\"],[0.7777777777777778,\"#fb9f3a\"],[0.8888888888888888,\"#fdca26\"],[1.0,\"#f0f921\"]]}],\"heatmapgl\":[{\"type\":\"heatmapgl\",\"colorbar\":{\"outlinewidth\":0,\"ticks\":\"\"},\"colorscale\":[[0.0,\"#0d0887\"],[0.1111111111111111,\"#46039f\"],[0.2222222222222222,\"#7201a8\"],[0.3333333333333333,\"#9c179e\"],[0.4444444444444444,\"#bd3786\"],[0.5555555555555556,\"#d8576b\"],[0.6666666666666666,\"#ed7953\"],[0.7777777777777778,\"#fb9f3a\"],[0.8888888888888888,\"#fdca26\"],[1.0,\"#f0f921\"]]}],\"contourcarpet\":[{\"type\":\"contourcarpet\",\"colorbar\":{\"outlinewidth\":0,\"ticks\":\"\"}}],\"contour\":[{\"type\":\"contour\",\"colorbar\":{\"outlinewidth\":0,\"ticks\":\"\"},\"colorscale\":[[0.0,\"#0d0887\"],[0.1111111111111111,\"#46039f\"],[0.2222222222222222,\"#7201a8\"],[0.3333333333333333,\"#9c179e\"],[0.4444444444444444,\"#bd3786\"],[0.5555555555555556,\"#d8576b\"],[0.6666666666666666,\"#ed7953\"],[0.7777777777777778,\"#fb9f3a\"],[0.8888888888888888,\"#fdca26\"],[1.0,\"#f0f921\"]]}],\"surface\":[{\"type\":\"surface\",\"colorbar\":{\"outlinewidth\":0,\"ticks\":\"\"},\"colorscale\":[[0.0,\"#0d0887\"],[0.1111111111111111,\"#46039f\"],[0.2222222222222222,\"#7201a8\"],[0.3333333333333333,\"#9c179e\"],[0.4444444444444444,\"#bd3786\"],[0.5555555555555556,\"#d8576b\"],[0.6666666666666666,\"#ed7953\"],[0.7777777777777778,\"#fb9f3a\"],[0.8888888888888888,\"#fdca26\"],[1.0,\"#f0f921\"]]}],\"mesh3d\":[{\"type\":\"mesh3d\",\"colorbar\":{\"outlinewidth\":0,\"ticks\":\"\"}}],\"scatter\":[{\"fillpattern\":{\"fillmode\":\"overlay\",\"size\":10,\"solidity\":0.2},\"type\":\"scatter\"}],\"parcoords\":[{\"type\":\"parcoords\",\"line\":{\"colorbar\":{\"outlinewidth\":0,\"ticks\":\"\"}}}],\"scatterpolargl\":[{\"type\":\"scatterpolargl\",\"marker\":{\"colorbar\":{\"outlinewidth\":0,\"ticks\":\"\"}}}],\"bar\":[{\"error_x\":{\"color\":\"#2a3f5f\"},\"error_y\":{\"color\":\"#2a3f5f\"},\"marker\":{\"line\":{\"color\":\"#E5ECF6\",\"width\":0.5},\"pattern\":{\"fillmode\":\"overlay\",\"size\":10,\"solidity\":0.2}},\"type\":\"bar\"}],\"scattergeo\":[{\"type\":\"scattergeo\",\"marker\":{\"colorbar\":{\"outlinewidth\":0,\"ticks\":\"\"}}}],\"scatterpolar\":[{\"type\":\"scatterpolar\",\"marker\":{\"colorbar\":{\"outlinewidth\":0,\"ticks\":\"\"}}}],\"histogram\":[{\"marker\":{\"pattern\":{\"fillmode\":\"overlay\",\"size\":10,\"solidity\":0.2}},\"type\":\"histogram\"}],\"scattergl\":[{\"type\":\"scattergl\",\"marker\":{\"colorbar\":{\"outlinewidth\":0,\"ticks\":\"\"}}}],\"scatter3d\":[{\"type\":\"scatter3d\",\"line\":{\"colorbar\":{\"outlinewidth\":0,\"ticks\":\"\"}},\"marker\":{\"colorbar\":{\"outlinewidth\":0,\"ticks\":\"\"}}}],\"scattermapbox\":[{\"type\":\"scattermapbox\",\"marker\":{\"colorbar\":{\"outlinewidth\":0,\"ticks\":\"\"}}}],\"scatterternary\":[{\"type\":\"scatterternary\",\"marker\":{\"colorbar\":{\"outlinewidth\":0,\"ticks\":\"\"}}}],\"scattercarpet\":[{\"type\":\"scattercarpet\",\"marker\":{\"colorbar\":{\"outlinewidth\":0,\"ticks\":\"\"}}}],\"carpet\":[{\"aaxis\":{\"endlinecolor\":\"#2a3f5f\",\"gridcolor\":\"white\",\"linecolor\":\"white\",\"minorgridcolor\":\"white\",\"startlinecolor\":\"#2a3f5f\"},\"baxis\":{\"endlinecolor\":\"#2a3f5f\",\"gridcolor\":\"white\",\"linecolor\":\"white\",\"minorgridcolor\":\"white\",\"startlinecolor\":\"#2a3f5f\"},\"type\":\"carpet\"}],\"table\":[{\"cells\":{\"fill\":{\"color\":\"#EBF0F8\"},\"line\":{\"color\":\"white\"}},\"header\":{\"fill\":{\"color\":\"#C8D4E3\"},\"line\":{\"color\":\"white\"}},\"type\":\"table\"}],\"barpolar\":[{\"marker\":{\"line\":{\"color\":\"#E5ECF6\",\"width\":0.5},\"pattern\":{\"fillmode\":\"overlay\",\"size\":10,\"solidity\":0.2}},\"type\":\"barpolar\"}],\"pie\":[{\"automargin\":true,\"type\":\"pie\"}]},\"layout\":{\"autotypenumbers\":\"strict\",\"colorway\":[\"#636efa\",\"#EF553B\",\"#00cc96\",\"#ab63fa\",\"#FFA15A\",\"#19d3f3\",\"#FF6692\",\"#B6E880\",\"#FF97FF\",\"#FECB52\"],\"font\":{\"color\":\"#2a3f5f\"},\"hovermode\":\"closest\",\"hoverlabel\":{\"align\":\"left\"},\"paper_bgcolor\":\"white\",\"plot_bgcolor\":\"#E5ECF6\",\"polar\":{\"bgcolor\":\"#E5ECF6\",\"angularaxis\":{\"gridcolor\":\"white\",\"linecolor\":\"white\",\"ticks\":\"\"},\"radialaxis\":{\"gridcolor\":\"white\",\"linecolor\":\"white\",\"ticks\":\"\"}},\"ternary\":{\"bgcolor\":\"#E5ECF6\",\"aaxis\":{\"gridcolor\":\"white\",\"linecolor\":\"white\",\"ticks\":\"\"},\"baxis\":{\"gridcolor\":\"white\",\"linecolor\":\"white\",\"ticks\":\"\"},\"caxis\":{\"gridcolor\":\"white\",\"linecolor\":\"white\",\"ticks\":\"\"}},\"coloraxis\":{\"colorbar\":{\"outlinewidth\":0,\"ticks\":\"\"}},\"colorscale\":{\"sequential\":[[0.0,\"#0d0887\"],[0.1111111111111111,\"#46039f\"],[0.2222222222222222,\"#7201a8\"],[0.3333333333333333,\"#9c179e\"],[0.4444444444444444,\"#bd3786\"],[0.5555555555555556,\"#d8576b\"],[0.6666666666666666,\"#ed7953\"],[0.7777777777777778,\"#fb9f3a\"],[0.8888888888888888,\"#fdca26\"],[1.0,\"#f0f921\"]],\"sequentialminus\":[[0.0,\"#0d0887\"],[0.1111111111111111,\"#46039f\"],[0.2222222222222222,\"#7201a8\"],[0.3333333333333333,\"#9c179e\"],[0.4444444444444444,\"#bd3786\"],[0.5555555555555556,\"#d8576b\"],[0.6666666666666666,\"#ed7953\"],[0.7777777777777778,\"#fb9f3a\"],[0.8888888888888888,\"#fdca26\"],[1.0,\"#f0f921\"]],\"diverging\":[[0,\"#8e0152\"],[0.1,\"#c51b7d\"],[0.2,\"#de77ae\"],[0.3,\"#f1b6da\"],[0.4,\"#fde0ef\"],[0.5,\"#f7f7f7\"],[0.6,\"#e6f5d0\"],[0.7,\"#b8e186\"],[0.8,\"#7fbc41\"],[0.9,\"#4d9221\"],[1,\"#276419\"]]},\"xaxis\":{\"gridcolor\":\"white\",\"linecolor\":\"white\",\"ticks\":\"\",\"title\":{\"standoff\":15},\"zerolinecolor\":\"white\",\"automargin\":true,\"zerolinewidth\":2},\"yaxis\":{\"gridcolor\":\"white\",\"linecolor\":\"white\",\"ticks\":\"\",\"title\":{\"standoff\":15},\"zerolinecolor\":\"white\",\"automargin\":true,\"zerolinewidth\":2},\"scene\":{\"xaxis\":{\"backgroundcolor\":\"#E5ECF6\",\"gridcolor\":\"white\",\"linecolor\":\"white\",\"showbackground\":true,\"ticks\":\"\",\"zerolinecolor\":\"white\",\"gridwidth\":2},\"yaxis\":{\"backgroundcolor\":\"#E5ECF6\",\"gridcolor\":\"white\",\"linecolor\":\"white\",\"showbackground\":true,\"ticks\":\"\",\"zerolinecolor\":\"white\",\"gridwidth\":2},\"zaxis\":{\"backgroundcolor\":\"#E5ECF6\",\"gridcolor\":\"white\",\"linecolor\":\"white\",\"showbackground\":true,\"ticks\":\"\",\"zerolinecolor\":\"white\",\"gridwidth\":2}},\"shapedefaults\":{\"line\":{\"color\":\"#2a3f5f\"}},\"annotationdefaults\":{\"arrowcolor\":\"#2a3f5f\",\"arrowhead\":0,\"arrowwidth\":1},\"geo\":{\"bgcolor\":\"white\",\"landcolor\":\"#E5ECF6\",\"subunitcolor\":\"white\",\"showland\":true,\"showlakes\":true,\"lakecolor\":\"white\"},\"title\":{\"x\":0.05},\"mapbox\":{\"style\":\"light\"}}},\"xaxis\":{\"anchor\":\"y\",\"domain\":[0.0,1.0],\"title\":{\"text\":\"index\"}},\"yaxis\":{\"anchor\":\"x\",\"domain\":[0.0,1.0],\"title\":{\"text\":\"value\"}},\"legend\":{\"title\":{\"text\":\"variable\"},\"tracegroupgap\":0},\"margin\":{\"t\":60},\"barmode\":\"relative\"},                        {\"responsive\": true}                    ).then(function(){\n",
       "                            \n",
       "var gd = document.getElementById('f517bf9a-530b-4e50-be90-566f3f3b501b');\n",
       "var x = new MutationObserver(function (mutations, observer) {{\n",
       "        var display = window.getComputedStyle(gd).display;\n",
       "        if (!display || display === 'none') {{\n",
       "            console.log([gd, 'removed!']);\n",
       "            Plotly.purge(gd);\n",
       "            observer.disconnect();\n",
       "        }}\n",
       "}});\n",
       "\n",
       "// Listen for the removal of the full notebook cells\n",
       "var notebookContainer = gd.closest('#notebook-container');\n",
       "if (notebookContainer) {{\n",
       "    x.observe(notebookContainer, {childList: true});\n",
       "}}\n",
       "\n",
       "// Listen for the clearing of the current output cell\n",
       "var outputEl = gd.closest('.output');\n",
       "if (outputEl) {{\n",
       "    x.observe(outputEl, {childList: true});\n",
       "}}\n",
       "\n",
       "                        })                };                });            </script>        </div>"
      ]
     },
     "metadata": {},
     "output_type": "display_data"
    }
   ],
   "source": [
    "# average score for each participant across all possibilities for the current week\n",
    "px.bar(current_week_calendars_scores[:, 0, :].sum(axis=0) / current_week_calendars_scores.shape[0])#, nbins=current_week_calendars_scores.shape[2])"
   ]
  },
  {
   "cell_type": "code",
   "execution_count": 120,
   "id": "a75013c1-d1fd-4ec1-8eec-ba413722c094",
   "metadata": {},
   "outputs": [
    {
     "data": {
      "text/html": [
       "<div>\n",
       "<style scoped>\n",
       "    .dataframe tbody tr th:only-of-type {\n",
       "        vertical-align: middle;\n",
       "    }\n",
       "\n",
       "    .dataframe tbody tr th {\n",
       "        vertical-align: top;\n",
       "    }\n",
       "\n",
       "    .dataframe thead th {\n",
       "        text-align: right;\n",
       "    }\n",
       "</style>\n",
       "<table border=\"1\" class=\"dataframe\">\n",
       "  <thead>\n",
       "    <tr style=\"text-align: right;\">\n",
       "      <th></th>\n",
       "      <th>0</th>\n",
       "      <th>1</th>\n",
       "      <th>2</th>\n",
       "      <th>3</th>\n",
       "      <th>4</th>\n",
       "      <th>5</th>\n",
       "      <th>6</th>\n",
       "      <th>7</th>\n",
       "    </tr>\n",
       "  </thead>\n",
       "  <tbody>\n",
       "    <tr>\n",
       "      <th>count</th>\n",
       "      <td>720.000000</td>\n",
       "      <td>720.000000</td>\n",
       "      <td>720.0</td>\n",
       "      <td>720.000000</td>\n",
       "      <td>720.000000</td>\n",
       "      <td>720.000000</td>\n",
       "      <td>720.0</td>\n",
       "      <td>720.000000</td>\n",
       "    </tr>\n",
       "    <tr>\n",
       "      <th>mean</th>\n",
       "      <td>0.031746</td>\n",
       "      <td>0.038961</td>\n",
       "      <td>0.0</td>\n",
       "      <td>0.040462</td>\n",
       "      <td>0.032720</td>\n",
       "      <td>0.035639</td>\n",
       "      <td>0.0</td>\n",
       "      <td>0.035639</td>\n",
       "    </tr>\n",
       "    <tr>\n",
       "      <th>std</th>\n",
       "      <td>0.019520</td>\n",
       "      <td>0.019130</td>\n",
       "      <td>0.0</td>\n",
       "      <td>0.018292</td>\n",
       "      <td>0.014470</td>\n",
       "      <td>0.019791</td>\n",
       "      <td>0.0</td>\n",
       "      <td>0.019791</td>\n",
       "    </tr>\n",
       "    <tr>\n",
       "      <th>min</th>\n",
       "      <td>0.006803</td>\n",
       "      <td>0.012987</td>\n",
       "      <td>0.0</td>\n",
       "      <td>0.017341</td>\n",
       "      <td>0.006135</td>\n",
       "      <td>0.018868</td>\n",
       "      <td>0.0</td>\n",
       "      <td>0.018868</td>\n",
       "    </tr>\n",
       "    <tr>\n",
       "      <th>25%</th>\n",
       "      <td>0.013605</td>\n",
       "      <td>0.019481</td>\n",
       "      <td>0.0</td>\n",
       "      <td>0.017341</td>\n",
       "      <td>0.024540</td>\n",
       "      <td>0.018868</td>\n",
       "      <td>0.0</td>\n",
       "      <td>0.018868</td>\n",
       "    </tr>\n",
       "    <tr>\n",
       "      <th>50%</th>\n",
       "      <td>0.030612</td>\n",
       "      <td>0.038961</td>\n",
       "      <td>0.0</td>\n",
       "      <td>0.046243</td>\n",
       "      <td>0.036810</td>\n",
       "      <td>0.025157</td>\n",
       "      <td>0.0</td>\n",
       "      <td>0.025157</td>\n",
       "    </tr>\n",
       "    <tr>\n",
       "      <th>75%</th>\n",
       "      <td>0.047619</td>\n",
       "      <td>0.058442</td>\n",
       "      <td>0.0</td>\n",
       "      <td>0.057803</td>\n",
       "      <td>0.042945</td>\n",
       "      <td>0.062893</td>\n",
       "      <td>0.0</td>\n",
       "      <td>0.062893</td>\n",
       "    </tr>\n",
       "    <tr>\n",
       "      <th>max</th>\n",
       "      <td>0.061224</td>\n",
       "      <td>0.064935</td>\n",
       "      <td>0.0</td>\n",
       "      <td>0.057803</td>\n",
       "      <td>0.049080</td>\n",
       "      <td>0.062893</td>\n",
       "      <td>0.0</td>\n",
       "      <td>0.062893</td>\n",
       "    </tr>\n",
       "  </tbody>\n",
       "</table>\n",
       "</div>"
      ],
      "text/plain": [
       "                0           1      2           3           4           5  \\\n",
       "count  720.000000  720.000000  720.0  720.000000  720.000000  720.000000   \n",
       "mean     0.031746    0.038961    0.0    0.040462    0.032720    0.035639   \n",
       "std      0.019520    0.019130    0.0    0.018292    0.014470    0.019791   \n",
       "min      0.006803    0.012987    0.0    0.017341    0.006135    0.018868   \n",
       "25%      0.013605    0.019481    0.0    0.017341    0.024540    0.018868   \n",
       "50%      0.030612    0.038961    0.0    0.046243    0.036810    0.025157   \n",
       "75%      0.047619    0.058442    0.0    0.057803    0.042945    0.062893   \n",
       "max      0.061224    0.064935    0.0    0.057803    0.049080    0.062893   \n",
       "\n",
       "           6           7  \n",
       "count  720.0  720.000000  \n",
       "mean     0.0    0.035639  \n",
       "std      0.0    0.019791  \n",
       "min      0.0    0.018868  \n",
       "25%      0.0    0.018868  \n",
       "50%      0.0    0.025157  \n",
       "75%      0.0    0.062893  \n",
       "max      0.0    0.062893  "
      ]
     },
     "execution_count": 120,
     "metadata": {},
     "output_type": "execute_result"
    }
   ],
   "source": [
    "# variance of score for each participant across all possibilities for the current week\n",
    "df = pd.DataFrame(np.transpose(current_week_calendars_scores[:, 0, :], (0,1)))\n",
    "df.describe()"
   ]
  },
  {
   "cell_type": "code",
   "execution_count": 121,
   "id": "d70ae5fd-f75b-43db-a2c2-ebb773b4532a",
   "metadata": {},
   "outputs": [],
   "source": [
    "# variance of score between participants in each possibility for the current week\n",
    "df = pd.DataFrame(np.transpose(current_week_calendars_scores[:, 0, :], (1,0)))\n",
    "df = df.describe()"
   ]
  },
  {
   "cell_type": "code",
   "execution_count": 122,
   "id": "faaf07ee-fd69-4bfd-a7b6-ab1155c76aad",
   "metadata": {},
   "outputs": [
    {
     "data": {
      "application/vnd.plotly.v1+json": {
       "config": {
        "plotlyServerURL": "https://plot.ly"
       },
       "data": [
        {
         "alignmentgroup": "True",
         "hovertemplate": "variable=std<br>index=%{x}<br>value=%{y}<extra></extra>",
         "legendgroup": "std",
         "marker": {
          "color": "#636efa",
          "pattern": {
           "shape": ""
          }
         },
         "name": "std",
         "offsetgroup": "std",
         "orientation": "v",
         "showlegend": true,
         "textposition": "auto",
         "type": "bar",
         "x": [
          0,
          1,
          2,
          3,
          4,
          5,
          6,
          7,
          8,
          9,
          10,
          11,
          12,
          13,
          14,
          15,
          16,
          17,
          18,
          19,
          20,
          21,
          22,
          23,
          24,
          25,
          26,
          27,
          28,
          29,
          30,
          31,
          32,
          33,
          34,
          35,
          36,
          37,
          38,
          39,
          40,
          41,
          42,
          43,
          44,
          45,
          46,
          47,
          48,
          49,
          50,
          51,
          52,
          53,
          54,
          55,
          56,
          57,
          58,
          59,
          60,
          61,
          62,
          63,
          64,
          65,
          66,
          67,
          68,
          69,
          70,
          71,
          72,
          73,
          74,
          75,
          76,
          77,
          78,
          79,
          80,
          81,
          82,
          83,
          84,
          85,
          86,
          87,
          88,
          89,
          90,
          91,
          92,
          93,
          94,
          95,
          96,
          97,
          98,
          99,
          100,
          101,
          102,
          103,
          104,
          105,
          106,
          107,
          108,
          109,
          110,
          111,
          112,
          113,
          114,
          115,
          116,
          117,
          118,
          119,
          120,
          121,
          122,
          123,
          124,
          125,
          126,
          127,
          128,
          129,
          130,
          131,
          132,
          133,
          134,
          135,
          136,
          137,
          138,
          139,
          140,
          141,
          142,
          143,
          144,
          145,
          146,
          147,
          148,
          149,
          150,
          151,
          152,
          153,
          154,
          155,
          156,
          157,
          158,
          159,
          160,
          161,
          162,
          163,
          164,
          165,
          166,
          167,
          168,
          169,
          170,
          171,
          172,
          173,
          174,
          175,
          176,
          177,
          178,
          179,
          180,
          181,
          182,
          183,
          184,
          185,
          186,
          187,
          188,
          189,
          190,
          191,
          192,
          193,
          194,
          195,
          196,
          197,
          198,
          199,
          200,
          201,
          202,
          203,
          204,
          205,
          206,
          207,
          208,
          209,
          210,
          211,
          212,
          213,
          214,
          215,
          216,
          217,
          218,
          219,
          220,
          221,
          222,
          223,
          224,
          225,
          226,
          227,
          228,
          229,
          230,
          231,
          232,
          233,
          234,
          235,
          236,
          237,
          238,
          239,
          240,
          241,
          242,
          243,
          244,
          245,
          246,
          247,
          248,
          249,
          250,
          251,
          252,
          253,
          254,
          255,
          256,
          257,
          258,
          259,
          260,
          261,
          262,
          263,
          264,
          265,
          266,
          267,
          268,
          269,
          270,
          271,
          272,
          273,
          274,
          275,
          276,
          277,
          278,
          279,
          280,
          281,
          282,
          283,
          284,
          285,
          286,
          287,
          288,
          289,
          290,
          291,
          292,
          293,
          294,
          295,
          296,
          297,
          298,
          299,
          300,
          301,
          302,
          303,
          304,
          305,
          306,
          307,
          308,
          309,
          310,
          311,
          312,
          313,
          314,
          315,
          316,
          317,
          318,
          319,
          320,
          321,
          322,
          323,
          324,
          325,
          326,
          327,
          328,
          329,
          330,
          331,
          332,
          333,
          334,
          335,
          336,
          337,
          338,
          339,
          340,
          341,
          342,
          343,
          344,
          345,
          346,
          347,
          348,
          349,
          350,
          351,
          352,
          353,
          354,
          355,
          356,
          357,
          358,
          359,
          360,
          361,
          362,
          363,
          364,
          365,
          366,
          367,
          368,
          369,
          370,
          371,
          372,
          373,
          374,
          375,
          376,
          377,
          378,
          379,
          380,
          381,
          382,
          383,
          384,
          385,
          386,
          387,
          388,
          389,
          390,
          391,
          392,
          393,
          394,
          395,
          396,
          397,
          398,
          399,
          400,
          401,
          402,
          403,
          404,
          405,
          406,
          407,
          408,
          409,
          410,
          411,
          412,
          413,
          414,
          415,
          416,
          417,
          418,
          419,
          420,
          421,
          422,
          423,
          424,
          425,
          426,
          427,
          428,
          429,
          430,
          431,
          432,
          433,
          434,
          435,
          436,
          437,
          438,
          439,
          440,
          441,
          442,
          443,
          444,
          445,
          446,
          447,
          448,
          449,
          450,
          451,
          452,
          453,
          454,
          455,
          456,
          457,
          458,
          459,
          460,
          461,
          462,
          463,
          464,
          465,
          466,
          467,
          468,
          469,
          470,
          471,
          472,
          473,
          474,
          475,
          476,
          477,
          478,
          479,
          480,
          481,
          482,
          483,
          484,
          485,
          486,
          487,
          488,
          489,
          490,
          491,
          492,
          493,
          494,
          495,
          496,
          497,
          498,
          499,
          500,
          501,
          502,
          503,
          504,
          505,
          506,
          507,
          508,
          509,
          510,
          511,
          512,
          513,
          514,
          515,
          516,
          517,
          518,
          519,
          520,
          521,
          522,
          523,
          524,
          525,
          526,
          527,
          528,
          529,
          530,
          531,
          532,
          533,
          534,
          535,
          536,
          537,
          538,
          539,
          540,
          541,
          542,
          543,
          544,
          545,
          546,
          547,
          548,
          549,
          550,
          551,
          552,
          553,
          554,
          555,
          556,
          557,
          558,
          559,
          560,
          561,
          562,
          563,
          564,
          565,
          566,
          567,
          568,
          569,
          570,
          571,
          572,
          573,
          574,
          575,
          576,
          577,
          578,
          579,
          580,
          581,
          582,
          583,
          584,
          585,
          586,
          587,
          588,
          589,
          590,
          591,
          592,
          593,
          594,
          595,
          596,
          597,
          598,
          599,
          600,
          601,
          602,
          603,
          604,
          605,
          606,
          607,
          608,
          609,
          610,
          611,
          612,
          613,
          614,
          615,
          616,
          617,
          618,
          619,
          620,
          621,
          622,
          623,
          624,
          625,
          626,
          627,
          628,
          629,
          630,
          631,
          632,
          633,
          634,
          635,
          636,
          637,
          638,
          639,
          640,
          641,
          642,
          643,
          644,
          645,
          646,
          647,
          648,
          649,
          650,
          651,
          652,
          653,
          654,
          655,
          656,
          657,
          658,
          659,
          660,
          661,
          662,
          663,
          664,
          665,
          666,
          667,
          668,
          669,
          670,
          671,
          672,
          673,
          674,
          675,
          676,
          677,
          678,
          679,
          680,
          681,
          682,
          683,
          684,
          685,
          686,
          687,
          688,
          689,
          690,
          691,
          692,
          693,
          694,
          695,
          696,
          697,
          698,
          699,
          700,
          701,
          702,
          703,
          704,
          705,
          706,
          707,
          708,
          709,
          710,
          711,
          712,
          713,
          714,
          715,
          716,
          717,
          718,
          719
         ],
         "xaxis": "x",
         "y": [
          0.011640855646469026,
          0.011640855646469026,
          0.011640855646469026,
          0.011640855646469026,
          0.012290743167320737,
          0.012290743167320737,
          0.012370706271128455,
          0.012370706271128455,
          0.013001185090906819,
          0.013001185090906819,
          0.013015428607072608,
          0.013015428607072608,
          0.013034506570174445,
          0.013034506570174445,
          0.013719706878572423,
          0.013719706878572423,
          0.014547189994250436,
          0.014547189994250436,
          0.014547189994250436,
          0.014547189994250436,
          0.015403081652295448,
          0.015403081652295448,
          0.015516061566151474,
          0.015516061566151474,
          0.015516061566151474,
          0.015516061566151474,
          0.015769146848431937,
          0.015769146848431937,
          0.0159580697616006,
          0.0159580697616006,
          0.016347113200480948,
          0.016347113200480948,
          0.01683232590551781,
          0.016832325905517812,
          0.017032617449978405,
          0.017032617449978405,
          0.01737247467041365,
          0.01737247467041365,
          0.01737247467041365,
          0.01737247467041365,
          0.017701059847503618,
          0.017701059847503618,
          0.017993565433774915,
          0.017993565433774915,
          0.01799356543377492,
          0.01799356543377492,
          0.01814922056988083,
          0.01814922056988083,
          0.018288945193043936,
          0.018288945193043936,
          0.01849690034262927,
          0.01849690034262927,
          0.01852976762616798,
          0.01852976762616798,
          0.01861247100148261,
          0.01861247100148261,
          0.018684884920882393,
          0.018684884920882393,
          0.019130404795942097,
          0.019130404795942097,
          0.019182572449330457,
          0.019182572449330457,
          0.019205023593143414,
          0.019205023593143414,
          0.019444340837802013,
          0.019444340837802013,
          0.01961330906758993,
          0.01961330906758993,
          0.01963400276252987,
          0.01963400276252987,
          0.019646511985538778,
          0.019646511985538778,
          0.019652886542359818,
          0.019652886542359818,
          0.019652886542359818,
          0.019652886542359818,
          0.01969905770783202,
          0.01969905770783202,
          0.019704781516181234,
          0.019704781516181234,
          0.01982379166259165,
          0.01982379166259165,
          0.01991163447933637,
          0.01991163447933637,
          0.019963672349286282,
          0.019963672349286282,
          0.019967133402821784,
          0.019967133402821784,
          0.019967133402821784,
          0.019967133402821784,
          0.020036435757369974,
          0.020036435757369978,
          0.02010873602530692,
          0.02010873602530692,
          0.02018949846562161,
          0.02018949846562161,
          0.02020542721654522,
          0.020205427216545224,
          0.020276693256605537,
          0.020276693256605537,
          0.020395439061913646,
          0.020395439061913646,
          0.020395439061913646,
          0.020395439061913646,
          0.020450375423712218,
          0.020450375423712218,
          0.020450375423712218,
          0.020450375423712218,
          0.020490344357259285,
          0.020490344357259285,
          0.020544704430471846,
          0.020544704430471846,
          0.020560255793985852,
          0.020560255793985852,
          0.020594263624857924,
          0.020594263624857924,
          0.02061614367558794,
          0.02061614367558794,
          0.020673426593351602,
          0.020673426593351602,
          0.020686669034697736,
          0.020686669034697736,
          0.02078700835652931,
          0.02078700835652931,
          0.020829887248051678,
          0.02082988724805168,
          0.02085002165057632,
          0.02085002165057632,
          0.02086562736028021,
          0.02086562736028021,
          0.020898295519678017,
          0.020898295519678017,
          0.020968682436254917,
          0.020968682436254917,
          0.020981992912998956,
          0.020981992912998956,
          0.020984811546380013,
          0.020984811546380013,
          0.021000334160193704,
          0.021000334160193704,
          0.021021484410499808,
          0.021021484410499808,
          0.021052541947735457,
          0.021052541947735457,
          0.021094758662591254,
          0.021094758662591258,
          0.021122713064026077,
          0.02112271306402608,
          0.021129094991017554,
          0.021129094991017554,
          0.021158009629680334,
          0.021158009629680334,
          0.02117115806338476,
          0.02117115806338476,
          0.02127817520956456,
          0.02127817520956456,
          0.021291660295524276,
          0.021291660295524276,
          0.02129668647277801,
          0.02129668647277801,
          0.021306569711002046,
          0.021306569711002046,
          0.021327048923797477,
          0.021327048923797477,
          0.021361423597047843,
          0.021361423597047843,
          0.021474554661394852,
          0.021474554661394852,
          0.021492154516297313,
          0.021492154516297313,
          0.021518773441434907,
          0.021518773441434907,
          0.02159003341957131,
          0.02159003341957131,
          0.021615992708331006,
          0.021615992708331006,
          0.02166741944263227,
          0.02166741944263227,
          0.02175367951740662,
          0.02175367951740662,
          0.021762454770503672,
          0.021762454770503672,
          0.021768206365980057,
          0.021768206365980057,
          0.021781769530919155,
          0.02178176953091916,
          0.021792847196648653,
          0.021792847196648653,
          0.021866474713904027,
          0.021866474713904027,
          0.021869767153671664,
          0.021869767153671664,
          0.021869767153671664,
          0.021869767153671664,
          0.021873722822344212,
          0.021873722822344212,
          0.0219289639006453,
          0.0219289639006453,
          0.021929280438899915,
          0.021929280438899915,
          0.021946138081659492,
          0.021946138081659492,
          0.022002678109558305,
          0.022002678109558305,
          0.0220205028560136,
          0.0220205028560136,
          0.022147943101348058,
          0.022147943101348058,
          0.022147943101348058,
          0.022147943101348058,
          0.022163971588501516,
          0.022163971588501516,
          0.022163971588501516,
          0.022163971588501516,
          0.022202653665059933,
          0.022202653665059933,
          0.02223928844248668,
          0.02223928844248668,
          0.022274725875833484,
          0.022274725875833484,
          0.022281276587070145,
          0.022281276587070145,
          0.022286766818433106,
          0.022286766818433106,
          0.022354003256336318,
          0.022354003256336318,
          0.02239784927005344,
          0.02239784927005344,
          0.02239784927005344,
          0.02239784927005344,
          0.022398508592388844,
          0.022398508592388844,
          0.022407717070561606,
          0.02240771707056161,
          0.022440041557722154,
          0.022440041557722158,
          0.02244669513838706,
          0.02244669513838706,
          0.022446703246862508,
          0.022446703246862508,
          0.022452525375456535,
          0.022452525375456535,
          0.02250619235514238,
          0.02250619235514238,
          0.022570073064141518,
          0.02257007306414152,
          0.022582210249653584,
          0.022582210249653584,
          0.022650157544933148,
          0.02265015754493315,
          0.02265780826612531,
          0.02265780826612531,
          0.02275629904987564,
          0.022756299049875642,
          0.022841798219355964,
          0.022841798219355964,
          0.022871455780967897,
          0.022871455780967897,
          0.022900149165032434,
          0.022900149165032434,
          0.022904993355609877,
          0.02290499335560988,
          0.02292563504004197,
          0.02292563504004197,
          0.02292563504004197,
          0.02292563504004197,
          0.023011053411192448,
          0.023011053411192448,
          0.02301809178368987,
          0.02301809178368987,
          0.023081893148205496,
          0.023081893148205496,
          0.023099325371690915,
          0.023099325371690915,
          0.023113440396191714,
          0.023113440396191717,
          0.023127242417239614,
          0.023127242417239614,
          0.023130713986451872,
          0.023130713986451872,
          0.02314636150635885,
          0.02314636150635885,
          0.02323549225785038,
          0.02323549225785038,
          0.02328121106267457,
          0.02328121106267457,
          0.02337287095809269,
          0.02337287095809269,
          0.023376278137652386,
          0.023376278137652386,
          0.02343853064329529,
          0.02343853064329529,
          0.023450973030803766,
          0.023450973030803766,
          0.023464060479841578,
          0.023464060479841578,
          0.023514393700299938,
          0.023514393700299938,
          0.023543249524685936,
          0.023543249524685936,
          0.02354324952468594,
          0.02354324952468594,
          0.02355533068609043,
          0.02355533068609043,
          0.02363006399542806,
          0.02363006399542806,
          0.02369735570563,
          0.023697355705630002,
          0.023735966804610976,
          0.023735966804610976,
          0.023735966804610976,
          0.023735966804610976,
          0.023738070763415883,
          0.023738070763415883,
          0.023738070763415883,
          0.023738070763415883,
          0.023751959362213977,
          0.023751959362213977,
          0.023815786387216892,
          0.023815786387216892,
          0.023822018556559875,
          0.023822018556559875,
          0.023891137121828096,
          0.0238911371218281,
          0.02392237678596421,
          0.02392237678596421,
          0.02392237678596421,
          0.02392237678596421,
          0.023958706788368606,
          0.023958706788368606,
          0.023972346565843867,
          0.023972346565843867,
          0.02398177968560584,
          0.02398177968560584,
          0.023981779685605845,
          0.023981779685605845,
          0.024002005338422967,
          0.024002005338422967,
          0.02400706545332893,
          0.02400706545332893,
          0.02402543836685919,
          0.02402543836685919,
          0.02402946988669597,
          0.024029469886695975,
          0.024058549149000144,
          0.024058549149000144,
          0.024092370944778174,
          0.024092370944778174,
          0.024092370944778174,
          0.024092370944778174,
          0.02413599686288813,
          0.02413599686288813,
          0.024197973097322887,
          0.02419797309732289,
          0.024199614561209528,
          0.02419961456120953,
          0.024204866038743736,
          0.02420486603874374,
          0.024213102464757084,
          0.024213102464757084,
          0.024232245315418663,
          0.024232245315418663,
          0.024232245315418663,
          0.024232245315418663,
          0.024232245315418663,
          0.024232245315418663,
          0.024235415436772264,
          0.024235415436772264,
          0.024235415436772267,
          0.024235415436772267,
          0.024241893575123186,
          0.024241893575123186,
          0.02426836776117796,
          0.02426836776117796,
          0.024273800257708072,
          0.024273800257708072,
          0.024277829818813948,
          0.024277829818813948,
          0.02432952967688191,
          0.02432952967688191,
          0.024343270890559782,
          0.024343270890559786,
          0.02434813886035525,
          0.02434813886035525,
          0.02437226247695524,
          0.02437226247695524,
          0.024386902626532377,
          0.024386902626532377,
          0.02444878787030468,
          0.02444878787030468,
          0.02444878787030468,
          0.02444878787030468,
          0.02446280712075098,
          0.02446280712075098,
          0.024462807120750982,
          0.024462807120750982,
          0.02446829563285043,
          0.02446829563285043,
          0.024468295632850433,
          0.024468295632850433,
          0.024491331233443745,
          0.024491331233443745,
          0.02449176540360874,
          0.02449176540360874,
          0.02449176540360874,
          0.02449176540360874,
          0.024497839332701214,
          0.024497839332701214,
          0.024542670133484927,
          0.024542670133484927,
          0.024542670133484927,
          0.024542670133484927,
          0.0245535643190601,
          0.0245535643190601,
          0.0245535643190601,
          0.0245535643190601,
          0.024588150837112164,
          0.024588150837112164,
          0.02460635491360027,
          0.02460635491360027,
          0.024619373881857406,
          0.024619373881857406,
          0.024655769466599184,
          0.024655769466599184,
          0.02468053274963838,
          0.02468053274963838,
          0.024687221569134245,
          0.024687221569134245,
          0.024687221569134245,
          0.024687221569134245,
          0.02469055589118719,
          0.024690555891187193,
          0.0246930129184926,
          0.0246930129184926,
          0.024705920622658938,
          0.02470592062265894,
          0.024729954175659968,
          0.024729954175659968,
          0.02474708758993752,
          0.02474708758993752,
          0.02474708758993752,
          0.02474708758993752,
          0.024837387443358262,
          0.024837387443358262,
          0.024864737380871867,
          0.024864737380871867,
          0.024868723474000567,
          0.024868723474000567,
          0.024868723474000567,
          0.024868723474000567,
          0.024884604001586277,
          0.024884604001586277,
          0.02489258245629111,
          0.02489258245629111,
          0.02489258245629111,
          0.02489258245629111,
          0.0249020978085168,
          0.0249020978085168,
          0.024902437026781504,
          0.024902437026781504,
          0.024906524015129657,
          0.024906524015129657,
          0.02491815365622693,
          0.02491815365622693,
          0.02491815365622693,
          0.02491815365622693,
          0.0249341643668499,
          0.0249341643668499,
          0.02499942306027369,
          0.02499942306027369,
          0.025012496437735853,
          0.025012496437735853,
          0.025012496437735853,
          0.025012496437735853,
          0.025022195643716487,
          0.025022195643716487,
          0.025156769682894188,
          0.02515676968289419,
          0.0251636739823744,
          0.0251636739823744,
          0.025207559828169326,
          0.025207559828169326,
          0.02522412373256774,
          0.02522412373256774,
          0.02522412373256774,
          0.02522412373256774,
          0.02522412373256774,
          0.02522412373256774,
          0.02523634564868244,
          0.02523634564868244,
          0.02525917546398544,
          0.02525917546398544,
          0.025277366546650717,
          0.025277366546650717,
          0.02529551470836881,
          0.02529551470836881,
          0.025309710166867685,
          0.025309710166867685,
          0.025309710166867685,
          0.025309710166867685,
          0.025311724429385216,
          0.025311724429385216,
          0.025336854578029457,
          0.025336854578029457,
          0.025372677522604907,
          0.025372677522604907,
          0.025377849014885018,
          0.025377849014885018,
          0.025390892436965098,
          0.025390892436965098,
          0.02540902283689676,
          0.02540902283689676,
          0.02544595045946532,
          0.02544595045946532,
          0.025461424036355294,
          0.025461424036355297,
          0.025495252725389998,
          0.025495252725389998,
          0.02551078356348987,
          0.025510783563489875,
          0.02551207352748822,
          0.025512073527488223,
          0.025525287403525183,
          0.025525287403525183,
          0.025525287403525183,
          0.025525287403525183,
          0.02555564982319247,
          0.02555564982319247,
          0.02556427628586587,
          0.02556427628586587,
          0.025631232565039984,
          0.025631232565039984,
          0.025646113383539663,
          0.025646113383539663,
          0.02565437535139812,
          0.02565437535139812,
          0.02569575697836781,
          0.02569575697836781,
          0.025707921029998523,
          0.02570792102999853,
          0.025713690683913562,
          0.025713690683913562,
          0.025730956591657212,
          0.025730956591657212,
          0.025754758073800333,
          0.025754758073800333,
          0.025754758073800333,
          0.025754758073800333,
          0.025758998171771623,
          0.025758998171771623,
          0.025758998171771623,
          0.025758998171771623,
          0.025772225124469528,
          0.025772225124469528,
          0.025774884134756235,
          0.02577488413475624,
          0.02577576947082583,
          0.02577576947082583,
          0.025791024236001686,
          0.02579102423600169,
          0.02579569670345725,
          0.02579569670345725,
          0.025798571144910947,
          0.025798571144910947,
          0.025819191696910628,
          0.025819191696910628,
          0.025819191696910628,
          0.025819191696910628,
          0.025827957976481793,
          0.025827957976481793,
          0.025854217511821237,
          0.025854217511821237,
          0.0258651693244827,
          0.0258651693244827,
          0.025867992126297763,
          0.025867992126297763,
          0.02590153575658776,
          0.02590153575658776,
          0.02590153575658776,
          0.02590153575658776,
          0.025957026035940814,
          0.025957026035940814,
          0.025957026035940814,
          0.025957026035940814,
          0.025967043152382536,
          0.025967043152382536,
          0.025980819744963846,
          0.025980819744963846,
          0.02598081974496385,
          0.02598081974496385,
          0.02601278399421228,
          0.02601278399421228,
          0.02602976301886913,
          0.02602976301886913,
          0.026049772472920018,
          0.02604977247292002,
          0.026106259138570655,
          0.026106259138570655,
          0.026106259138570658,
          0.026106259138570658,
          0.02612530482212051,
          0.02612530482212051,
          0.026155051953272123,
          0.02615505195327213,
          0.026159887667902153,
          0.026159887667902153,
          0.026159887667902157,
          0.026159887667902157,
          0.026214264653614143,
          0.026214264653614143,
          0.026214264653614143,
          0.026214264653614143,
          0.026287926785985502,
          0.026287926785985502,
          0.026287926785985502,
          0.026287926785985502,
          0.026305156180016904,
          0.026305156180016904,
          0.02631883274045237,
          0.02631883274045237,
          0.02632459494823405,
          0.02632459494823405,
          0.02634348370114559,
          0.02634348370114559,
          0.026400793513896365,
          0.026400793513896365,
          0.02641583934500366,
          0.02641583934500366,
          0.02641583934500366,
          0.02641583934500366,
          0.026427410589829853,
          0.026427410589829853,
          0.02643444912962379,
          0.02643444912962379,
          0.026439690462201345,
          0.026439690462201345,
          0.02645079745068827,
          0.02645079745068827,
          0.026450860369358793,
          0.026450860369358793,
          0.026450860369358793,
          0.026450860369358793,
          0.02646953076989843,
          0.02646953076989843,
          0.0264743266864636,
          0.0264743266864636,
          0.02650543330174456,
          0.02650543330174456,
          0.026668502831795216,
          0.026668502831795216,
          0.026668502831795216,
          0.026668502831795216,
          0.02667249101731068,
          0.02667249101731068,
          0.026697425751093525,
          0.026697425751093525,
          0.026779257012514792,
          0.026779257012514792,
          0.026818849240892898,
          0.026818849240892898,
          0.026836154367997113,
          0.026836154367997113,
          0.026853722097934588,
          0.026853722097934588,
          0.02691993330290507,
          0.02691993330290507,
          0.026922974938907215,
          0.026922974938907215,
          0.02702933944661378,
          0.02702933944661378,
          0.02702933944661378,
          0.02702933944661378,
          0.027031768338982576,
          0.027031768338982576,
          0.027058843634210804,
          0.027058843634210804,
          0.02707959993505622,
          0.02707959993505622,
          0.027083979080248028,
          0.027083979080248028,
          0.02713005252576401,
          0.02713005252576401,
          0.027155557706497645,
          0.027155557706497645,
          0.027183317853927167,
          0.027183317853927167,
          0.02730655339540715,
          0.02730655339540715,
          0.02730655339540715,
          0.02730655339540715,
          0.027338265714913514,
          0.027338265714913514,
          0.027366012392308896,
          0.027366012392308896,
          0.02750867290441853,
          0.02750867290441853,
          0.02757197460501687,
          0.02757197460501687,
          0.027724669292787232,
          0.027724669292787232,
          0.027766718315296937,
          0.027766718315296937,
          0.02776865354789219,
          0.02776865354789219,
          0.02793869405425907,
          0.02793869405425907,
          0.027989741740281633,
          0.027989741740281633,
          0.028009933710156514,
          0.028009933710156514,
          0.028031509882070444,
          0.028031509882070444,
          0.028140232664170366,
          0.028140232664170366,
          0.028226022187424583,
          0.028226022187424583,
          0.028412480517131706,
          0.028412480517131706,
          0.028416065647705938,
          0.028416065647705938
         ],
         "yaxis": "y"
        }
       ],
       "layout": {
        "autosize": true,
        "barmode": "relative",
        "legend": {
         "title": {
          "text": "variable"
         },
         "tracegroupgap": 0
        },
        "margin": {
         "t": 60
        },
        "template": {
         "data": {
          "bar": [
           {
            "error_x": {
             "color": "#2a3f5f"
            },
            "error_y": {
             "color": "#2a3f5f"
            },
            "marker": {
             "line": {
              "color": "#E5ECF6",
              "width": 0.5
             },
             "pattern": {
              "fillmode": "overlay",
              "size": 10,
              "solidity": 0.2
             }
            },
            "type": "bar"
           }
          ],
          "barpolar": [
           {
            "marker": {
             "line": {
              "color": "#E5ECF6",
              "width": 0.5
             },
             "pattern": {
              "fillmode": "overlay",
              "size": 10,
              "solidity": 0.2
             }
            },
            "type": "barpolar"
           }
          ],
          "carpet": [
           {
            "aaxis": {
             "endlinecolor": "#2a3f5f",
             "gridcolor": "white",
             "linecolor": "white",
             "minorgridcolor": "white",
             "startlinecolor": "#2a3f5f"
            },
            "baxis": {
             "endlinecolor": "#2a3f5f",
             "gridcolor": "white",
             "linecolor": "white",
             "minorgridcolor": "white",
             "startlinecolor": "#2a3f5f"
            },
            "type": "carpet"
           }
          ],
          "choropleth": [
           {
            "colorbar": {
             "outlinewidth": 0,
             "ticks": ""
            },
            "type": "choropleth"
           }
          ],
          "contour": [
           {
            "colorbar": {
             "outlinewidth": 0,
             "ticks": ""
            },
            "colorscale": [
             [
              0,
              "#0d0887"
             ],
             [
              0.1111111111111111,
              "#46039f"
             ],
             [
              0.2222222222222222,
              "#7201a8"
             ],
             [
              0.3333333333333333,
              "#9c179e"
             ],
             [
              0.4444444444444444,
              "#bd3786"
             ],
             [
              0.5555555555555556,
              "#d8576b"
             ],
             [
              0.6666666666666666,
              "#ed7953"
             ],
             [
              0.7777777777777778,
              "#fb9f3a"
             ],
             [
              0.8888888888888888,
              "#fdca26"
             ],
             [
              1,
              "#f0f921"
             ]
            ],
            "type": "contour"
           }
          ],
          "contourcarpet": [
           {
            "colorbar": {
             "outlinewidth": 0,
             "ticks": ""
            },
            "type": "contourcarpet"
           }
          ],
          "heatmap": [
           {
            "colorbar": {
             "outlinewidth": 0,
             "ticks": ""
            },
            "colorscale": [
             [
              0,
              "#0d0887"
             ],
             [
              0.1111111111111111,
              "#46039f"
             ],
             [
              0.2222222222222222,
              "#7201a8"
             ],
             [
              0.3333333333333333,
              "#9c179e"
             ],
             [
              0.4444444444444444,
              "#bd3786"
             ],
             [
              0.5555555555555556,
              "#d8576b"
             ],
             [
              0.6666666666666666,
              "#ed7953"
             ],
             [
              0.7777777777777778,
              "#fb9f3a"
             ],
             [
              0.8888888888888888,
              "#fdca26"
             ],
             [
              1,
              "#f0f921"
             ]
            ],
            "type": "heatmap"
           }
          ],
          "heatmapgl": [
           {
            "colorbar": {
             "outlinewidth": 0,
             "ticks": ""
            },
            "colorscale": [
             [
              0,
              "#0d0887"
             ],
             [
              0.1111111111111111,
              "#46039f"
             ],
             [
              0.2222222222222222,
              "#7201a8"
             ],
             [
              0.3333333333333333,
              "#9c179e"
             ],
             [
              0.4444444444444444,
              "#bd3786"
             ],
             [
              0.5555555555555556,
              "#d8576b"
             ],
             [
              0.6666666666666666,
              "#ed7953"
             ],
             [
              0.7777777777777778,
              "#fb9f3a"
             ],
             [
              0.8888888888888888,
              "#fdca26"
             ],
             [
              1,
              "#f0f921"
             ]
            ],
            "type": "heatmapgl"
           }
          ],
          "histogram": [
           {
            "marker": {
             "pattern": {
              "fillmode": "overlay",
              "size": 10,
              "solidity": 0.2
             }
            },
            "type": "histogram"
           }
          ],
          "histogram2d": [
           {
            "colorbar": {
             "outlinewidth": 0,
             "ticks": ""
            },
            "colorscale": [
             [
              0,
              "#0d0887"
             ],
             [
              0.1111111111111111,
              "#46039f"
             ],
             [
              0.2222222222222222,
              "#7201a8"
             ],
             [
              0.3333333333333333,
              "#9c179e"
             ],
             [
              0.4444444444444444,
              "#bd3786"
             ],
             [
              0.5555555555555556,
              "#d8576b"
             ],
             [
              0.6666666666666666,
              "#ed7953"
             ],
             [
              0.7777777777777778,
              "#fb9f3a"
             ],
             [
              0.8888888888888888,
              "#fdca26"
             ],
             [
              1,
              "#f0f921"
             ]
            ],
            "type": "histogram2d"
           }
          ],
          "histogram2dcontour": [
           {
            "colorbar": {
             "outlinewidth": 0,
             "ticks": ""
            },
            "colorscale": [
             [
              0,
              "#0d0887"
             ],
             [
              0.1111111111111111,
              "#46039f"
             ],
             [
              0.2222222222222222,
              "#7201a8"
             ],
             [
              0.3333333333333333,
              "#9c179e"
             ],
             [
              0.4444444444444444,
              "#bd3786"
             ],
             [
              0.5555555555555556,
              "#d8576b"
             ],
             [
              0.6666666666666666,
              "#ed7953"
             ],
             [
              0.7777777777777778,
              "#fb9f3a"
             ],
             [
              0.8888888888888888,
              "#fdca26"
             ],
             [
              1,
              "#f0f921"
             ]
            ],
            "type": "histogram2dcontour"
           }
          ],
          "mesh3d": [
           {
            "colorbar": {
             "outlinewidth": 0,
             "ticks": ""
            },
            "type": "mesh3d"
           }
          ],
          "parcoords": [
           {
            "line": {
             "colorbar": {
              "outlinewidth": 0,
              "ticks": ""
             }
            },
            "type": "parcoords"
           }
          ],
          "pie": [
           {
            "automargin": true,
            "type": "pie"
           }
          ],
          "scatter": [
           {
            "fillpattern": {
             "fillmode": "overlay",
             "size": 10,
             "solidity": 0.2
            },
            "type": "scatter"
           }
          ],
          "scatter3d": [
           {
            "line": {
             "colorbar": {
              "outlinewidth": 0,
              "ticks": ""
             }
            },
            "marker": {
             "colorbar": {
              "outlinewidth": 0,
              "ticks": ""
             }
            },
            "type": "scatter3d"
           }
          ],
          "scattercarpet": [
           {
            "marker": {
             "colorbar": {
              "outlinewidth": 0,
              "ticks": ""
             }
            },
            "type": "scattercarpet"
           }
          ],
          "scattergeo": [
           {
            "marker": {
             "colorbar": {
              "outlinewidth": 0,
              "ticks": ""
             }
            },
            "type": "scattergeo"
           }
          ],
          "scattergl": [
           {
            "marker": {
             "colorbar": {
              "outlinewidth": 0,
              "ticks": ""
             }
            },
            "type": "scattergl"
           }
          ],
          "scattermapbox": [
           {
            "marker": {
             "colorbar": {
              "outlinewidth": 0,
              "ticks": ""
             }
            },
            "type": "scattermapbox"
           }
          ],
          "scatterpolar": [
           {
            "marker": {
             "colorbar": {
              "outlinewidth": 0,
              "ticks": ""
             }
            },
            "type": "scatterpolar"
           }
          ],
          "scatterpolargl": [
           {
            "marker": {
             "colorbar": {
              "outlinewidth": 0,
              "ticks": ""
             }
            },
            "type": "scatterpolargl"
           }
          ],
          "scatterternary": [
           {
            "marker": {
             "colorbar": {
              "outlinewidth": 0,
              "ticks": ""
             }
            },
            "type": "scatterternary"
           }
          ],
          "surface": [
           {
            "colorbar": {
             "outlinewidth": 0,
             "ticks": ""
            },
            "colorscale": [
             [
              0,
              "#0d0887"
             ],
             [
              0.1111111111111111,
              "#46039f"
             ],
             [
              0.2222222222222222,
              "#7201a8"
             ],
             [
              0.3333333333333333,
              "#9c179e"
             ],
             [
              0.4444444444444444,
              "#bd3786"
             ],
             [
              0.5555555555555556,
              "#d8576b"
             ],
             [
              0.6666666666666666,
              "#ed7953"
             ],
             [
              0.7777777777777778,
              "#fb9f3a"
             ],
             [
              0.8888888888888888,
              "#fdca26"
             ],
             [
              1,
              "#f0f921"
             ]
            ],
            "type": "surface"
           }
          ],
          "table": [
           {
            "cells": {
             "fill": {
              "color": "#EBF0F8"
             },
             "line": {
              "color": "white"
             }
            },
            "header": {
             "fill": {
              "color": "#C8D4E3"
             },
             "line": {
              "color": "white"
             }
            },
            "type": "table"
           }
          ]
         },
         "layout": {
          "annotationdefaults": {
           "arrowcolor": "#2a3f5f",
           "arrowhead": 0,
           "arrowwidth": 1
          },
          "autotypenumbers": "strict",
          "coloraxis": {
           "colorbar": {
            "outlinewidth": 0,
            "ticks": ""
           }
          },
          "colorscale": {
           "diverging": [
            [
             0,
             "#8e0152"
            ],
            [
             0.1,
             "#c51b7d"
            ],
            [
             0.2,
             "#de77ae"
            ],
            [
             0.3,
             "#f1b6da"
            ],
            [
             0.4,
             "#fde0ef"
            ],
            [
             0.5,
             "#f7f7f7"
            ],
            [
             0.6,
             "#e6f5d0"
            ],
            [
             0.7,
             "#b8e186"
            ],
            [
             0.8,
             "#7fbc41"
            ],
            [
             0.9,
             "#4d9221"
            ],
            [
             1,
             "#276419"
            ]
           ],
           "sequential": [
            [
             0,
             "#0d0887"
            ],
            [
             0.1111111111111111,
             "#46039f"
            ],
            [
             0.2222222222222222,
             "#7201a8"
            ],
            [
             0.3333333333333333,
             "#9c179e"
            ],
            [
             0.4444444444444444,
             "#bd3786"
            ],
            [
             0.5555555555555556,
             "#d8576b"
            ],
            [
             0.6666666666666666,
             "#ed7953"
            ],
            [
             0.7777777777777778,
             "#fb9f3a"
            ],
            [
             0.8888888888888888,
             "#fdca26"
            ],
            [
             1,
             "#f0f921"
            ]
           ],
           "sequentialminus": [
            [
             0,
             "#0d0887"
            ],
            [
             0.1111111111111111,
             "#46039f"
            ],
            [
             0.2222222222222222,
             "#7201a8"
            ],
            [
             0.3333333333333333,
             "#9c179e"
            ],
            [
             0.4444444444444444,
             "#bd3786"
            ],
            [
             0.5555555555555556,
             "#d8576b"
            ],
            [
             0.6666666666666666,
             "#ed7953"
            ],
            [
             0.7777777777777778,
             "#fb9f3a"
            ],
            [
             0.8888888888888888,
             "#fdca26"
            ],
            [
             1,
             "#f0f921"
            ]
           ]
          },
          "colorway": [
           "#636efa",
           "#EF553B",
           "#00cc96",
           "#ab63fa",
           "#FFA15A",
           "#19d3f3",
           "#FF6692",
           "#B6E880",
           "#FF97FF",
           "#FECB52"
          ],
          "font": {
           "color": "#2a3f5f"
          },
          "geo": {
           "bgcolor": "white",
           "lakecolor": "white",
           "landcolor": "#E5ECF6",
           "showlakes": true,
           "showland": true,
           "subunitcolor": "white"
          },
          "hoverlabel": {
           "align": "left"
          },
          "hovermode": "closest",
          "mapbox": {
           "style": "light"
          },
          "paper_bgcolor": "white",
          "plot_bgcolor": "#E5ECF6",
          "polar": {
           "angularaxis": {
            "gridcolor": "white",
            "linecolor": "white",
            "ticks": ""
           },
           "bgcolor": "#E5ECF6",
           "radialaxis": {
            "gridcolor": "white",
            "linecolor": "white",
            "ticks": ""
           }
          },
          "scene": {
           "xaxis": {
            "backgroundcolor": "#E5ECF6",
            "gridcolor": "white",
            "gridwidth": 2,
            "linecolor": "white",
            "showbackground": true,
            "ticks": "",
            "zerolinecolor": "white"
           },
           "yaxis": {
            "backgroundcolor": "#E5ECF6",
            "gridcolor": "white",
            "gridwidth": 2,
            "linecolor": "white",
            "showbackground": true,
            "ticks": "",
            "zerolinecolor": "white"
           },
           "zaxis": {
            "backgroundcolor": "#E5ECF6",
            "gridcolor": "white",
            "gridwidth": 2,
            "linecolor": "white",
            "showbackground": true,
            "ticks": "",
            "zerolinecolor": "white"
           }
          },
          "shapedefaults": {
           "line": {
            "color": "#2a3f5f"
           }
          },
          "ternary": {
           "aaxis": {
            "gridcolor": "white",
            "linecolor": "white",
            "ticks": ""
           },
           "baxis": {
            "gridcolor": "white",
            "linecolor": "white",
            "ticks": ""
           },
           "bgcolor": "#E5ECF6",
           "caxis": {
            "gridcolor": "white",
            "linecolor": "white",
            "ticks": ""
           }
          },
          "title": {
           "x": 0.05
          },
          "xaxis": {
           "automargin": true,
           "gridcolor": "white",
           "linecolor": "white",
           "ticks": "",
           "title": {
            "standoff": 15
           },
           "zerolinecolor": "white",
           "zerolinewidth": 2
          },
          "yaxis": {
           "automargin": true,
           "gridcolor": "white",
           "linecolor": "white",
           "ticks": "",
           "title": {
            "standoff": 15
           },
           "zerolinecolor": "white",
           "zerolinewidth": 2
          }
         }
        },
        "xaxis": {
         "anchor": "y",
         "autorange": true,
         "domain": [
          0,
          1
         ],
         "range": [
          -0.5,
          719.5
         ],
         "title": {
          "text": "index"
         },
         "type": "linear"
        },
        "yaxis": {
         "anchor": "x",
         "autorange": true,
         "domain": [
          0,
          1
         ],
         "range": [
          0,
          0.029911648050216778
         ],
         "title": {
          "text": "value"
         },
         "type": "linear"
        }
       }
      },
      "image/png": "[encoded data removed]",
      "text/html": [
       "<div>                            <div id=\"ff743ccb-8c08-4714-bf4d-94571e6bf865\" class=\"plotly-graph-div\" style=\"height:525px; width:100%;\"></div>            <script type=\"text/javascript\">                require([\"plotly\"], function(Plotly) {                    window.PLOTLYENV=window.PLOTLYENV || {};                                    if (document.getElementById(\"ff743ccb-8c08-4714-bf4d-94571e6bf865\")) {                    Plotly.newPlot(                        \"ff743ccb-8c08-4714-bf4d-94571e6bf865\",                        [{\"alignmentgroup\":\"True\",\"hovertemplate\":\"variable=std<br>index=%{x}<br>value=%{y}<extra></extra>\",\"legendgroup\":\"std\",\"marker\":{\"color\":\"#636efa\",\"pattern\":{\"shape\":\"\"}},\"name\":\"std\",\"offsetgroup\":\"std\",\"orientation\":\"v\",\"showlegend\":true,\"textposition\":\"auto\",\"x\":[0,1,2,3,4,5,6,7,8,9,10,11,12,13,14,15,16,17,18,19,20,21,22,23,24,25,26,27,28,29,30,31,32,33,34,35,36,37,38,39,40,41,42,43,44,45,46,47,48,49,50,51,52,53,54,55,56,57,58,59,60,61,62,63,64,65,66,67,68,69,70,71,72,73,74,75,76,77,78,79,80,81,82,83,84,85,86,87,88,89,90,91,92,93,94,95,96,97,98,99,100,101,102,103,104,105,106,107,108,109,110,111,112,113,114,115,116,117,118,119,120,121,122,123,124,125,126,127,128,129,130,131,132,133,134,135,136,137,138,139,140,141,142,143,144,145,146,147,148,149,150,151,152,153,154,155,156,157,158,159,160,161,162,163,164,165,166,167,168,169,170,171,172,173,174,175,176,177,178,179,180,181,182,183,184,185,186,187,188,189,190,191,192,193,194,195,196,197,198,199,200,201,202,203,204,205,206,207,208,209,210,211,212,213,214,215,216,217,218,219,220,221,222,223,224,225,226,227,228,229,230,231,232,233,234,235,236,237,238,239,240,241,242,243,244,245,246,247,248,249,250,251,252,253,254,255,256,257,258,259,260,261,262,263,264,265,266,267,268,269,270,271,272,273,274,275,276,277,278,279,280,281,282,283,284,285,286,287,288,289,290,291,292,293,294,295,296,297,298,299,300,301,302,303,304,305,306,307,308,309,310,311,312,313,314,315,316,317,318,319,320,321,322,323,324,325,326,327,328,329,330,331,332,333,334,335,336,337,338,339,340,341,342,343,344,345,346,347,348,349,350,351,352,353,354,355,356,357,358,359,360,361,362,363,364,365,366,367,368,369,370,371,372,373,374,375,376,377,378,379,380,381,382,383,384,385,386,387,388,389,390,391,392,393,394,395,396,397,398,399,400,401,402,403,404,405,406,407,408,409,410,411,412,413,414,415,416,417,418,419,420,421,422,423,424,425,426,427,428,429,430,431,432,433,434,435,436,437,438,439,440,441,442,443,444,445,446,447,448,449,450,451,452,453,454,455,456,457,458,459,460,461,462,463,464,465,466,467,468,469,470,471,472,473,474,475,476,477,478,479,480,481,482,483,484,485,486,487,488,489,490,491,492,493,494,495,496,497,498,499,500,501,502,503,504,505,506,507,508,509,510,511,512,513,514,515,516,517,518,519,520,521,522,523,524,525,526,527,528,529,530,531,532,533,534,535,536,537,538,539,540,541,542,543,544,545,546,547,548,549,550,551,552,553,554,555,556,557,558,559,560,561,562,563,564,565,566,567,568,569,570,571,572,573,574,575,576,577,578,579,580,581,582,583,584,585,586,587,588,589,590,591,592,593,594,595,596,597,598,599,600,601,602,603,604,605,606,607,608,609,610,611,612,613,614,615,616,617,618,619,620,621,622,623,624,625,626,627,628,629,630,631,632,633,634,635,636,637,638,639,640,641,642,643,644,645,646,647,648,649,650,651,652,653,654,655,656,657,658,659,660,661,662,663,664,665,666,667,668,669,670,671,672,673,674,675,676,677,678,679,680,681,682,683,684,685,686,687,688,689,690,691,692,693,694,695,696,697,698,699,700,701,702,703,704,705,706,707,708,709,710,711,712,713,714,715,716,717,718,719],\"xaxis\":\"x\",\"y\":[0.011640855646469026,0.011640855646469026,0.011640855646469026,0.011640855646469026,0.012290743167320737,0.012290743167320737,0.012370706271128455,0.012370706271128455,0.013001185090906819,0.013001185090906819,0.013015428607072608,0.013015428607072608,0.013034506570174445,0.013034506570174445,0.013719706878572423,0.013719706878572423,0.014547189994250436,0.014547189994250436,0.014547189994250436,0.014547189994250436,0.015403081652295448,0.015403081652295448,0.015516061566151474,0.015516061566151474,0.015516061566151474,0.015516061566151474,0.015769146848431937,0.015769146848431937,0.0159580697616006,0.0159580697616006,0.016347113200480948,0.016347113200480948,0.01683232590551781,0.016832325905517812,0.017032617449978405,0.017032617449978405,0.01737247467041365,0.01737247467041365,0.01737247467041365,0.01737247467041365,0.017701059847503618,0.017701059847503618,0.017993565433774915,0.017993565433774915,0.01799356543377492,0.01799356543377492,0.01814922056988083,0.01814922056988083,0.018288945193043936,0.018288945193043936,0.01849690034262927,0.01849690034262927,0.01852976762616798,0.01852976762616798,0.01861247100148261,0.01861247100148261,0.018684884920882393,0.018684884920882393,0.019130404795942097,0.019130404795942097,0.019182572449330457,0.019182572449330457,0.019205023593143414,0.019205023593143414,0.019444340837802013,0.019444340837802013,0.01961330906758993,0.01961330906758993,0.01963400276252987,0.01963400276252987,0.019646511985538778,0.019646511985538778,0.019652886542359818,0.019652886542359818,0.019652886542359818,0.019652886542359818,0.01969905770783202,0.01969905770783202,0.019704781516181234,0.019704781516181234,0.01982379166259165,0.01982379166259165,0.01991163447933637,0.01991163447933637,0.019963672349286282,0.019963672349286282,0.019967133402821784,0.019967133402821784,0.019967133402821784,0.019967133402821784,0.020036435757369974,0.020036435757369978,0.02010873602530692,0.02010873602530692,0.02018949846562161,0.02018949846562161,0.02020542721654522,0.020205427216545224,0.020276693256605537,0.020276693256605537,0.020395439061913646,0.020395439061913646,0.020395439061913646,0.020395439061913646,0.020450375423712218,0.020450375423712218,0.020450375423712218,0.020450375423712218,0.020490344357259285,0.020490344357259285,0.020544704430471846,0.020544704430471846,0.020560255793985852,0.020560255793985852,0.020594263624857924,0.020594263624857924,0.02061614367558794,0.02061614367558794,0.020673426593351602,0.020673426593351602,0.020686669034697736,0.020686669034697736,0.02078700835652931,0.02078700835652931,0.020829887248051678,0.02082988724805168,0.02085002165057632,0.02085002165057632,0.02086562736028021,0.02086562736028021,0.020898295519678017,0.020898295519678017,0.020968682436254917,0.020968682436254917,0.020981992912998956,0.020981992912998956,0.020984811546380013,0.020984811546380013,0.021000334160193704,0.021000334160193704,0.021021484410499808,0.021021484410499808,0.021052541947735457,0.021052541947735457,0.021094758662591254,0.021094758662591258,0.021122713064026077,0.02112271306402608,0.021129094991017554,0.021129094991017554,0.021158009629680334,0.021158009629680334,0.02117115806338476,0.02117115806338476,0.02127817520956456,0.02127817520956456,0.021291660295524276,0.021291660295524276,0.02129668647277801,0.02129668647277801,0.021306569711002046,0.021306569711002046,0.021327048923797477,0.021327048923797477,0.021361423597047843,0.021361423597047843,0.021474554661394852,0.021474554661394852,0.021492154516297313,0.021492154516297313,0.021518773441434907,0.021518773441434907,0.02159003341957131,0.02159003341957131,0.021615992708331006,0.021615992708331006,0.02166741944263227,0.02166741944263227,0.02175367951740662,0.02175367951740662,0.021762454770503672,0.021762454770503672,0.021768206365980057,0.021768206365980057,0.021781769530919155,0.02178176953091916,0.021792847196648653,0.021792847196648653,0.021866474713904027,0.021866474713904027,0.021869767153671664,0.021869767153671664,0.021869767153671664,0.021869767153671664,0.021873722822344212,0.021873722822344212,0.0219289639006453,0.0219289639006453,0.021929280438899915,0.021929280438899915,0.021946138081659492,0.021946138081659492,0.022002678109558305,0.022002678109558305,0.0220205028560136,0.0220205028560136,0.022147943101348058,0.022147943101348058,0.022147943101348058,0.022147943101348058,0.022163971588501516,0.022163971588501516,0.022163971588501516,0.022163971588501516,0.022202653665059933,0.022202653665059933,0.02223928844248668,0.02223928844248668,0.022274725875833484,0.022274725875833484,0.022281276587070145,0.022281276587070145,0.022286766818433106,0.022286766818433106,0.022354003256336318,0.022354003256336318,0.02239784927005344,0.02239784927005344,0.02239784927005344,0.02239784927005344,0.022398508592388844,0.022398508592388844,0.022407717070561606,0.02240771707056161,0.022440041557722154,0.022440041557722158,0.02244669513838706,0.02244669513838706,0.022446703246862508,0.022446703246862508,0.022452525375456535,0.022452525375456535,0.02250619235514238,0.02250619235514238,0.022570073064141518,0.02257007306414152,0.022582210249653584,0.022582210249653584,0.022650157544933148,0.02265015754493315,0.02265780826612531,0.02265780826612531,0.02275629904987564,0.022756299049875642,0.022841798219355964,0.022841798219355964,0.022871455780967897,0.022871455780967897,0.022900149165032434,0.022900149165032434,0.022904993355609877,0.02290499335560988,0.02292563504004197,0.02292563504004197,0.02292563504004197,0.02292563504004197,0.023011053411192448,0.023011053411192448,0.02301809178368987,0.02301809178368987,0.023081893148205496,0.023081893148205496,0.023099325371690915,0.023099325371690915,0.023113440396191714,0.023113440396191717,0.023127242417239614,0.023127242417239614,0.023130713986451872,0.023130713986451872,0.02314636150635885,0.02314636150635885,0.02323549225785038,0.02323549225785038,0.02328121106267457,0.02328121106267457,0.02337287095809269,0.02337287095809269,0.023376278137652386,0.023376278137652386,0.02343853064329529,0.02343853064329529,0.023450973030803766,0.023450973030803766,0.023464060479841578,0.023464060479841578,0.023514393700299938,0.023514393700299938,0.023543249524685936,0.023543249524685936,0.02354324952468594,0.02354324952468594,0.02355533068609043,0.02355533068609043,0.02363006399542806,0.02363006399542806,0.02369735570563,0.023697355705630002,0.023735966804610976,0.023735966804610976,0.023735966804610976,0.023735966804610976,0.023738070763415883,0.023738070763415883,0.023738070763415883,0.023738070763415883,0.023751959362213977,0.023751959362213977,0.023815786387216892,0.023815786387216892,0.023822018556559875,0.023822018556559875,0.023891137121828096,0.0238911371218281,0.02392237678596421,0.02392237678596421,0.02392237678596421,0.02392237678596421,0.023958706788368606,0.023958706788368606,0.023972346565843867,0.023972346565843867,0.02398177968560584,0.02398177968560584,0.023981779685605845,0.023981779685605845,0.024002005338422967,0.024002005338422967,0.02400706545332893,0.02400706545332893,0.02402543836685919,0.02402543836685919,0.02402946988669597,0.024029469886695975,0.024058549149000144,0.024058549149000144,0.024092370944778174,0.024092370944778174,0.024092370944778174,0.024092370944778174,0.02413599686288813,0.02413599686288813,0.024197973097322887,0.02419797309732289,0.024199614561209528,0.02419961456120953,0.024204866038743736,0.02420486603874374,0.024213102464757084,0.024213102464757084,0.024232245315418663,0.024232245315418663,0.024232245315418663,0.024232245315418663,0.024232245315418663,0.024232245315418663,0.024235415436772264,0.024235415436772264,0.024235415436772267,0.024235415436772267,0.024241893575123186,0.024241893575123186,0.02426836776117796,0.02426836776117796,0.024273800257708072,0.024273800257708072,0.024277829818813948,0.024277829818813948,0.02432952967688191,0.02432952967688191,0.024343270890559782,0.024343270890559786,0.02434813886035525,0.02434813886035525,0.02437226247695524,0.02437226247695524,0.024386902626532377,0.024386902626532377,0.02444878787030468,0.02444878787030468,0.02444878787030468,0.02444878787030468,0.02446280712075098,0.02446280712075098,0.024462807120750982,0.024462807120750982,0.02446829563285043,0.02446829563285043,0.024468295632850433,0.024468295632850433,0.024491331233443745,0.024491331233443745,0.02449176540360874,0.02449176540360874,0.02449176540360874,0.02449176540360874,0.024497839332701214,0.024497839332701214,0.024542670133484927,0.024542670133484927,0.024542670133484927,0.024542670133484927,0.0245535643190601,0.0245535643190601,0.0245535643190601,0.0245535643190601,0.024588150837112164,0.024588150837112164,0.02460635491360027,0.02460635491360027,0.024619373881857406,0.024619373881857406,0.024655769466599184,0.024655769466599184,0.02468053274963838,0.02468053274963838,0.024687221569134245,0.024687221569134245,0.024687221569134245,0.024687221569134245,0.02469055589118719,0.024690555891187193,0.0246930129184926,0.0246930129184926,0.024705920622658938,0.02470592062265894,0.024729954175659968,0.024729954175659968,0.02474708758993752,0.02474708758993752,0.02474708758993752,0.02474708758993752,0.024837387443358262,0.024837387443358262,0.024864737380871867,0.024864737380871867,0.024868723474000567,0.024868723474000567,0.024868723474000567,0.024868723474000567,0.024884604001586277,0.024884604001586277,0.02489258245629111,0.02489258245629111,0.02489258245629111,0.02489258245629111,0.0249020978085168,0.0249020978085168,0.024902437026781504,0.024902437026781504,0.024906524015129657,0.024906524015129657,0.02491815365622693,0.02491815365622693,0.02491815365622693,0.02491815365622693,0.0249341643668499,0.0249341643668499,0.02499942306027369,0.02499942306027369,0.025012496437735853,0.025012496437735853,0.025012496437735853,0.025012496437735853,0.025022195643716487,0.025022195643716487,0.025156769682894188,0.02515676968289419,0.0251636739823744,0.0251636739823744,0.025207559828169326,0.025207559828169326,0.02522412373256774,0.02522412373256774,0.02522412373256774,0.02522412373256774,0.02522412373256774,0.02522412373256774,0.02523634564868244,0.02523634564868244,0.02525917546398544,0.02525917546398544,0.025277366546650717,0.025277366546650717,0.02529551470836881,0.02529551470836881,0.025309710166867685,0.025309710166867685,0.025309710166867685,0.025309710166867685,0.025311724429385216,0.025311724429385216,0.025336854578029457,0.025336854578029457,0.025372677522604907,0.025372677522604907,0.025377849014885018,0.025377849014885018,0.025390892436965098,0.025390892436965098,0.02540902283689676,0.02540902283689676,0.02544595045946532,0.02544595045946532,0.025461424036355294,0.025461424036355297,0.025495252725389998,0.025495252725389998,0.02551078356348987,0.025510783563489875,0.02551207352748822,0.025512073527488223,0.025525287403525183,0.025525287403525183,0.025525287403525183,0.025525287403525183,0.02555564982319247,0.02555564982319247,0.02556427628586587,0.02556427628586587,0.025631232565039984,0.025631232565039984,0.025646113383539663,0.025646113383539663,0.02565437535139812,0.02565437535139812,0.02569575697836781,0.02569575697836781,0.025707921029998523,0.02570792102999853,0.025713690683913562,0.025713690683913562,0.025730956591657212,0.025730956591657212,0.025754758073800333,0.025754758073800333,0.025754758073800333,0.025754758073800333,0.025758998171771623,0.025758998171771623,0.025758998171771623,0.025758998171771623,0.025772225124469528,0.025772225124469528,0.025774884134756235,0.02577488413475624,0.02577576947082583,0.02577576947082583,0.025791024236001686,0.02579102423600169,0.02579569670345725,0.02579569670345725,0.025798571144910947,0.025798571144910947,0.025819191696910628,0.025819191696910628,0.025819191696910628,0.025819191696910628,0.025827957976481793,0.025827957976481793,0.025854217511821237,0.025854217511821237,0.0258651693244827,0.0258651693244827,0.025867992126297763,0.025867992126297763,0.02590153575658776,0.02590153575658776,0.02590153575658776,0.02590153575658776,0.025957026035940814,0.025957026035940814,0.025957026035940814,0.025957026035940814,0.025967043152382536,0.025967043152382536,0.025980819744963846,0.025980819744963846,0.02598081974496385,0.02598081974496385,0.02601278399421228,0.02601278399421228,0.02602976301886913,0.02602976301886913,0.026049772472920018,0.02604977247292002,0.026106259138570655,0.026106259138570655,0.026106259138570658,0.026106259138570658,0.02612530482212051,0.02612530482212051,0.026155051953272123,0.02615505195327213,0.026159887667902153,0.026159887667902153,0.026159887667902157,0.026159887667902157,0.026214264653614143,0.026214264653614143,0.026214264653614143,0.026214264653614143,0.026287926785985502,0.026287926785985502,0.026287926785985502,0.026287926785985502,0.026305156180016904,0.026305156180016904,0.02631883274045237,0.02631883274045237,0.02632459494823405,0.02632459494823405,0.02634348370114559,0.02634348370114559,0.026400793513896365,0.026400793513896365,0.02641583934500366,0.02641583934500366,0.02641583934500366,0.02641583934500366,0.026427410589829853,0.026427410589829853,0.02643444912962379,0.02643444912962379,0.026439690462201345,0.026439690462201345,0.02645079745068827,0.02645079745068827,0.026450860369358793,0.026450860369358793,0.026450860369358793,0.026450860369358793,0.02646953076989843,0.02646953076989843,0.0264743266864636,0.0264743266864636,0.02650543330174456,0.02650543330174456,0.026668502831795216,0.026668502831795216,0.026668502831795216,0.026668502831795216,0.02667249101731068,0.02667249101731068,0.026697425751093525,0.026697425751093525,0.026779257012514792,0.026779257012514792,0.026818849240892898,0.026818849240892898,0.026836154367997113,0.026836154367997113,0.026853722097934588,0.026853722097934588,0.02691993330290507,0.02691993330290507,0.026922974938907215,0.026922974938907215,0.02702933944661378,0.02702933944661378,0.02702933944661378,0.02702933944661378,0.027031768338982576,0.027031768338982576,0.027058843634210804,0.027058843634210804,0.02707959993505622,0.02707959993505622,0.027083979080248028,0.027083979080248028,0.02713005252576401,0.02713005252576401,0.027155557706497645,0.027155557706497645,0.027183317853927167,0.027183317853927167,0.02730655339540715,0.02730655339540715,0.02730655339540715,0.02730655339540715,0.027338265714913514,0.027338265714913514,0.027366012392308896,0.027366012392308896,0.02750867290441853,0.02750867290441853,0.02757197460501687,0.02757197460501687,0.027724669292787232,0.027724669292787232,0.027766718315296937,0.027766718315296937,0.02776865354789219,0.02776865354789219,0.02793869405425907,0.02793869405425907,0.027989741740281633,0.027989741740281633,0.028009933710156514,0.028009933710156514,0.028031509882070444,0.028031509882070444,0.028140232664170366,0.028140232664170366,0.028226022187424583,0.028226022187424583,0.028412480517131706,0.028412480517131706,0.028416065647705938,0.028416065647705938],\"yaxis\":\"y\",\"type\":\"bar\"}],                        {\"template\":{\"data\":{\"histogram2dcontour\":[{\"type\":\"histogram2dcontour\",\"colorbar\":{\"outlinewidth\":0,\"ticks\":\"\"},\"colorscale\":[[0.0,\"#0d0887\"],[0.1111111111111111,\"#46039f\"],[0.2222222222222222,\"#7201a8\"],[0.3333333333333333,\"#9c179e\"],[0.4444444444444444,\"#bd3786\"],[0.5555555555555556,\"#d8576b\"],[0.6666666666666666,\"#ed7953\"],[0.7777777777777778,\"#fb9f3a\"],[0.8888888888888888,\"#fdca26\"],[1.0,\"#f0f921\"]]}],\"choropleth\":[{\"type\":\"choropleth\",\"colorbar\":{\"outlinewidth\":0,\"ticks\":\"\"}}],\"histogram2d\":[{\"type\":\"histogram2d\",\"colorbar\":{\"outlinewidth\":0,\"ticks\":\"\"},\"colorscale\":[[0.0,\"#0d0887\"],[0.1111111111111111,\"#46039f\"],[0.2222222222222222,\"#7201a8\"],[0.3333333333333333,\"#9c179e\"],[0.4444444444444444,\"#bd3786\"],[0.5555555555555556,\"#d8576b\"],[0.6666666666666666,\"#ed7953\"],[0.7777777777777778,\"#fb9f3a\"],[0.8888888888888888,\"#fdca26\"],[1.0,\"#f0f921\"]]}],\"heatmap\":[{\"type\":\"heatmap\",\"colorbar\":{\"outlinewidth\":0,\"ticks\":\"\"},\"colorscale\":[[0.0,\"#0d0887\"],[0.1111111111111111,\"#46039f\"],[0.2222222222222222,\"#7201a8\"],[0.3333333333333333,\"#9c179e\"],[0.4444444444444444,\"#bd3786\"],[0.5555555555555556,\"#d8576b\"],[0.6666666666666666,\"#ed7953\"],[0.7777777777777778,\"#fb9f3a\"],[0.8888888888888888,\"#fdca26\"],[1.0,\"#f0f921\"]]}],\"heatmapgl\":[{\"type\":\"heatmapgl\",\"colorbar\":{\"outlinewidth\":0,\"ticks\":\"\"},\"colorscale\":[[0.0,\"#0d0887\"],[0.1111111111111111,\"#46039f\"],[0.2222222222222222,\"#7201a8\"],[0.3333333333333333,\"#9c179e\"],[0.4444444444444444,\"#bd3786\"],[0.5555555555555556,\"#d8576b\"],[0.6666666666666666,\"#ed7953\"],[0.7777777777777778,\"#fb9f3a\"],[0.8888888888888888,\"#fdca26\"],[1.0,\"#f0f921\"]]}],\"contourcarpet\":[{\"type\":\"contourcarpet\",\"colorbar\":{\"outlinewidth\":0,\"ticks\":\"\"}}],\"contour\":[{\"type\":\"contour\",\"colorbar\":{\"outlinewidth\":0,\"ticks\":\"\"},\"colorscale\":[[0.0,\"#0d0887\"],[0.1111111111111111,\"#46039f\"],[0.2222222222222222,\"#7201a8\"],[0.3333333333333333,\"#9c179e\"],[0.4444444444444444,\"#bd3786\"],[0.5555555555555556,\"#d8576b\"],[0.6666666666666666,\"#ed7953\"],[0.7777777777777778,\"#fb9f3a\"],[0.8888888888888888,\"#fdca26\"],[1.0,\"#f0f921\"]]}],\"surface\":[{\"type\":\"surface\",\"colorbar\":{\"outlinewidth\":0,\"ticks\":\"\"},\"colorscale\":[[0.0,\"#0d0887\"],[0.1111111111111111,\"#46039f\"],[0.2222222222222222,\"#7201a8\"],[0.3333333333333333,\"#9c179e\"],[0.4444444444444444,\"#bd3786\"],[0.5555555555555556,\"#d8576b\"],[0.6666666666666666,\"#ed7953\"],[0.7777777777777778,\"#fb9f3a\"],[0.8888888888888888,\"#fdca26\"],[1.0,\"#f0f921\"]]}],\"mesh3d\":[{\"type\":\"mesh3d\",\"colorbar\":{\"outlinewidth\":0,\"ticks\":\"\"}}],\"scatter\":[{\"fillpattern\":{\"fillmode\":\"overlay\",\"size\":10,\"solidity\":0.2},\"type\":\"scatter\"}],\"parcoords\":[{\"type\":\"parcoords\",\"line\":{\"colorbar\":{\"outlinewidth\":0,\"ticks\":\"\"}}}],\"scatterpolargl\":[{\"type\":\"scatterpolargl\",\"marker\":{\"colorbar\":{\"outlinewidth\":0,\"ticks\":\"\"}}}],\"bar\":[{\"error_x\":{\"color\":\"#2a3f5f\"},\"error_y\":{\"color\":\"#2a3f5f\"},\"marker\":{\"line\":{\"color\":\"#E5ECF6\",\"width\":0.5},\"pattern\":{\"fillmode\":\"overlay\",\"size\":10,\"solidity\":0.2}},\"type\":\"bar\"}],\"scattergeo\":[{\"type\":\"scattergeo\",\"marker\":{\"colorbar\":{\"outlinewidth\":0,\"ticks\":\"\"}}}],\"scatterpolar\":[{\"type\":\"scatterpolar\",\"marker\":{\"colorbar\":{\"outlinewidth\":0,\"ticks\":\"\"}}}],\"histogram\":[{\"marker\":{\"pattern\":{\"fillmode\":\"overlay\",\"size\":10,\"solidity\":0.2}},\"type\":\"histogram\"}],\"scattergl\":[{\"type\":\"scattergl\",\"marker\":{\"colorbar\":{\"outlinewidth\":0,\"ticks\":\"\"}}}],\"scatter3d\":[{\"type\":\"scatter3d\",\"line\":{\"colorbar\":{\"outlinewidth\":0,\"ticks\":\"\"}},\"marker\":{\"colorbar\":{\"outlinewidth\":0,\"ticks\":\"\"}}}],\"scattermapbox\":[{\"type\":\"scattermapbox\",\"marker\":{\"colorbar\":{\"outlinewidth\":0,\"ticks\":\"\"}}}],\"scatterternary\":[{\"type\":\"scatterternary\",\"marker\":{\"colorbar\":{\"outlinewidth\":0,\"ticks\":\"\"}}}],\"scattercarpet\":[{\"type\":\"scattercarpet\",\"marker\":{\"colorbar\":{\"outlinewidth\":0,\"ticks\":\"\"}}}],\"carpet\":[{\"aaxis\":{\"endlinecolor\":\"#2a3f5f\",\"gridcolor\":\"white\",\"linecolor\":\"white\",\"minorgridcolor\":\"white\",\"startlinecolor\":\"#2a3f5f\"},\"baxis\":{\"endlinecolor\":\"#2a3f5f\",\"gridcolor\":\"white\",\"linecolor\":\"white\",\"minorgridcolor\":\"white\",\"startlinecolor\":\"#2a3f5f\"},\"type\":\"carpet\"}],\"table\":[{\"cells\":{\"fill\":{\"color\":\"#EBF0F8\"},\"line\":{\"color\":\"white\"}},\"header\":{\"fill\":{\"color\":\"#C8D4E3\"},\"line\":{\"color\":\"white\"}},\"type\":\"table\"}],\"barpolar\":[{\"marker\":{\"line\":{\"color\":\"#E5ECF6\",\"width\":0.5},\"pattern\":{\"fillmode\":\"overlay\",\"size\":10,\"solidity\":0.2}},\"type\":\"barpolar\"}],\"pie\":[{\"automargin\":true,\"type\":\"pie\"}]},\"layout\":{\"autotypenumbers\":\"strict\",\"colorway\":[\"#636efa\",\"#EF553B\",\"#00cc96\",\"#ab63fa\",\"#FFA15A\",\"#19d3f3\",\"#FF6692\",\"#B6E880\",\"#FF97FF\",\"#FECB52\"],\"font\":{\"color\":\"#2a3f5f\"},\"hovermode\":\"closest\",\"hoverlabel\":{\"align\":\"left\"},\"paper_bgcolor\":\"white\",\"plot_bgcolor\":\"#E5ECF6\",\"polar\":{\"bgcolor\":\"#E5ECF6\",\"angularaxis\":{\"gridcolor\":\"white\",\"linecolor\":\"white\",\"ticks\":\"\"},\"radialaxis\":{\"gridcolor\":\"white\",\"linecolor\":\"white\",\"ticks\":\"\"}},\"ternary\":{\"bgcolor\":\"#E5ECF6\",\"aaxis\":{\"gridcolor\":\"white\",\"linecolor\":\"white\",\"ticks\":\"\"},\"baxis\":{\"gridcolor\":\"white\",\"linecolor\":\"white\",\"ticks\":\"\"},\"caxis\":{\"gridcolor\":\"white\",\"linecolor\":\"white\",\"ticks\":\"\"}},\"coloraxis\":{\"colorbar\":{\"outlinewidth\":0,\"ticks\":\"\"}},\"colorscale\":{\"sequential\":[[0.0,\"#0d0887\"],[0.1111111111111111,\"#46039f\"],[0.2222222222222222,\"#7201a8\"],[0.3333333333333333,\"#9c179e\"],[0.4444444444444444,\"#bd3786\"],[0.5555555555555556,\"#d8576b\"],[0.6666666666666666,\"#ed7953\"],[0.7777777777777778,\"#fb9f3a\"],[0.8888888888888888,\"#fdca26\"],[1.0,\"#f0f921\"]],\"sequentialminus\":[[0.0,\"#0d0887\"],[0.1111111111111111,\"#46039f\"],[0.2222222222222222,\"#7201a8\"],[0.3333333333333333,\"#9c179e\"],[0.4444444444444444,\"#bd3786\"],[0.5555555555555556,\"#d8576b\"],[0.6666666666666666,\"#ed7953\"],[0.7777777777777778,\"#fb9f3a\"],[0.8888888888888888,\"#fdca26\"],[1.0,\"#f0f921\"]],\"diverging\":[[0,\"#8e0152\"],[0.1,\"#c51b7d\"],[0.2,\"#de77ae\"],[0.3,\"#f1b6da\"],[0.4,\"#fde0ef\"],[0.5,\"#f7f7f7\"],[0.6,\"#e6f5d0\"],[0.7,\"#b8e186\"],[0.8,\"#7fbc41\"],[0.9,\"#4d9221\"],[1,\"#276419\"]]},\"xaxis\":{\"gridcolor\":\"white\",\"linecolor\":\"white\",\"ticks\":\"\",\"title\":{\"standoff\":15},\"zerolinecolor\":\"white\",\"automargin\":true,\"zerolinewidth\":2},\"yaxis\":{\"gridcolor\":\"white\",\"linecolor\":\"white\",\"ticks\":\"\",\"title\":{\"standoff\":15},\"zerolinecolor\":\"white\",\"automargin\":true,\"zerolinewidth\":2},\"scene\":{\"xaxis\":{\"backgroundcolor\":\"#E5ECF6\",\"gridcolor\":\"white\",\"linecolor\":\"white\",\"showbackground\":true,\"ticks\":\"\",\"zerolinecolor\":\"white\",\"gridwidth\":2},\"yaxis\":{\"backgroundcolor\":\"#E5ECF6\",\"gridcolor\":\"white\",\"linecolor\":\"white\",\"showbackground\":true,\"ticks\":\"\",\"zerolinecolor\":\"white\",\"gridwidth\":2},\"zaxis\":{\"backgroundcolor\":\"#E5ECF6\",\"gridcolor\":\"white\",\"linecolor\":\"white\",\"showbackground\":true,\"ticks\":\"\",\"zerolinecolor\":\"white\",\"gridwidth\":2}},\"shapedefaults\":{\"line\":{\"color\":\"#2a3f5f\"}},\"annotationdefaults\":{\"arrowcolor\":\"#2a3f5f\",\"arrowhead\":0,\"arrowwidth\":1},\"geo\":{\"bgcolor\":\"white\",\"landcolor\":\"#E5ECF6\",\"subunitcolor\":\"white\",\"showland\":true,\"showlakes\":true,\"lakecolor\":\"white\"},\"title\":{\"x\":0.05},\"mapbox\":{\"style\":\"light\"}}},\"xaxis\":{\"anchor\":\"y\",\"domain\":[0.0,1.0],\"title\":{\"text\":\"index\"}},\"yaxis\":{\"anchor\":\"x\",\"domain\":[0.0,1.0],\"title\":{\"text\":\"value\"}},\"legend\":{\"title\":{\"text\":\"variable\"},\"tracegroupgap\":0},\"margin\":{\"t\":60},\"barmode\":\"relative\"},                        {\"responsive\": true}                    ).then(function(){\n",
       "                            \n",
       "var gd = document.getElementById('ff743ccb-8c08-4714-bf4d-94571e6bf865');\n",
       "var x = new MutationObserver(function (mutations, observer) {{\n",
       "        var display = window.getComputedStyle(gd).display;\n",
       "        if (!display || display === 'none') {{\n",
       "            console.log([gd, 'removed!']);\n",
       "            Plotly.purge(gd);\n",
       "            observer.disconnect();\n",
       "        }}\n",
       "}});\n",
       "\n",
       "// Listen for the removal of the full notebook cells\n",
       "var notebookContainer = gd.closest('#notebook-container');\n",
       "if (notebookContainer) {{\n",
       "    x.observe(notebookContainer, {childList: true});\n",
       "}}\n",
       "\n",
       "// Listen for the clearing of the current output cell\n",
       "var outputEl = gd.closest('.output');\n",
       "if (outputEl) {{\n",
       "    x.observe(outputEl, {childList: true});\n",
       "}}\n",
       "\n",
       "                        })                };                });            </script>        </div>"
      ]
     },
     "metadata": {},
     "output_type": "display_data"
    }
   ],
   "source": [
    "px.bar(df.loc[\"std\"].sort_values().reset_index()[\"std\"])"
   ]
  },
  {
   "cell_type": "code",
   "execution_count": 123,
   "id": "7cabe268-0f34-4631-9965-13e631e52624",
   "metadata": {},
   "outputs": [
    {
     "data": {
      "application/vnd.plotly.v1+json": {
       "config": {
        "plotlyServerURL": "https://plot.ly"
       },
       "data": [
        {
         "alignmentgroup": "True",
         "bingroup": "x",
         "hovertemplate": "variable=std<br>value=%{x}<br>count=%{y}<extra></extra>",
         "legendgroup": "std",
         "marker": {
          "color": "#636efa",
          "pattern": {
           "shape": ""
          }
         },
         "name": "std",
         "offsetgroup": "std",
         "orientation": "v",
         "showlegend": true,
         "type": "histogram",
         "x": [
          0.011640855646469026,
          0.011640855646469026,
          0.011640855646469026,
          0.011640855646469026,
          0.012290743167320737,
          0.012290743167320737,
          0.012370706271128455,
          0.012370706271128455,
          0.013001185090906819,
          0.013001185090906819,
          0.013015428607072608,
          0.013015428607072608,
          0.013034506570174445,
          0.013034506570174445,
          0.013719706878572423,
          0.013719706878572423,
          0.014547189994250436,
          0.014547189994250436,
          0.014547189994250436,
          0.014547189994250436,
          0.015403081652295448,
          0.015403081652295448,
          0.015516061566151474,
          0.015516061566151474,
          0.015516061566151474,
          0.015516061566151474,
          0.015769146848431937,
          0.015769146848431937,
          0.0159580697616006,
          0.0159580697616006,
          0.016347113200480948,
          0.016347113200480948,
          0.01683232590551781,
          0.016832325905517812,
          0.017032617449978405,
          0.017032617449978405,
          0.01737247467041365,
          0.01737247467041365,
          0.01737247467041365,
          0.01737247467041365,
          0.017701059847503618,
          0.017701059847503618,
          0.017993565433774915,
          0.017993565433774915,
          0.01799356543377492,
          0.01799356543377492,
          0.01814922056988083,
          0.01814922056988083,
          0.018288945193043936,
          0.018288945193043936,
          0.01849690034262927,
          0.01849690034262927,
          0.01852976762616798,
          0.01852976762616798,
          0.01861247100148261,
          0.01861247100148261,
          0.018684884920882393,
          0.018684884920882393,
          0.019130404795942097,
          0.019130404795942097,
          0.019182572449330457,
          0.019182572449330457,
          0.019205023593143414,
          0.019205023593143414,
          0.019444340837802013,
          0.019444340837802013,
          0.01961330906758993,
          0.01961330906758993,
          0.01963400276252987,
          0.01963400276252987,
          0.019646511985538778,
          0.019646511985538778,
          0.019652886542359818,
          0.019652886542359818,
          0.019652886542359818,
          0.019652886542359818,
          0.01969905770783202,
          0.01969905770783202,
          0.019704781516181234,
          0.019704781516181234,
          0.01982379166259165,
          0.01982379166259165,
          0.01991163447933637,
          0.01991163447933637,
          0.019963672349286282,
          0.019963672349286282,
          0.019967133402821784,
          0.019967133402821784,
          0.019967133402821784,
          0.019967133402821784,
          0.020036435757369974,
          0.020036435757369978,
          0.02010873602530692,
          0.02010873602530692,
          0.02018949846562161,
          0.02018949846562161,
          0.02020542721654522,
          0.020205427216545224,
          0.020276693256605537,
          0.020276693256605537,
          0.020395439061913646,
          0.020395439061913646,
          0.020395439061913646,
          0.020395439061913646,
          0.020450375423712218,
          0.020450375423712218,
          0.020450375423712218,
          0.020450375423712218,
          0.020490344357259285,
          0.020490344357259285,
          0.020544704430471846,
          0.020544704430471846,
          0.020560255793985852,
          0.020560255793985852,
          0.020594263624857924,
          0.020594263624857924,
          0.02061614367558794,
          0.02061614367558794,
          0.020673426593351602,
          0.020673426593351602,
          0.020686669034697736,
          0.020686669034697736,
          0.02078700835652931,
          0.02078700835652931,
          0.020829887248051678,
          0.02082988724805168,
          0.02085002165057632,
          0.02085002165057632,
          0.02086562736028021,
          0.02086562736028021,
          0.020898295519678017,
          0.020898295519678017,
          0.020968682436254917,
          0.020968682436254917,
          0.020981992912998956,
          0.020981992912998956,
          0.020984811546380013,
          0.020984811546380013,
          0.021000334160193704,
          0.021000334160193704,
          0.021021484410499808,
          0.021021484410499808,
          0.021052541947735457,
          0.021052541947735457,
          0.021094758662591254,
          0.021094758662591258,
          0.021122713064026077,
          0.02112271306402608,
          0.021129094991017554,
          0.021129094991017554,
          0.021158009629680334,
          0.021158009629680334,
          0.02117115806338476,
          0.02117115806338476,
          0.02127817520956456,
          0.02127817520956456,
          0.021291660295524276,
          0.021291660295524276,
          0.02129668647277801,
          0.02129668647277801,
          0.021306569711002046,
          0.021306569711002046,
          0.021327048923797477,
          0.021327048923797477,
          0.021361423597047843,
          0.021361423597047843,
          0.021474554661394852,
          0.021474554661394852,
          0.021492154516297313,
          0.021492154516297313,
          0.021518773441434907,
          0.021518773441434907,
          0.02159003341957131,
          0.02159003341957131,
          0.021615992708331006,
          0.021615992708331006,
          0.02166741944263227,
          0.02166741944263227,
          0.02175367951740662,
          0.02175367951740662,
          0.021762454770503672,
          0.021762454770503672,
          0.021768206365980057,
          0.021768206365980057,
          0.021781769530919155,
          0.02178176953091916,
          0.021792847196648653,
          0.021792847196648653,
          0.021866474713904027,
          0.021866474713904027,
          0.021869767153671664,
          0.021869767153671664,
          0.021869767153671664,
          0.021869767153671664,
          0.021873722822344212,
          0.021873722822344212,
          0.0219289639006453,
          0.0219289639006453,
          0.021929280438899915,
          0.021929280438899915,
          0.021946138081659492,
          0.021946138081659492,
          0.022002678109558305,
          0.022002678109558305,
          0.0220205028560136,
          0.0220205028560136,
          0.022147943101348058,
          0.022147943101348058,
          0.022147943101348058,
          0.022147943101348058,
          0.022163971588501516,
          0.022163971588501516,
          0.022163971588501516,
          0.022163971588501516,
          0.022202653665059933,
          0.022202653665059933,
          0.02223928844248668,
          0.02223928844248668,
          0.022274725875833484,
          0.022274725875833484,
          0.022281276587070145,
          0.022281276587070145,
          0.022286766818433106,
          0.022286766818433106,
          0.022354003256336318,
          0.022354003256336318,
          0.02239784927005344,
          0.02239784927005344,
          0.02239784927005344,
          0.02239784927005344,
          0.022398508592388844,
          0.022398508592388844,
          0.022407717070561606,
          0.02240771707056161,
          0.022440041557722154,
          0.022440041557722158,
          0.02244669513838706,
          0.02244669513838706,
          0.022446703246862508,
          0.022446703246862508,
          0.022452525375456535,
          0.022452525375456535,
          0.02250619235514238,
          0.02250619235514238,
          0.022570073064141518,
          0.02257007306414152,
          0.022582210249653584,
          0.022582210249653584,
          0.022650157544933148,
          0.02265015754493315,
          0.02265780826612531,
          0.02265780826612531,
          0.02275629904987564,
          0.022756299049875642,
          0.022841798219355964,
          0.022841798219355964,
          0.022871455780967897,
          0.022871455780967897,
          0.022900149165032434,
          0.022900149165032434,
          0.022904993355609877,
          0.02290499335560988,
          0.02292563504004197,
          0.02292563504004197,
          0.02292563504004197,
          0.02292563504004197,
          0.023011053411192448,
          0.023011053411192448,
          0.02301809178368987,
          0.02301809178368987,
          0.023081893148205496,
          0.023081893148205496,
          0.023099325371690915,
          0.023099325371690915,
          0.023113440396191714,
          0.023113440396191717,
          0.023127242417239614,
          0.023127242417239614,
          0.023130713986451872,
          0.023130713986451872,
          0.02314636150635885,
          0.02314636150635885,
          0.02323549225785038,
          0.02323549225785038,
          0.02328121106267457,
          0.02328121106267457,
          0.02337287095809269,
          0.02337287095809269,
          0.023376278137652386,
          0.023376278137652386,
          0.02343853064329529,
          0.02343853064329529,
          0.023450973030803766,
          0.023450973030803766,
          0.023464060479841578,
          0.023464060479841578,
          0.023514393700299938,
          0.023514393700299938,
          0.023543249524685936,
          0.023543249524685936,
          0.02354324952468594,
          0.02354324952468594,
          0.02355533068609043,
          0.02355533068609043,
          0.02363006399542806,
          0.02363006399542806,
          0.02369735570563,
          0.023697355705630002,
          0.023735966804610976,
          0.023735966804610976,
          0.023735966804610976,
          0.023735966804610976,
          0.023738070763415883,
          0.023738070763415883,
          0.023738070763415883,
          0.023738070763415883,
          0.023751959362213977,
          0.023751959362213977,
          0.023815786387216892,
          0.023815786387216892,
          0.023822018556559875,
          0.023822018556559875,
          0.023891137121828096,
          0.0238911371218281,
          0.02392237678596421,
          0.02392237678596421,
          0.02392237678596421,
          0.02392237678596421,
          0.023958706788368606,
          0.023958706788368606,
          0.023972346565843867,
          0.023972346565843867,
          0.02398177968560584,
          0.02398177968560584,
          0.023981779685605845,
          0.023981779685605845,
          0.024002005338422967,
          0.024002005338422967,
          0.02400706545332893,
          0.02400706545332893,
          0.02402543836685919,
          0.02402543836685919,
          0.02402946988669597,
          0.024029469886695975,
          0.024058549149000144,
          0.024058549149000144,
          0.024092370944778174,
          0.024092370944778174,
          0.024092370944778174,
          0.024092370944778174,
          0.02413599686288813,
          0.02413599686288813,
          0.024197973097322887,
          0.02419797309732289,
          0.024199614561209528,
          0.02419961456120953,
          0.024204866038743736,
          0.02420486603874374,
          0.024213102464757084,
          0.024213102464757084,
          0.024232245315418663,
          0.024232245315418663,
          0.024232245315418663,
          0.024232245315418663,
          0.024232245315418663,
          0.024232245315418663,
          0.024235415436772264,
          0.024235415436772264,
          0.024235415436772267,
          0.024235415436772267,
          0.024241893575123186,
          0.024241893575123186,
          0.02426836776117796,
          0.02426836776117796,
          0.024273800257708072,
          0.024273800257708072,
          0.024277829818813948,
          0.024277829818813948,
          0.02432952967688191,
          0.02432952967688191,
          0.024343270890559782,
          0.024343270890559786,
          0.02434813886035525,
          0.02434813886035525,
          0.02437226247695524,
          0.02437226247695524,
          0.024386902626532377,
          0.024386902626532377,
          0.02444878787030468,
          0.02444878787030468,
          0.02444878787030468,
          0.02444878787030468,
          0.02446280712075098,
          0.02446280712075098,
          0.024462807120750982,
          0.024462807120750982,
          0.02446829563285043,
          0.02446829563285043,
          0.024468295632850433,
          0.024468295632850433,
          0.024491331233443745,
          0.024491331233443745,
          0.02449176540360874,
          0.02449176540360874,
          0.02449176540360874,
          0.02449176540360874,
          0.024497839332701214,
          0.024497839332701214,
          0.024542670133484927,
          0.024542670133484927,
          0.024542670133484927,
          0.024542670133484927,
          0.0245535643190601,
          0.0245535643190601,
          0.0245535643190601,
          0.0245535643190601,
          0.024588150837112164,
          0.024588150837112164,
          0.02460635491360027,
          0.02460635491360027,
          0.024619373881857406,
          0.024619373881857406,
          0.024655769466599184,
          0.024655769466599184,
          0.02468053274963838,
          0.02468053274963838,
          0.024687221569134245,
          0.024687221569134245,
          0.024687221569134245,
          0.024687221569134245,
          0.02469055589118719,
          0.024690555891187193,
          0.0246930129184926,
          0.0246930129184926,
          0.024705920622658938,
          0.02470592062265894,
          0.024729954175659968,
          0.024729954175659968,
          0.02474708758993752,
          0.02474708758993752,
          0.02474708758993752,
          0.02474708758993752,
          0.024837387443358262,
          0.024837387443358262,
          0.024864737380871867,
          0.024864737380871867,
          0.024868723474000567,
          0.024868723474000567,
          0.024868723474000567,
          0.024868723474000567,
          0.024884604001586277,
          0.024884604001586277,
          0.02489258245629111,
          0.02489258245629111,
          0.02489258245629111,
          0.02489258245629111,
          0.0249020978085168,
          0.0249020978085168,
          0.024902437026781504,
          0.024902437026781504,
          0.024906524015129657,
          0.024906524015129657,
          0.02491815365622693,
          0.02491815365622693,
          0.02491815365622693,
          0.02491815365622693,
          0.0249341643668499,
          0.0249341643668499,
          0.02499942306027369,
          0.02499942306027369,
          0.025012496437735853,
          0.025012496437735853,
          0.025012496437735853,
          0.025012496437735853,
          0.025022195643716487,
          0.025022195643716487,
          0.025156769682894188,
          0.02515676968289419,
          0.0251636739823744,
          0.0251636739823744,
          0.025207559828169326,
          0.025207559828169326,
          0.02522412373256774,
          0.02522412373256774,
          0.02522412373256774,
          0.02522412373256774,
          0.02522412373256774,
          0.02522412373256774,
          0.02523634564868244,
          0.02523634564868244,
          0.02525917546398544,
          0.02525917546398544,
          0.025277366546650717,
          0.025277366546650717,
          0.02529551470836881,
          0.02529551470836881,
          0.025309710166867685,
          0.025309710166867685,
          0.025309710166867685,
          0.025309710166867685,
          0.025311724429385216,
          0.025311724429385216,
          0.025336854578029457,
          0.025336854578029457,
          0.025372677522604907,
          0.025372677522604907,
          0.025377849014885018,
          0.025377849014885018,
          0.025390892436965098,
          0.025390892436965098,
          0.02540902283689676,
          0.02540902283689676,
          0.02544595045946532,
          0.02544595045946532,
          0.025461424036355294,
          0.025461424036355297,
          0.025495252725389998,
          0.025495252725389998,
          0.02551078356348987,
          0.025510783563489875,
          0.02551207352748822,
          0.025512073527488223,
          0.025525287403525183,
          0.025525287403525183,
          0.025525287403525183,
          0.025525287403525183,
          0.02555564982319247,
          0.02555564982319247,
          0.02556427628586587,
          0.02556427628586587,
          0.025631232565039984,
          0.025631232565039984,
          0.025646113383539663,
          0.025646113383539663,
          0.02565437535139812,
          0.02565437535139812,
          0.02569575697836781,
          0.02569575697836781,
          0.025707921029998523,
          0.02570792102999853,
          0.025713690683913562,
          0.025713690683913562,
          0.025730956591657212,
          0.025730956591657212,
          0.025754758073800333,
          0.025754758073800333,
          0.025754758073800333,
          0.025754758073800333,
          0.025758998171771623,
          0.025758998171771623,
          0.025758998171771623,
          0.025758998171771623,
          0.025772225124469528,
          0.025772225124469528,
          0.025774884134756235,
          0.02577488413475624,
          0.02577576947082583,
          0.02577576947082583,
          0.025791024236001686,
          0.02579102423600169,
          0.02579569670345725,
          0.02579569670345725,
          0.025798571144910947,
          0.025798571144910947,
          0.025819191696910628,
          0.025819191696910628,
          0.025819191696910628,
          0.025819191696910628,
          0.025827957976481793,
          0.025827957976481793,
          0.025854217511821237,
          0.025854217511821237,
          0.0258651693244827,
          0.0258651693244827,
          0.025867992126297763,
          0.025867992126297763,
          0.02590153575658776,
          0.02590153575658776,
          0.02590153575658776,
          0.02590153575658776,
          0.025957026035940814,
          0.025957026035940814,
          0.025957026035940814,
          0.025957026035940814,
          0.025967043152382536,
          0.025967043152382536,
          0.025980819744963846,
          0.025980819744963846,
          0.02598081974496385,
          0.02598081974496385,
          0.02601278399421228,
          0.02601278399421228,
          0.02602976301886913,
          0.02602976301886913,
          0.026049772472920018,
          0.02604977247292002,
          0.026106259138570655,
          0.026106259138570655,
          0.026106259138570658,
          0.026106259138570658,
          0.02612530482212051,
          0.02612530482212051,
          0.026155051953272123,
          0.02615505195327213,
          0.026159887667902153,
          0.026159887667902153,
          0.026159887667902157,
          0.026159887667902157,
          0.026214264653614143,
          0.026214264653614143,
          0.026214264653614143,
          0.026214264653614143,
          0.026287926785985502,
          0.026287926785985502,
          0.026287926785985502,
          0.026287926785985502,
          0.026305156180016904,
          0.026305156180016904,
          0.02631883274045237,
          0.02631883274045237,
          0.02632459494823405,
          0.02632459494823405,
          0.02634348370114559,
          0.02634348370114559,
          0.026400793513896365,
          0.026400793513896365,
          0.02641583934500366,
          0.02641583934500366,
          0.02641583934500366,
          0.02641583934500366,
          0.026427410589829853,
          0.026427410589829853,
          0.02643444912962379,
          0.02643444912962379,
          0.026439690462201345,
          0.026439690462201345,
          0.02645079745068827,
          0.02645079745068827,
          0.026450860369358793,
          0.026450860369358793,
          0.026450860369358793,
          0.026450860369358793,
          0.02646953076989843,
          0.02646953076989843,
          0.0264743266864636,
          0.0264743266864636,
          0.02650543330174456,
          0.02650543330174456,
          0.026668502831795216,
          0.026668502831795216,
          0.026668502831795216,
          0.026668502831795216,
          0.02667249101731068,
          0.02667249101731068,
          0.026697425751093525,
          0.026697425751093525,
          0.026779257012514792,
          0.026779257012514792,
          0.026818849240892898,
          0.026818849240892898,
          0.026836154367997113,
          0.026836154367997113,
          0.026853722097934588,
          0.026853722097934588,
          0.02691993330290507,
          0.02691993330290507,
          0.026922974938907215,
          0.026922974938907215,
          0.02702933944661378,
          0.02702933944661378,
          0.02702933944661378,
          0.02702933944661378,
          0.027031768338982576,
          0.027031768338982576,
          0.027058843634210804,
          0.027058843634210804,
          0.02707959993505622,
          0.02707959993505622,
          0.027083979080248028,
          0.027083979080248028,
          0.02713005252576401,
          0.02713005252576401,
          0.027155557706497645,
          0.027155557706497645,
          0.027183317853927167,
          0.027183317853927167,
          0.02730655339540715,
          0.02730655339540715,
          0.02730655339540715,
          0.02730655339540715,
          0.027338265714913514,
          0.027338265714913514,
          0.027366012392308896,
          0.027366012392308896,
          0.02750867290441853,
          0.02750867290441853,
          0.02757197460501687,
          0.02757197460501687,
          0.027724669292787232,
          0.027724669292787232,
          0.027766718315296937,
          0.027766718315296937,
          0.02776865354789219,
          0.02776865354789219,
          0.02793869405425907,
          0.02793869405425907,
          0.027989741740281633,
          0.027989741740281633,
          0.028009933710156514,
          0.028009933710156514,
          0.028031509882070444,
          0.028031509882070444,
          0.028140232664170366,
          0.028140232664170366,
          0.028226022187424583,
          0.028226022187424583,
          0.028412480517131706,
          0.028412480517131706,
          0.028416065647705938,
          0.028416065647705938
         ],
         "xaxis": "x",
         "yaxis": "y"
        }
       ],
       "layout": {
        "autosize": true,
        "barmode": "relative",
        "legend": {
         "title": {
          "text": "variable"
         },
         "tracegroupgap": 0
        },
        "margin": {
         "t": 60
        },
        "template": {
         "data": {
          "bar": [
           {
            "error_x": {
             "color": "#2a3f5f"
            },
            "error_y": {
             "color": "#2a3f5f"
            },
            "marker": {
             "line": {
              "color": "#E5ECF6",
              "width": 0.5
             },
             "pattern": {
              "fillmode": "overlay",
              "size": 10,
              "solidity": 0.2
             }
            },
            "type": "bar"
           }
          ],
          "barpolar": [
           {
            "marker": {
             "line": {
              "color": "#E5ECF6",
              "width": 0.5
             },
             "pattern": {
              "fillmode": "overlay",
              "size": 10,
              "solidity": 0.2
             }
            },
            "type": "barpolar"
           }
          ],
          "carpet": [
           {
            "aaxis": {
             "endlinecolor": "#2a3f5f",
             "gridcolor": "white",
             "linecolor": "white",
             "minorgridcolor": "white",
             "startlinecolor": "#2a3f5f"
            },
            "baxis": {
             "endlinecolor": "#2a3f5f",
             "gridcolor": "white",
             "linecolor": "white",
             "minorgridcolor": "white",
             "startlinecolor": "#2a3f5f"
            },
            "type": "carpet"
           }
          ],
          "choropleth": [
           {
            "colorbar": {
             "outlinewidth": 0,
             "ticks": ""
            },
            "type": "choropleth"
           }
          ],
          "contour": [
           {
            "colorbar": {
             "outlinewidth": 0,
             "ticks": ""
            },
            "colorscale": [
             [
              0,
              "#0d0887"
             ],
             [
              0.1111111111111111,
              "#46039f"
             ],
             [
              0.2222222222222222,
              "#7201a8"
             ],
             [
              0.3333333333333333,
              "#9c179e"
             ],
             [
              0.4444444444444444,
              "#bd3786"
             ],
             [
              0.5555555555555556,
              "#d8576b"
             ],
             [
              0.6666666666666666,
              "#ed7953"
             ],
             [
              0.7777777777777778,
              "#fb9f3a"
             ],
             [
              0.8888888888888888,
              "#fdca26"
             ],
             [
              1,
              "#f0f921"
             ]
            ],
            "type": "contour"
           }
          ],
          "contourcarpet": [
           {
            "colorbar": {
             "outlinewidth": 0,
             "ticks": ""
            },
            "type": "contourcarpet"
           }
          ],
          "heatmap": [
           {
            "colorbar": {
             "outlinewidth": 0,
             "ticks": ""
            },
            "colorscale": [
             [
              0,
              "#0d0887"
             ],
             [
              0.1111111111111111,
              "#46039f"
             ],
             [
              0.2222222222222222,
              "#7201a8"
             ],
             [
              0.3333333333333333,
              "#9c179e"
             ],
             [
              0.4444444444444444,
              "#bd3786"
             ],
             [
              0.5555555555555556,
              "#d8576b"
             ],
             [
              0.6666666666666666,
              "#ed7953"
             ],
             [
              0.7777777777777778,
              "#fb9f3a"
             ],
             [
              0.8888888888888888,
              "#fdca26"
             ],
             [
              1,
              "#f0f921"
             ]
            ],
            "type": "heatmap"
           }
          ],
          "heatmapgl": [
           {
            "colorbar": {
             "outlinewidth": 0,
             "ticks": ""
            },
            "colorscale": [
             [
              0,
              "#0d0887"
             ],
             [
              0.1111111111111111,
              "#46039f"
             ],
             [
              0.2222222222222222,
              "#7201a8"
             ],
             [
              0.3333333333333333,
              "#9c179e"
             ],
             [
              0.4444444444444444,
              "#bd3786"
             ],
             [
              0.5555555555555556,
              "#d8576b"
             ],
             [
              0.6666666666666666,
              "#ed7953"
             ],
             [
              0.7777777777777778,
              "#fb9f3a"
             ],
             [
              0.8888888888888888,
              "#fdca26"
             ],
             [
              1,
              "#f0f921"
             ]
            ],
            "type": "heatmapgl"
           }
          ],
          "histogram": [
           {
            "marker": {
             "pattern": {
              "fillmode": "overlay",
              "size": 10,
              "solidity": 0.2
             }
            },
            "type": "histogram"
           }
          ],
          "histogram2d": [
           {
            "colorbar": {
             "outlinewidth": 0,
             "ticks": ""
            },
            "colorscale": [
             [
              0,
              "#0d0887"
             ],
             [
              0.1111111111111111,
              "#46039f"
             ],
             [
              0.2222222222222222,
              "#7201a8"
             ],
             [
              0.3333333333333333,
              "#9c179e"
             ],
             [
              0.4444444444444444,
              "#bd3786"
             ],
             [
              0.5555555555555556,
              "#d8576b"
             ],
             [
              0.6666666666666666,
              "#ed7953"
             ],
             [
              0.7777777777777778,
              "#fb9f3a"
             ],
             [
              0.8888888888888888,
              "#fdca26"
             ],
             [
              1,
              "#f0f921"
             ]
            ],
            "type": "histogram2d"
           }
          ],
          "histogram2dcontour": [
           {
            "colorbar": {
             "outlinewidth": 0,
             "ticks": ""
            },
            "colorscale": [
             [
              0,
              "#0d0887"
             ],
             [
              0.1111111111111111,
              "#46039f"
             ],
             [
              0.2222222222222222,
              "#7201a8"
             ],
             [
              0.3333333333333333,
              "#9c179e"
             ],
             [
              0.4444444444444444,
              "#bd3786"
             ],
             [
              0.5555555555555556,
              "#d8576b"
             ],
             [
              0.6666666666666666,
              "#ed7953"
             ],
             [
              0.7777777777777778,
              "#fb9f3a"
             ],
             [
              0.8888888888888888,
              "#fdca26"
             ],
             [
              1,
              "#f0f921"
             ]
            ],
            "type": "histogram2dcontour"
           }
          ],
          "mesh3d": [
           {
            "colorbar": {
             "outlinewidth": 0,
             "ticks": ""
            },
            "type": "mesh3d"
           }
          ],
          "parcoords": [
           {
            "line": {
             "colorbar": {
              "outlinewidth": 0,
              "ticks": ""
             }
            },
            "type": "parcoords"
           }
          ],
          "pie": [
           {
            "automargin": true,
            "type": "pie"
           }
          ],
          "scatter": [
           {
            "fillpattern": {
             "fillmode": "overlay",
             "size": 10,
             "solidity": 0.2
            },
            "type": "scatter"
           }
          ],
          "scatter3d": [
           {
            "line": {
             "colorbar": {
              "outlinewidth": 0,
              "ticks": ""
             }
            },
            "marker": {
             "colorbar": {
              "outlinewidth": 0,
              "ticks": ""
             }
            },
            "type": "scatter3d"
           }
          ],
          "scattercarpet": [
           {
            "marker": {
             "colorbar": {
              "outlinewidth": 0,
              "ticks": ""
             }
            },
            "type": "scattercarpet"
           }
          ],
          "scattergeo": [
           {
            "marker": {
             "colorbar": {
              "outlinewidth": 0,
              "ticks": ""
             }
            },
            "type": "scattergeo"
           }
          ],
          "scattergl": [
           {
            "marker": {
             "colorbar": {
              "outlinewidth": 0,
              "ticks": ""
             }
            },
            "type": "scattergl"
           }
          ],
          "scattermapbox": [
           {
            "marker": {
             "colorbar": {
              "outlinewidth": 0,
              "ticks": ""
             }
            },
            "type": "scattermapbox"
           }
          ],
          "scatterpolar": [
           {
            "marker": {
             "colorbar": {
              "outlinewidth": 0,
              "ticks": ""
             }
            },
            "type": "scatterpolar"
           }
          ],
          "scatterpolargl": [
           {
            "marker": {
             "colorbar": {
              "outlinewidth": 0,
              "ticks": ""
             }
            },
            "type": "scatterpolargl"
           }
          ],
          "scatterternary": [
           {
            "marker": {
             "colorbar": {
              "outlinewidth": 0,
              "ticks": ""
             }
            },
            "type": "scatterternary"
           }
          ],
          "surface": [
           {
            "colorbar": {
             "outlinewidth": 0,
             "ticks": ""
            },
            "colorscale": [
             [
              0,
              "#0d0887"
             ],
             [
              0.1111111111111111,
              "#46039f"
             ],
             [
              0.2222222222222222,
              "#7201a8"
             ],
             [
              0.3333333333333333,
              "#9c179e"
             ],
             [
              0.4444444444444444,
              "#bd3786"
             ],
             [
              0.5555555555555556,
              "#d8576b"
             ],
             [
              0.6666666666666666,
              "#ed7953"
             ],
             [
              0.7777777777777778,
              "#fb9f3a"
             ],
             [
              0.8888888888888888,
              "#fdca26"
             ],
             [
              1,
              "#f0f921"
             ]
            ],
            "type": "surface"
           }
          ],
          "table": [
           {
            "cells": {
             "fill": {
              "color": "#EBF0F8"
             },
             "line": {
              "color": "white"
             }
            },
            "header": {
             "fill": {
              "color": "#C8D4E3"
             },
             "line": {
              "color": "white"
             }
            },
            "type": "table"
           }
          ]
         },
         "layout": {
          "annotationdefaults": {
           "arrowcolor": "#2a3f5f",
           "arrowhead": 0,
           "arrowwidth": 1
          },
          "autotypenumbers": "strict",
          "coloraxis": {
           "colorbar": {
            "outlinewidth": 0,
            "ticks": ""
           }
          },
          "colorscale": {
           "diverging": [
            [
             0,
             "#8e0152"
            ],
            [
             0.1,
             "#c51b7d"
            ],
            [
             0.2,
             "#de77ae"
            ],
            [
             0.3,
             "#f1b6da"
            ],
            [
             0.4,
             "#fde0ef"
            ],
            [
             0.5,
             "#f7f7f7"
            ],
            [
             0.6,
             "#e6f5d0"
            ],
            [
             0.7,
             "#b8e186"
            ],
            [
             0.8,
             "#7fbc41"
            ],
            [
             0.9,
             "#4d9221"
            ],
            [
             1,
             "#276419"
            ]
           ],
           "sequential": [
            [
             0,
             "#0d0887"
            ],
            [
             0.1111111111111111,
             "#46039f"
            ],
            [
             0.2222222222222222,
             "#7201a8"
            ],
            [
             0.3333333333333333,
             "#9c179e"
            ],
            [
             0.4444444444444444,
             "#bd3786"
            ],
            [
             0.5555555555555556,
             "#d8576b"
            ],
            [
             0.6666666666666666,
             "#ed7953"
            ],
            [
             0.7777777777777778,
             "#fb9f3a"
            ],
            [
             0.8888888888888888,
             "#fdca26"
            ],
            [
             1,
             "#f0f921"
            ]
           ],
           "sequentialminus": [
            [
             0,
             "#0d0887"
            ],
            [
             0.1111111111111111,
             "#46039f"
            ],
            [
             0.2222222222222222,
             "#7201a8"
            ],
            [
             0.3333333333333333,
             "#9c179e"
            ],
            [
             0.4444444444444444,
             "#bd3786"
            ],
            [
             0.5555555555555556,
             "#d8576b"
            ],
            [
             0.6666666666666666,
             "#ed7953"
            ],
            [
             0.7777777777777778,
             "#fb9f3a"
            ],
            [
             0.8888888888888888,
             "#fdca26"
            ],
            [
             1,
             "#f0f921"
            ]
           ]
          },
          "colorway": [
           "#636efa",
           "#EF553B",
           "#00cc96",
           "#ab63fa",
           "#FFA15A",
           "#19d3f3",
           "#FF6692",
           "#B6E880",
           "#FF97FF",
           "#FECB52"
          ],
          "font": {
           "color": "#2a3f5f"
          },
          "geo": {
           "bgcolor": "white",
           "lakecolor": "white",
           "landcolor": "#E5ECF6",
           "showlakes": true,
           "showland": true,
           "subunitcolor": "white"
          },
          "hoverlabel": {
           "align": "left"
          },
          "hovermode": "closest",
          "mapbox": {
           "style": "light"
          },
          "paper_bgcolor": "white",
          "plot_bgcolor": "#E5ECF6",
          "polar": {
           "angularaxis": {
            "gridcolor": "white",
            "linecolor": "white",
            "ticks": ""
           },
           "bgcolor": "#E5ECF6",
           "radialaxis": {
            "gridcolor": "white",
            "linecolor": "white",
            "ticks": ""
           }
          },
          "scene": {
           "xaxis": {
            "backgroundcolor": "#E5ECF6",
            "gridcolor": "white",
            "gridwidth": 2,
            "linecolor": "white",
            "showbackground": true,
            "ticks": "",
            "zerolinecolor": "white"
           },
           "yaxis": {
            "backgroundcolor": "#E5ECF6",
            "gridcolor": "white",
            "gridwidth": 2,
            "linecolor": "white",
            "showbackground": true,
            "ticks": "",
            "zerolinecolor": "white"
           },
           "zaxis": {
            "backgroundcolor": "#E5ECF6",
            "gridcolor": "white",
            "gridwidth": 2,
            "linecolor": "white",
            "showbackground": true,
            "ticks": "",
            "zerolinecolor": "white"
           }
          },
          "shapedefaults": {
           "line": {
            "color": "#2a3f5f"
           }
          },
          "ternary": {
           "aaxis": {
            "gridcolor": "white",
            "linecolor": "white",
            "ticks": ""
           },
           "baxis": {
            "gridcolor": "white",
            "linecolor": "white",
            "ticks": ""
           },
           "bgcolor": "#E5ECF6",
           "caxis": {
            "gridcolor": "white",
            "linecolor": "white",
            "ticks": ""
           }
          },
          "title": {
           "x": 0.05
          },
          "xaxis": {
           "automargin": true,
           "gridcolor": "white",
           "linecolor": "white",
           "ticks": "",
           "title": {
            "standoff": 15
           },
           "zerolinecolor": "white",
           "zerolinewidth": 2
          },
          "yaxis": {
           "automargin": true,
           "gridcolor": "white",
           "linecolor": "white",
           "ticks": "",
           "title": {
            "standoff": 15
           },
           "zerolinecolor": "white",
           "zerolinewidth": 2
          }
         }
        },
        "xaxis": {
         "anchor": "y",
         "autorange": true,
         "domain": [
          0,
          1
         ],
         "range": [
          0.011500000000000002,
          0.028499999999999998
         ],
         "title": {
          "text": "value"
         },
         "type": "linear"
        },
        "yaxis": {
         "anchor": "x",
         "autorange": true,
         "domain": [
          0,
          1
         ],
         "range": [
          0,
          75.78947368421052
         ],
         "title": {
          "text": "count"
         }
        }
       }
      },
      "image/png": "[encoded data removed]",
      "text/html": [
       "<div>                            <div id=\"9cbcde81-f4d8-45d6-9338-48bc65f1dfe2\" class=\"plotly-graph-div\" style=\"height:525px; width:100%;\"></div>            <script type=\"text/javascript\">                require([\"plotly\"], function(Plotly) {                    window.PLOTLYENV=window.PLOTLYENV || {};                                    if (document.getElementById(\"9cbcde81-f4d8-45d6-9338-48bc65f1dfe2\")) {                    Plotly.newPlot(                        \"9cbcde81-f4d8-45d6-9338-48bc65f1dfe2\",                        [{\"alignmentgroup\":\"True\",\"bingroup\":\"x\",\"hovertemplate\":\"variable=std<br>value=%{x}<br>count=%{y}<extra></extra>\",\"legendgroup\":\"std\",\"marker\":{\"color\":\"#636efa\",\"pattern\":{\"shape\":\"\"}},\"name\":\"std\",\"offsetgroup\":\"std\",\"orientation\":\"v\",\"showlegend\":true,\"x\":[0.011640855646469026,0.011640855646469026,0.011640855646469026,0.011640855646469026,0.012290743167320737,0.012290743167320737,0.012370706271128455,0.012370706271128455,0.013001185090906819,0.013001185090906819,0.013015428607072608,0.013015428607072608,0.013034506570174445,0.013034506570174445,0.013719706878572423,0.013719706878572423,0.014547189994250436,0.014547189994250436,0.014547189994250436,0.014547189994250436,0.015403081652295448,0.015403081652295448,0.015516061566151474,0.015516061566151474,0.015516061566151474,0.015516061566151474,0.015769146848431937,0.015769146848431937,0.0159580697616006,0.0159580697616006,0.016347113200480948,0.016347113200480948,0.01683232590551781,0.016832325905517812,0.017032617449978405,0.017032617449978405,0.01737247467041365,0.01737247467041365,0.01737247467041365,0.01737247467041365,0.017701059847503618,0.017701059847503618,0.017993565433774915,0.017993565433774915,0.01799356543377492,0.01799356543377492,0.01814922056988083,0.01814922056988083,0.018288945193043936,0.018288945193043936,0.01849690034262927,0.01849690034262927,0.01852976762616798,0.01852976762616798,0.01861247100148261,0.01861247100148261,0.018684884920882393,0.018684884920882393,0.019130404795942097,0.019130404795942097,0.019182572449330457,0.019182572449330457,0.019205023593143414,0.019205023593143414,0.019444340837802013,0.019444340837802013,0.01961330906758993,0.01961330906758993,0.01963400276252987,0.01963400276252987,0.019646511985538778,0.019646511985538778,0.019652886542359818,0.019652886542359818,0.019652886542359818,0.019652886542359818,0.01969905770783202,0.01969905770783202,0.019704781516181234,0.019704781516181234,0.01982379166259165,0.01982379166259165,0.01991163447933637,0.01991163447933637,0.019963672349286282,0.019963672349286282,0.019967133402821784,0.019967133402821784,0.019967133402821784,0.019967133402821784,0.020036435757369974,0.020036435757369978,0.02010873602530692,0.02010873602530692,0.02018949846562161,0.02018949846562161,0.02020542721654522,0.020205427216545224,0.020276693256605537,0.020276693256605537,0.020395439061913646,0.020395439061913646,0.020395439061913646,0.020395439061913646,0.020450375423712218,0.020450375423712218,0.020450375423712218,0.020450375423712218,0.020490344357259285,0.020490344357259285,0.020544704430471846,0.020544704430471846,0.020560255793985852,0.020560255793985852,0.020594263624857924,0.020594263624857924,0.02061614367558794,0.02061614367558794,0.020673426593351602,0.020673426593351602,0.020686669034697736,0.020686669034697736,0.02078700835652931,0.02078700835652931,0.020829887248051678,0.02082988724805168,0.02085002165057632,0.02085002165057632,0.02086562736028021,0.02086562736028021,0.020898295519678017,0.020898295519678017,0.020968682436254917,0.020968682436254917,0.020981992912998956,0.020981992912998956,0.020984811546380013,0.020984811546380013,0.021000334160193704,0.021000334160193704,0.021021484410499808,0.021021484410499808,0.021052541947735457,0.021052541947735457,0.021094758662591254,0.021094758662591258,0.021122713064026077,0.02112271306402608,0.021129094991017554,0.021129094991017554,0.021158009629680334,0.021158009629680334,0.02117115806338476,0.02117115806338476,0.02127817520956456,0.02127817520956456,0.021291660295524276,0.021291660295524276,0.02129668647277801,0.02129668647277801,0.021306569711002046,0.021306569711002046,0.021327048923797477,0.021327048923797477,0.021361423597047843,0.021361423597047843,0.021474554661394852,0.021474554661394852,0.021492154516297313,0.021492154516297313,0.021518773441434907,0.021518773441434907,0.02159003341957131,0.02159003341957131,0.021615992708331006,0.021615992708331006,0.02166741944263227,0.02166741944263227,0.02175367951740662,0.02175367951740662,0.021762454770503672,0.021762454770503672,0.021768206365980057,0.021768206365980057,0.021781769530919155,0.02178176953091916,0.021792847196648653,0.021792847196648653,0.021866474713904027,0.021866474713904027,0.021869767153671664,0.021869767153671664,0.021869767153671664,0.021869767153671664,0.021873722822344212,0.021873722822344212,0.0219289639006453,0.0219289639006453,0.021929280438899915,0.021929280438899915,0.021946138081659492,0.021946138081659492,0.022002678109558305,0.022002678109558305,0.0220205028560136,0.0220205028560136,0.022147943101348058,0.022147943101348058,0.022147943101348058,0.022147943101348058,0.022163971588501516,0.022163971588501516,0.022163971588501516,0.022163971588501516,0.022202653665059933,0.022202653665059933,0.02223928844248668,0.02223928844248668,0.022274725875833484,0.022274725875833484,0.022281276587070145,0.022281276587070145,0.022286766818433106,0.022286766818433106,0.022354003256336318,0.022354003256336318,0.02239784927005344,0.02239784927005344,0.02239784927005344,0.02239784927005344,0.022398508592388844,0.022398508592388844,0.022407717070561606,0.02240771707056161,0.022440041557722154,0.022440041557722158,0.02244669513838706,0.02244669513838706,0.022446703246862508,0.022446703246862508,0.022452525375456535,0.022452525375456535,0.02250619235514238,0.02250619235514238,0.022570073064141518,0.02257007306414152,0.022582210249653584,0.022582210249653584,0.022650157544933148,0.02265015754493315,0.02265780826612531,0.02265780826612531,0.02275629904987564,0.022756299049875642,0.022841798219355964,0.022841798219355964,0.022871455780967897,0.022871455780967897,0.022900149165032434,0.022900149165032434,0.022904993355609877,0.02290499335560988,0.02292563504004197,0.02292563504004197,0.02292563504004197,0.02292563504004197,0.023011053411192448,0.023011053411192448,0.02301809178368987,0.02301809178368987,0.023081893148205496,0.023081893148205496,0.023099325371690915,0.023099325371690915,0.023113440396191714,0.023113440396191717,0.023127242417239614,0.023127242417239614,0.023130713986451872,0.023130713986451872,0.02314636150635885,0.02314636150635885,0.02323549225785038,0.02323549225785038,0.02328121106267457,0.02328121106267457,0.02337287095809269,0.02337287095809269,0.023376278137652386,0.023376278137652386,0.02343853064329529,0.02343853064329529,0.023450973030803766,0.023450973030803766,0.023464060479841578,0.023464060479841578,0.023514393700299938,0.023514393700299938,0.023543249524685936,0.023543249524685936,0.02354324952468594,0.02354324952468594,0.02355533068609043,0.02355533068609043,0.02363006399542806,0.02363006399542806,0.02369735570563,0.023697355705630002,0.023735966804610976,0.023735966804610976,0.023735966804610976,0.023735966804610976,0.023738070763415883,0.023738070763415883,0.023738070763415883,0.023738070763415883,0.023751959362213977,0.023751959362213977,0.023815786387216892,0.023815786387216892,0.023822018556559875,0.023822018556559875,0.023891137121828096,0.0238911371218281,0.02392237678596421,0.02392237678596421,0.02392237678596421,0.02392237678596421,0.023958706788368606,0.023958706788368606,0.023972346565843867,0.023972346565843867,0.02398177968560584,0.02398177968560584,0.023981779685605845,0.023981779685605845,0.024002005338422967,0.024002005338422967,0.02400706545332893,0.02400706545332893,0.02402543836685919,0.02402543836685919,0.02402946988669597,0.024029469886695975,0.024058549149000144,0.024058549149000144,0.024092370944778174,0.024092370944778174,0.024092370944778174,0.024092370944778174,0.02413599686288813,0.02413599686288813,0.024197973097322887,0.02419797309732289,0.024199614561209528,0.02419961456120953,0.024204866038743736,0.02420486603874374,0.024213102464757084,0.024213102464757084,0.024232245315418663,0.024232245315418663,0.024232245315418663,0.024232245315418663,0.024232245315418663,0.024232245315418663,0.024235415436772264,0.024235415436772264,0.024235415436772267,0.024235415436772267,0.024241893575123186,0.024241893575123186,0.02426836776117796,0.02426836776117796,0.024273800257708072,0.024273800257708072,0.024277829818813948,0.024277829818813948,0.02432952967688191,0.02432952967688191,0.024343270890559782,0.024343270890559786,0.02434813886035525,0.02434813886035525,0.02437226247695524,0.02437226247695524,0.024386902626532377,0.024386902626532377,0.02444878787030468,0.02444878787030468,0.02444878787030468,0.02444878787030468,0.02446280712075098,0.02446280712075098,0.024462807120750982,0.024462807120750982,0.02446829563285043,0.02446829563285043,0.024468295632850433,0.024468295632850433,0.024491331233443745,0.024491331233443745,0.02449176540360874,0.02449176540360874,0.02449176540360874,0.02449176540360874,0.024497839332701214,0.024497839332701214,0.024542670133484927,0.024542670133484927,0.024542670133484927,0.024542670133484927,0.0245535643190601,0.0245535643190601,0.0245535643190601,0.0245535643190601,0.024588150837112164,0.024588150837112164,0.02460635491360027,0.02460635491360027,0.024619373881857406,0.024619373881857406,0.024655769466599184,0.024655769466599184,0.02468053274963838,0.02468053274963838,0.024687221569134245,0.024687221569134245,0.024687221569134245,0.024687221569134245,0.02469055589118719,0.024690555891187193,0.0246930129184926,0.0246930129184926,0.024705920622658938,0.02470592062265894,0.024729954175659968,0.024729954175659968,0.02474708758993752,0.02474708758993752,0.02474708758993752,0.02474708758993752,0.024837387443358262,0.024837387443358262,0.024864737380871867,0.024864737380871867,0.024868723474000567,0.024868723474000567,0.024868723474000567,0.024868723474000567,0.024884604001586277,0.024884604001586277,0.02489258245629111,0.02489258245629111,0.02489258245629111,0.02489258245629111,0.0249020978085168,0.0249020978085168,0.024902437026781504,0.024902437026781504,0.024906524015129657,0.024906524015129657,0.02491815365622693,0.02491815365622693,0.02491815365622693,0.02491815365622693,0.0249341643668499,0.0249341643668499,0.02499942306027369,0.02499942306027369,0.025012496437735853,0.025012496437735853,0.025012496437735853,0.025012496437735853,0.025022195643716487,0.025022195643716487,0.025156769682894188,0.02515676968289419,0.0251636739823744,0.0251636739823744,0.025207559828169326,0.025207559828169326,0.02522412373256774,0.02522412373256774,0.02522412373256774,0.02522412373256774,0.02522412373256774,0.02522412373256774,0.02523634564868244,0.02523634564868244,0.02525917546398544,0.02525917546398544,0.025277366546650717,0.025277366546650717,0.02529551470836881,0.02529551470836881,0.025309710166867685,0.025309710166867685,0.025309710166867685,0.025309710166867685,0.025311724429385216,0.025311724429385216,0.025336854578029457,0.025336854578029457,0.025372677522604907,0.025372677522604907,0.025377849014885018,0.025377849014885018,0.025390892436965098,0.025390892436965098,0.02540902283689676,0.02540902283689676,0.02544595045946532,0.02544595045946532,0.025461424036355294,0.025461424036355297,0.025495252725389998,0.025495252725389998,0.02551078356348987,0.025510783563489875,0.02551207352748822,0.025512073527488223,0.025525287403525183,0.025525287403525183,0.025525287403525183,0.025525287403525183,0.02555564982319247,0.02555564982319247,0.02556427628586587,0.02556427628586587,0.025631232565039984,0.025631232565039984,0.025646113383539663,0.025646113383539663,0.02565437535139812,0.02565437535139812,0.02569575697836781,0.02569575697836781,0.025707921029998523,0.02570792102999853,0.025713690683913562,0.025713690683913562,0.025730956591657212,0.025730956591657212,0.025754758073800333,0.025754758073800333,0.025754758073800333,0.025754758073800333,0.025758998171771623,0.025758998171771623,0.025758998171771623,0.025758998171771623,0.025772225124469528,0.025772225124469528,0.025774884134756235,0.02577488413475624,0.02577576947082583,0.02577576947082583,0.025791024236001686,0.02579102423600169,0.02579569670345725,0.02579569670345725,0.025798571144910947,0.025798571144910947,0.025819191696910628,0.025819191696910628,0.025819191696910628,0.025819191696910628,0.025827957976481793,0.025827957976481793,0.025854217511821237,0.025854217511821237,0.0258651693244827,0.0258651693244827,0.025867992126297763,0.025867992126297763,0.02590153575658776,0.02590153575658776,0.02590153575658776,0.02590153575658776,0.025957026035940814,0.025957026035940814,0.025957026035940814,0.025957026035940814,0.025967043152382536,0.025967043152382536,0.025980819744963846,0.025980819744963846,0.02598081974496385,0.02598081974496385,0.02601278399421228,0.02601278399421228,0.02602976301886913,0.02602976301886913,0.026049772472920018,0.02604977247292002,0.026106259138570655,0.026106259138570655,0.026106259138570658,0.026106259138570658,0.02612530482212051,0.02612530482212051,0.026155051953272123,0.02615505195327213,0.026159887667902153,0.026159887667902153,0.026159887667902157,0.026159887667902157,0.026214264653614143,0.026214264653614143,0.026214264653614143,0.026214264653614143,0.026287926785985502,0.026287926785985502,0.026287926785985502,0.026287926785985502,0.026305156180016904,0.026305156180016904,0.02631883274045237,0.02631883274045237,0.02632459494823405,0.02632459494823405,0.02634348370114559,0.02634348370114559,0.026400793513896365,0.026400793513896365,0.02641583934500366,0.02641583934500366,0.02641583934500366,0.02641583934500366,0.026427410589829853,0.026427410589829853,0.02643444912962379,0.02643444912962379,0.026439690462201345,0.026439690462201345,0.02645079745068827,0.02645079745068827,0.026450860369358793,0.026450860369358793,0.026450860369358793,0.026450860369358793,0.02646953076989843,0.02646953076989843,0.0264743266864636,0.0264743266864636,0.02650543330174456,0.02650543330174456,0.026668502831795216,0.026668502831795216,0.026668502831795216,0.026668502831795216,0.02667249101731068,0.02667249101731068,0.026697425751093525,0.026697425751093525,0.026779257012514792,0.026779257012514792,0.026818849240892898,0.026818849240892898,0.026836154367997113,0.026836154367997113,0.026853722097934588,0.026853722097934588,0.02691993330290507,0.02691993330290507,0.026922974938907215,0.026922974938907215,0.02702933944661378,0.02702933944661378,0.02702933944661378,0.02702933944661378,0.027031768338982576,0.027031768338982576,0.027058843634210804,0.027058843634210804,0.02707959993505622,0.02707959993505622,0.027083979080248028,0.027083979080248028,0.02713005252576401,0.02713005252576401,0.027155557706497645,0.027155557706497645,0.027183317853927167,0.027183317853927167,0.02730655339540715,0.02730655339540715,0.02730655339540715,0.02730655339540715,0.027338265714913514,0.027338265714913514,0.027366012392308896,0.027366012392308896,0.02750867290441853,0.02750867290441853,0.02757197460501687,0.02757197460501687,0.027724669292787232,0.027724669292787232,0.027766718315296937,0.027766718315296937,0.02776865354789219,0.02776865354789219,0.02793869405425907,0.02793869405425907,0.027989741740281633,0.027989741740281633,0.028009933710156514,0.028009933710156514,0.028031509882070444,0.028031509882070444,0.028140232664170366,0.028140232664170366,0.028226022187424583,0.028226022187424583,0.028412480517131706,0.028412480517131706,0.028416065647705938,0.028416065647705938],\"xaxis\":\"x\",\"yaxis\":\"y\",\"type\":\"histogram\"}],                        {\"template\":{\"data\":{\"histogram2dcontour\":[{\"type\":\"histogram2dcontour\",\"colorbar\":{\"outlinewidth\":0,\"ticks\":\"\"},\"colorscale\":[[0.0,\"#0d0887\"],[0.1111111111111111,\"#46039f\"],[0.2222222222222222,\"#7201a8\"],[0.3333333333333333,\"#9c179e\"],[0.4444444444444444,\"#bd3786\"],[0.5555555555555556,\"#d8576b\"],[0.6666666666666666,\"#ed7953\"],[0.7777777777777778,\"#fb9f3a\"],[0.8888888888888888,\"#fdca26\"],[1.0,\"#f0f921\"]]}],\"choropleth\":[{\"type\":\"choropleth\",\"colorbar\":{\"outlinewidth\":0,\"ticks\":\"\"}}],\"histogram2d\":[{\"type\":\"histogram2d\",\"colorbar\":{\"outlinewidth\":0,\"ticks\":\"\"},\"colorscale\":[[0.0,\"#0d0887\"],[0.1111111111111111,\"#46039f\"],[0.2222222222222222,\"#7201a8\"],[0.3333333333333333,\"#9c179e\"],[0.4444444444444444,\"#bd3786\"],[0.5555555555555556,\"#d8576b\"],[0.6666666666666666,\"#ed7953\"],[0.7777777777777778,\"#fb9f3a\"],[0.8888888888888888,\"#fdca26\"],[1.0,\"#f0f921\"]]}],\"heatmap\":[{\"type\":\"heatmap\",\"colorbar\":{\"outlinewidth\":0,\"ticks\":\"\"},\"colorscale\":[[0.0,\"#0d0887\"],[0.1111111111111111,\"#46039f\"],[0.2222222222222222,\"#7201a8\"],[0.3333333333333333,\"#9c179e\"],[0.4444444444444444,\"#bd3786\"],[0.5555555555555556,\"#d8576b\"],[0.6666666666666666,\"#ed7953\"],[0.7777777777777778,\"#fb9f3a\"],[0.8888888888888888,\"#fdca26\"],[1.0,\"#f0f921\"]]}],\"heatmapgl\":[{\"type\":\"heatmapgl\",\"colorbar\":{\"outlinewidth\":0,\"ticks\":\"\"},\"colorscale\":[[0.0,\"#0d0887\"],[0.1111111111111111,\"#46039f\"],[0.2222222222222222,\"#7201a8\"],[0.3333333333333333,\"#9c179e\"],[0.4444444444444444,\"#bd3786\"],[0.5555555555555556,\"#d8576b\"],[0.6666666666666666,\"#ed7953\"],[0.7777777777777778,\"#fb9f3a\"],[0.8888888888888888,\"#fdca26\"],[1.0,\"#f0f921\"]]}],\"contourcarpet\":[{\"type\":\"contourcarpet\",\"colorbar\":{\"outlinewidth\":0,\"ticks\":\"\"}}],\"contour\":[{\"type\":\"contour\",\"colorbar\":{\"outlinewidth\":0,\"ticks\":\"\"},\"colorscale\":[[0.0,\"#0d0887\"],[0.1111111111111111,\"#46039f\"],[0.2222222222222222,\"#7201a8\"],[0.3333333333333333,\"#9c179e\"],[0.4444444444444444,\"#bd3786\"],[0.5555555555555556,\"#d8576b\"],[0.6666666666666666,\"#ed7953\"],[0.7777777777777778,\"#fb9f3a\"],[0.8888888888888888,\"#fdca26\"],[1.0,\"#f0f921\"]]}],\"surface\":[{\"type\":\"surface\",\"colorbar\":{\"outlinewidth\":0,\"ticks\":\"\"},\"colorscale\":[[0.0,\"#0d0887\"],[0.1111111111111111,\"#46039f\"],[0.2222222222222222,\"#7201a8\"],[0.3333333333333333,\"#9c179e\"],[0.4444444444444444,\"#bd3786\"],[0.5555555555555556,\"#d8576b\"],[0.6666666666666666,\"#ed7953\"],[0.7777777777777778,\"#fb9f3a\"],[0.8888888888888888,\"#fdca26\"],[1.0,\"#f0f921\"]]}],\"mesh3d\":[{\"type\":\"mesh3d\",\"colorbar\":{\"outlinewidth\":0,\"ticks\":\"\"}}],\"scatter\":[{\"fillpattern\":{\"fillmode\":\"overlay\",\"size\":10,\"solidity\":0.2},\"type\":\"scatter\"}],\"parcoords\":[{\"type\":\"parcoords\",\"line\":{\"colorbar\":{\"outlinewidth\":0,\"ticks\":\"\"}}}],\"scatterpolargl\":[{\"type\":\"scatterpolargl\",\"marker\":{\"colorbar\":{\"outlinewidth\":0,\"ticks\":\"\"}}}],\"bar\":[{\"error_x\":{\"color\":\"#2a3f5f\"},\"error_y\":{\"color\":\"#2a3f5f\"},\"marker\":{\"line\":{\"color\":\"#E5ECF6\",\"width\":0.5},\"pattern\":{\"fillmode\":\"overlay\",\"size\":10,\"solidity\":0.2}},\"type\":\"bar\"}],\"scattergeo\":[{\"type\":\"scattergeo\",\"marker\":{\"colorbar\":{\"outlinewidth\":0,\"ticks\":\"\"}}}],\"scatterpolar\":[{\"type\":\"scatterpolar\",\"marker\":{\"colorbar\":{\"outlinewidth\":0,\"ticks\":\"\"}}}],\"histogram\":[{\"marker\":{\"pattern\":{\"fillmode\":\"overlay\",\"size\":10,\"solidity\":0.2}},\"type\":\"histogram\"}],\"scattergl\":[{\"type\":\"scattergl\",\"marker\":{\"colorbar\":{\"outlinewidth\":0,\"ticks\":\"\"}}}],\"scatter3d\":[{\"type\":\"scatter3d\",\"line\":{\"colorbar\":{\"outlinewidth\":0,\"ticks\":\"\"}},\"marker\":{\"colorbar\":{\"outlinewidth\":0,\"ticks\":\"\"}}}],\"scattermapbox\":[{\"type\":\"scattermapbox\",\"marker\":{\"colorbar\":{\"outlinewidth\":0,\"ticks\":\"\"}}}],\"scatterternary\":[{\"type\":\"scatterternary\",\"marker\":{\"colorbar\":{\"outlinewidth\":0,\"ticks\":\"\"}}}],\"scattercarpet\":[{\"type\":\"scattercarpet\",\"marker\":{\"colorbar\":{\"outlinewidth\":0,\"ticks\":\"\"}}}],\"carpet\":[{\"aaxis\":{\"endlinecolor\":\"#2a3f5f\",\"gridcolor\":\"white\",\"linecolor\":\"white\",\"minorgridcolor\":\"white\",\"startlinecolor\":\"#2a3f5f\"},\"baxis\":{\"endlinecolor\":\"#2a3f5f\",\"gridcolor\":\"white\",\"linecolor\":\"white\",\"minorgridcolor\":\"white\",\"startlinecolor\":\"#2a3f5f\"},\"type\":\"carpet\"}],\"table\":[{\"cells\":{\"fill\":{\"color\":\"#EBF0F8\"},\"line\":{\"color\":\"white\"}},\"header\":{\"fill\":{\"color\":\"#C8D4E3\"},\"line\":{\"color\":\"white\"}},\"type\":\"table\"}],\"barpolar\":[{\"marker\":{\"line\":{\"color\":\"#E5ECF6\",\"width\":0.5},\"pattern\":{\"fillmode\":\"overlay\",\"size\":10,\"solidity\":0.2}},\"type\":\"barpolar\"}],\"pie\":[{\"automargin\":true,\"type\":\"pie\"}]},\"layout\":{\"autotypenumbers\":\"strict\",\"colorway\":[\"#636efa\",\"#EF553B\",\"#00cc96\",\"#ab63fa\",\"#FFA15A\",\"#19d3f3\",\"#FF6692\",\"#B6E880\",\"#FF97FF\",\"#FECB52\"],\"font\":{\"color\":\"#2a3f5f\"},\"hovermode\":\"closest\",\"hoverlabel\":{\"align\":\"left\"},\"paper_bgcolor\":\"white\",\"plot_bgcolor\":\"#E5ECF6\",\"polar\":{\"bgcolor\":\"#E5ECF6\",\"angularaxis\":{\"gridcolor\":\"white\",\"linecolor\":\"white\",\"ticks\":\"\"},\"radialaxis\":{\"gridcolor\":\"white\",\"linecolor\":\"white\",\"ticks\":\"\"}},\"ternary\":{\"bgcolor\":\"#E5ECF6\",\"aaxis\":{\"gridcolor\":\"white\",\"linecolor\":\"white\",\"ticks\":\"\"},\"baxis\":{\"gridcolor\":\"white\",\"linecolor\":\"white\",\"ticks\":\"\"},\"caxis\":{\"gridcolor\":\"white\",\"linecolor\":\"white\",\"ticks\":\"\"}},\"coloraxis\":{\"colorbar\":{\"outlinewidth\":0,\"ticks\":\"\"}},\"colorscale\":{\"sequential\":[[0.0,\"#0d0887\"],[0.1111111111111111,\"#46039f\"],[0.2222222222222222,\"#7201a8\"],[0.3333333333333333,\"#9c179e\"],[0.4444444444444444,\"#bd3786\"],[0.5555555555555556,\"#d8576b\"],[0.6666666666666666,\"#ed7953\"],[0.7777777777777778,\"#fb9f3a\"],[0.8888888888888888,\"#fdca26\"],[1.0,\"#f0f921\"]],\"sequentialminus\":[[0.0,\"#0d0887\"],[0.1111111111111111,\"#46039f\"],[0.2222222222222222,\"#7201a8\"],[0.3333333333333333,\"#9c179e\"],[0.4444444444444444,\"#bd3786\"],[0.5555555555555556,\"#d8576b\"],[0.6666666666666666,\"#ed7953\"],[0.7777777777777778,\"#fb9f3a\"],[0.8888888888888888,\"#fdca26\"],[1.0,\"#f0f921\"]],\"diverging\":[[0,\"#8e0152\"],[0.1,\"#c51b7d\"],[0.2,\"#de77ae\"],[0.3,\"#f1b6da\"],[0.4,\"#fde0ef\"],[0.5,\"#f7f7f7\"],[0.6,\"#e6f5d0\"],[0.7,\"#b8e186\"],[0.8,\"#7fbc41\"],[0.9,\"#4d9221\"],[1,\"#276419\"]]},\"xaxis\":{\"gridcolor\":\"white\",\"linecolor\":\"white\",\"ticks\":\"\",\"title\":{\"standoff\":15},\"zerolinecolor\":\"white\",\"automargin\":true,\"zerolinewidth\":2},\"yaxis\":{\"gridcolor\":\"white\",\"linecolor\":\"white\",\"ticks\":\"\",\"title\":{\"standoff\":15},\"zerolinecolor\":\"white\",\"automargin\":true,\"zerolinewidth\":2},\"scene\":{\"xaxis\":{\"backgroundcolor\":\"#E5ECF6\",\"gridcolor\":\"white\",\"linecolor\":\"white\",\"showbackground\":true,\"ticks\":\"\",\"zerolinecolor\":\"white\",\"gridwidth\":2},\"yaxis\":{\"backgroundcolor\":\"#E5ECF6\",\"gridcolor\":\"white\",\"linecolor\":\"white\",\"showbackground\":true,\"ticks\":\"\",\"zerolinecolor\":\"white\",\"gridwidth\":2},\"zaxis\":{\"backgroundcolor\":\"#E5ECF6\",\"gridcolor\":\"white\",\"linecolor\":\"white\",\"showbackground\":true,\"ticks\":\"\",\"zerolinecolor\":\"white\",\"gridwidth\":2}},\"shapedefaults\":{\"line\":{\"color\":\"#2a3f5f\"}},\"annotationdefaults\":{\"arrowcolor\":\"#2a3f5f\",\"arrowhead\":0,\"arrowwidth\":1},\"geo\":{\"bgcolor\":\"white\",\"landcolor\":\"#E5ECF6\",\"subunitcolor\":\"white\",\"showland\":true,\"showlakes\":true,\"lakecolor\":\"white\"},\"title\":{\"x\":0.05},\"mapbox\":{\"style\":\"light\"}}},\"xaxis\":{\"anchor\":\"y\",\"domain\":[0.0,1.0],\"title\":{\"text\":\"value\"}},\"yaxis\":{\"anchor\":\"x\",\"domain\":[0.0,1.0],\"title\":{\"text\":\"count\"}},\"legend\":{\"title\":{\"text\":\"variable\"},\"tracegroupgap\":0},\"margin\":{\"t\":60},\"barmode\":\"relative\"},                        {\"responsive\": true}                    ).then(function(){\n",
       "                            \n",
       "var gd = document.getElementById('9cbcde81-f4d8-45d6-9338-48bc65f1dfe2');\n",
       "var x = new MutationObserver(function (mutations, observer) {{\n",
       "        var display = window.getComputedStyle(gd).display;\n",
       "        if (!display || display === 'none') {{\n",
       "            console.log([gd, 'removed!']);\n",
       "            Plotly.purge(gd);\n",
       "            observer.disconnect();\n",
       "        }}\n",
       "}});\n",
       "\n",
       "// Listen for the removal of the full notebook cells\n",
       "var notebookContainer = gd.closest('#notebook-container');\n",
       "if (notebookContainer) {{\n",
       "    x.observe(notebookContainer, {childList: true});\n",
       "}}\n",
       "\n",
       "// Listen for the clearing of the current output cell\n",
       "var outputEl = gd.closest('.output');\n",
       "if (outputEl) {{\n",
       "    x.observe(outputEl, {childList: true});\n",
       "}}\n",
       "\n",
       "                        })                };                });            </script>        </div>"
      ]
     },
     "metadata": {},
     "output_type": "display_data"
    }
   ],
   "source": [
    "px.histogram(df.loc[\"std\"].sort_values().reset_index()[\"std\"])"
   ]
  },
  {
   "cell_type": "code",
   "execution_count": null,
   "id": "3ab22225-b06d-49d8-9621-b44eb03202a3",
   "metadata": {},
   "outputs": [],
   "source": []
  },
  {
   "cell_type": "code",
   "execution_count": null,
   "id": "6edf15b1-f2e1-4230-9716-9c02c144e8d2",
   "metadata": {},
   "outputs": [],
   "source": []
  }
 ],
 "metadata": {
  "kernelspec": {
   "display_name": "Python 3 (ipykernel)",
   "language": "python",
   "name": "python3"
  },
  "language_info": {
   "codemirror_mode": {
    "name": "ipython",
    "version": 3
   },
   "file_extension": ".py",
   "mimetype": "text/x-python",
   "name": "python",
   "nbconvert_exporter": "python",
   "pygments_lexer": "ipython3",
   "version": "3.9.15"
  }
 },
 "nbformat": 4,
 "nbformat_minor": 5
}
